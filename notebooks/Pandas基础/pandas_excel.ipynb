{
 "cells": [
  {
   "cell_type": "code",
   "execution_count": 1,
   "metadata": {
    "collapsed": true
   },
   "outputs": [],
   "source": [
    "import pandas as pd\n",
    "import os"
   ]
  },
  {
   "cell_type": "code",
   "execution_count": 2,
   "outputs": [
    {
     "name": "stdout",
     "output_type": "stream",
     "text": [
      "当前处理文件C:\\Users\\24563\\PycharmProjects\\pythonProject\\pandas数据处理\\data\\D10.xlsx\n"
     ]
    },
    {
     "name": "stderr",
     "output_type": "stream",
     "text": [
      "C:\\Users\\24563\\AppData\\Local\\Temp/ipykernel_11812/2754438967.py:33: SettingWithCopyWarning: \n",
      "A value is trying to be set on a copy of a slice from a DataFrame.\n",
      "Try using .loc[row_indexer,col_indexer] = value instead\n",
      "\n",
      "See the caveats in the documentation: https://pandas.pydata.org/pandas-docs/stable/user_guide/indexing.html#returning-a-view-versus-a-copy\n",
      "  df['车头时距'] = df['前车距离'] / df['速度']\n",
      "C:\\Users\\24563\\AppData\\Local\\Temp/ipykernel_11812/2754438967.py:35: SettingWithCopyWarning: \n",
      "A value is trying to be set on a copy of a slice from a DataFrame.\n",
      "Try using .loc[row_indexer,col_indexer] = value instead\n",
      "\n",
      "See the caveats in the documentation: https://pandas.pydata.org/pandas-docs/stable/user_guide/indexing.html#returning-a-view-versus-a-copy\n",
      "  df['相对车速绝对值'] = abs(df['前车速度'] - df['速度'])\n",
      "C:\\Users\\24563\\AppData\\Local\\Temp/ipykernel_11812/2754438967.py:36: SettingWithCopyWarning: \n",
      "A value is trying to be set on a copy of a slice from a DataFrame.\n",
      "Try using .loc[row_indexer,col_indexer] = value instead\n",
      "\n",
      "See the caveats in the documentation: https://pandas.pydata.org/pandas-docs/stable/user_guide/indexing.html#returning-a-view-versus-a-copy\n",
      "  df['碰撞时间'] = df['前车距离'] / df['相对车速绝对值']\n"
     ]
    },
    {
     "name": "stdout",
     "output_type": "stream",
     "text": [
      "当前处理文件C:\\Users\\24563\\PycharmProjects\\pythonProject\\pandas数据处理\\data\\D11.xlsx\n",
      "当前处理文件C:\\Users\\24563\\PycharmProjects\\pythonProject\\pandas数据处理\\data\\D13.xlsx\n",
      "当前处理文件C:\\Users\\24563\\PycharmProjects\\pythonProject\\pandas数据处理\\data\\D14.xlsx\n",
      "当前处理文件C:\\Users\\24563\\PycharmProjects\\pythonProject\\pandas数据处理\\data\\D15.xlsx\n",
      "当前处理文件C:\\Users\\24563\\PycharmProjects\\pythonProject\\pandas数据处理\\data\\D16.xlsx\n",
      "当前处理文件C:\\Users\\24563\\PycharmProjects\\pythonProject\\pandas数据处理\\data\\D17.xlsx\n",
      "当前处理文件C:\\Users\\24563\\PycharmProjects\\pythonProject\\pandas数据处理\\data\\D18.xlsx\n",
      "当前处理文件C:\\Users\\24563\\PycharmProjects\\pythonProject\\pandas数据处理\\data\\D19.xlsx\n",
      "当前处理文件C:\\Users\\24563\\PycharmProjects\\pythonProject\\pandas数据处理\\data\\D20.xlsx\n",
      "当前处理文件C:\\Users\\24563\\PycharmProjects\\pythonProject\\pandas数据处理\\data\\D21.xlsx\n",
      "当前处理文件C:\\Users\\24563\\PycharmProjects\\pythonProject\\pandas数据处理\\data\\D24.xlsx\n",
      "当前处理文件C:\\Users\\24563\\PycharmProjects\\pythonProject\\pandas数据处理\\data\\D25.xlsx\n",
      "当前处理文件C:\\Users\\24563\\PycharmProjects\\pythonProject\\pandas数据处理\\data\\D26.xlsx\n",
      "当前处理文件C:\\Users\\24563\\PycharmProjects\\pythonProject\\pandas数据处理\\data\\D27.xlsx\n",
      "当前处理文件C:\\Users\\24563\\PycharmProjects\\pythonProject\\pandas数据处理\\data\\D28.xlsx\n",
      "当前处理文件C:\\Users\\24563\\PycharmProjects\\pythonProject\\pandas数据处理\\data\\D29.xlsx\n",
      "当前处理文件C:\\Users\\24563\\PycharmProjects\\pythonProject\\pandas数据处理\\data\\D30.xlsx\n",
      "当前处理文件C:\\Users\\24563\\PycharmProjects\\pythonProject\\pandas数据处理\\data\\D32.xlsx\n",
      "当前处理文件C:\\Users\\24563\\PycharmProjects\\pythonProject\\pandas数据处理\\data\\D33.xlsx\n",
      "当前处理文件C:\\Users\\24563\\PycharmProjects\\pythonProject\\pandas数据处理\\data\\D34.xlsx\n",
      "当前处理文件C:\\Users\\24563\\PycharmProjects\\pythonProject\\pandas数据处理\\data\\D35.xlsx\n",
      "当前处理文件C:\\Users\\24563\\PycharmProjects\\pythonProject\\pandas数据处理\\data\\D37.xlsx\n",
      "当前处理文件C:\\Users\\24563\\PycharmProjects\\pythonProject\\pandas数据处理\\data\\D38.xlsx\n",
      "当前处理文件C:\\Users\\24563\\PycharmProjects\\pythonProject\\pandas数据处理\\data\\D4.xlsx\n",
      "当前处理文件C:\\Users\\24563\\PycharmProjects\\pythonProject\\pandas数据处理\\data\\D40.xlsx\n",
      "当前处理文件C:\\Users\\24563\\PycharmProjects\\pythonProject\\pandas数据处理\\data\\D5.xlsx\n",
      "当前处理文件C:\\Users\\24563\\PycharmProjects\\pythonProject\\pandas数据处理\\data\\D6.xlsx\n",
      "当前处理文件C:\\Users\\24563\\PycharmProjects\\pythonProject\\pandas数据处理\\data\\D7.xlsx\n",
      "当前处理文件C:\\Users\\24563\\PycharmProjects\\pythonProject\\pandas数据处理\\data\\D8.xlsx\n"
     ]
    },
    {
     "data": {
      "text/plain": "           速度       加速度        跟车间距      速度标准差      车头时距        碰撞时间  \\\n0   58.656796  0.273270  133.784386   8.719806  2.347538  131.844475   \n1   64.656378  0.424462  115.753265   8.326286  1.785484  121.421457   \n2   62.645580  0.991389   94.407414  18.269569  1.597232   24.469122   \n3   63.075288  1.184207  104.452109  21.779050  3.355652   33.152584   \n4   52.418902  0.878190  139.040109  18.372340  2.883938   43.964315   \n5   77.007816  1.990232  123.004241  26.333062  1.645378   20.651671   \n6   65.949276  1.308218   75.254878  18.773029  1.215465   21.650516   \n7   69.315512  0.429741   50.737323   7.513354  0.737128   41.348672   \n8   63.455319  1.009136   93.419871  19.928635  1.550649   17.713068   \n9   36.575237  0.673815   52.730265  13.826161  1.361750  119.212611   \n10  55.078489  0.592138  128.250368  14.641564  2.367322   99.283829   \n11  76.580625  0.951678  168.495658  26.783011  2.585065   28.775565   \n12  56.392831  0.903292  127.781860  20.137582  2.445646   85.857977   \n13  63.706144  0.901636   92.157965  21.065217  6.702961   75.311099   \n14  65.443035  1.587385   81.996031  26.389105  6.364828   34.323823   \n15  80.800083  1.376123  130.067832  19.350234  1.608724    9.131903   \n16  69.814879  0.440724  108.763738  14.831589  1.522530   30.632660   \n17  67.468621  1.038950   67.770376  16.554292  1.027090   12.298960   \n18  62.123126  1.248864   81.737094  17.195105  1.366856   54.167694   \n19  70.083161  0.869634   46.939986   7.982574  0.675615   19.610157   \n20  77.217775  0.813003  116.552388  18.379368  1.448210   14.440760   \n21        NaN       NaN         NaN        NaN       NaN         NaN   \n22  67.737075  1.325123   89.817182  23.937944  1.509087   15.046978   \n23  57.397349  0.931598  130.420000  20.463188  2.473307   65.796684   \n24  54.974385  0.900354  132.252784  20.801456  2.539193   17.959156   \n25  62.968144  0.991521  101.198445  20.509238  1.729584   27.942957   \n26  66.390992  0.611594  105.112897  14.190154  1.551745   17.070897   \n27  63.458314  1.232518   94.326384  20.595559  1.569751   29.027827   \n28  57.565752  0.674243  116.871880  15.494743  2.098472   23.275388   \n29  70.059447  0.732610  130.840891  20.103337  1.747502    9.735590   \n30  67.105088  1.053719   79.302059  20.261686  1.235549    9.114265   \n31  80.373676  0.880688   96.747147  12.468556  1.158908   20.061183   \n32  73.607743  0.459333  124.189131  15.651267  1.583495   18.272013   \n33  82.338706  0.811123  105.922545  11.753995  1.237875   13.379552   \n34  66.328009  0.951042   79.369828  18.191172  1.216983   42.990858   \n35  70.176742  0.710760  107.801369  22.070691  1.665613   11.692241   \n36  60.515339  0.765097  111.979580  18.241378  1.894407   83.360492   \n37  61.795638  0.662537   70.983481  15.550413  1.176058   24.192770   \n38  62.665583  1.266054   98.732377  22.766406  1.766965   19.436099   \n39        NaN       NaN         NaN        NaN       NaN         NaN   \n40  65.090912  1.092635   99.607744  22.666277  1.665314   18.611059   \n41  72.776118  1.013204  138.753318  19.494849  1.915598   17.723225   \n42  85.621871  0.642497   92.150875  13.150421  1.025975   74.424129   \n43  65.506474  1.012100   85.681547  19.829362  1.400355   39.094617   \n44  66.920941  1.068421  171.109558  18.780596  2.598097   16.948970   \n45  67.055905  0.471030  130.028840  13.966861  1.989145   25.574681   \n46  79.338742  0.434818  128.972563   7.652630  1.608151   12.138374   \n47  40.372312  0.532136  106.185461  13.893227  2.569690   15.657280   \n48  60.568558  1.074134  124.199659  21.659535  2.245252   27.166435   \n49  78.878903  1.015714   84.640004  29.952067  1.195689    4.945025   \n50  79.197229  0.677665  105.820182  16.568067  1.324457   11.287091   \n51  68.066120  1.295282   90.987189  25.423897  1.576226    9.997971   \n52  63.794322  0.380972  132.612544  14.661027  2.087307   26.835396   \n53  67.268698  0.878834   67.099787  17.721686  1.023794   12.430541   \n54  61.666275  0.551036   76.784791  12.363866  1.225740   34.935696   \n\n           油门     方向盘转角         刹车 驾驶员编号  \n0   13.648329  5.803491   0.659000   D10  \n1   16.682815  4.241500   5.549500   D10  \n2   31.416623  4.388025  11.671714   D10  \n3   26.830978  5.220729  21.501750   D11  \n4   23.401334  4.947429   6.831600   D13  \n5   42.016208  4.324342  28.278333   D14  \n6   38.326434  5.223933  13.536455   D14  \n7   17.073690  3.623655  12.445000   D15  \n8   27.910424  5.149388  26.642111   D15  \n9   18.809375  3.344452  10.838000   D16  \n10  19.065440  4.913128   7.715857   D17  \n11  22.341762  3.181556  12.424250   D18  \n12  26.475059  5.004615  11.194875   D18  \n13  28.638764  4.824717  26.877250   D19  \n14  38.978038  5.445861  14.983875   D20  \n15  34.284612  4.365361  16.161571   D21  \n16  16.433683  4.192557   6.950375   D21  \n17  32.601895  4.958660   8.932429   D21  \n18  38.203236  5.349866  19.787125   D24  \n19  26.760621  6.454806   4.244500   D25  \n20  35.578829  3.600050        NaN   D26  \n21        NaN       NaN        NaN   D26  \n22  34.480510  4.647755  37.582286   D26  \n23  26.832898  4.252349  16.138909   D27  \n24  25.313160  7.963822   8.418889   D28  \n25  29.911698  5.043847  16.490375   D29  \n26  22.315294  3.994500  12.348750   D30  \n27  33.648638  4.915814  11.131000   D30  \n28  20.759672  5.485690   8.887250   D32  \n29  28.256047  3.213468   9.945000   D33  \n30  34.978931  4.916814   9.624583   D33  \n31  38.369052  3.016588  16.286000   D34  \n32  34.296656  4.630000  21.520000   D34  \n33  39.894822  4.180059   9.472600   D34  \n34  42.923974  4.758425  16.216643   D34  \n35  18.304678  5.350712  17.129250   D35  \n36  22.493903  4.603381   9.925182   D35  \n37  20.714643  5.844536  14.258500   D37  \n38  34.381814  5.573700  15.562077   D37  \n39        NaN       NaN        NaN   D38  \n40  16.458153  4.899372   9.065955   D38  \n41  27.955674  2.834676  13.543750    D4  \n42  21.503349  1.742129   6.080667    D4  \n43  28.601164  4.457404  21.078125    D4  \n44  30.292680  2.513735   6.609286   D40  \n45  14.111544  4.374560  12.802000   D40  \n46  22.909253  2.566065        NaN   D40  \n47  17.110366  2.432043   0.805833   D40  \n48  26.975764  5.291017  11.530571   D40  \n49  22.295055  3.935226   9.307800    D5  \n50  21.038121  3.323371  18.077000    D6  \n51  33.033398  4.515148  16.299071    D6  \n52  12.930279  4.154983   8.022000    D7  \n53  32.026863  4.927887  17.857200    D7  \n54  20.256635  5.330550        NaN    D8  ",
      "text/html": "<div>\n<style scoped>\n    .dataframe tbody tr th:only-of-type {\n        vertical-align: middle;\n    }\n\n    .dataframe tbody tr th {\n        vertical-align: top;\n    }\n\n    .dataframe thead th {\n        text-align: right;\n    }\n</style>\n<table border=\"1\" class=\"dataframe\">\n  <thead>\n    <tr style=\"text-align: right;\">\n      <th></th>\n      <th>速度</th>\n      <th>加速度</th>\n      <th>跟车间距</th>\n      <th>速度标准差</th>\n      <th>车头时距</th>\n      <th>碰撞时间</th>\n      <th>油门</th>\n      <th>方向盘转角</th>\n      <th>刹车</th>\n      <th>驾驶员编号</th>\n    </tr>\n  </thead>\n  <tbody>\n    <tr>\n      <th>0</th>\n      <td>58.656796</td>\n      <td>0.273270</td>\n      <td>133.784386</td>\n      <td>8.719806</td>\n      <td>2.347538</td>\n      <td>131.844475</td>\n      <td>13.648329</td>\n      <td>5.803491</td>\n      <td>0.659000</td>\n      <td>D10</td>\n    </tr>\n    <tr>\n      <th>1</th>\n      <td>64.656378</td>\n      <td>0.424462</td>\n      <td>115.753265</td>\n      <td>8.326286</td>\n      <td>1.785484</td>\n      <td>121.421457</td>\n      <td>16.682815</td>\n      <td>4.241500</td>\n      <td>5.549500</td>\n      <td>D10</td>\n    </tr>\n    <tr>\n      <th>2</th>\n      <td>62.645580</td>\n      <td>0.991389</td>\n      <td>94.407414</td>\n      <td>18.269569</td>\n      <td>1.597232</td>\n      <td>24.469122</td>\n      <td>31.416623</td>\n      <td>4.388025</td>\n      <td>11.671714</td>\n      <td>D10</td>\n    </tr>\n    <tr>\n      <th>3</th>\n      <td>63.075288</td>\n      <td>1.184207</td>\n      <td>104.452109</td>\n      <td>21.779050</td>\n      <td>3.355652</td>\n      <td>33.152584</td>\n      <td>26.830978</td>\n      <td>5.220729</td>\n      <td>21.501750</td>\n      <td>D11</td>\n    </tr>\n    <tr>\n      <th>4</th>\n      <td>52.418902</td>\n      <td>0.878190</td>\n      <td>139.040109</td>\n      <td>18.372340</td>\n      <td>2.883938</td>\n      <td>43.964315</td>\n      <td>23.401334</td>\n      <td>4.947429</td>\n      <td>6.831600</td>\n      <td>D13</td>\n    </tr>\n    <tr>\n      <th>5</th>\n      <td>77.007816</td>\n      <td>1.990232</td>\n      <td>123.004241</td>\n      <td>26.333062</td>\n      <td>1.645378</td>\n      <td>20.651671</td>\n      <td>42.016208</td>\n      <td>4.324342</td>\n      <td>28.278333</td>\n      <td>D14</td>\n    </tr>\n    <tr>\n      <th>6</th>\n      <td>65.949276</td>\n      <td>1.308218</td>\n      <td>75.254878</td>\n      <td>18.773029</td>\n      <td>1.215465</td>\n      <td>21.650516</td>\n      <td>38.326434</td>\n      <td>5.223933</td>\n      <td>13.536455</td>\n      <td>D14</td>\n    </tr>\n    <tr>\n      <th>7</th>\n      <td>69.315512</td>\n      <td>0.429741</td>\n      <td>50.737323</td>\n      <td>7.513354</td>\n      <td>0.737128</td>\n      <td>41.348672</td>\n      <td>17.073690</td>\n      <td>3.623655</td>\n      <td>12.445000</td>\n      <td>D15</td>\n    </tr>\n    <tr>\n      <th>8</th>\n      <td>63.455319</td>\n      <td>1.009136</td>\n      <td>93.419871</td>\n      <td>19.928635</td>\n      <td>1.550649</td>\n      <td>17.713068</td>\n      <td>27.910424</td>\n      <td>5.149388</td>\n      <td>26.642111</td>\n      <td>D15</td>\n    </tr>\n    <tr>\n      <th>9</th>\n      <td>36.575237</td>\n      <td>0.673815</td>\n      <td>52.730265</td>\n      <td>13.826161</td>\n      <td>1.361750</td>\n      <td>119.212611</td>\n      <td>18.809375</td>\n      <td>3.344452</td>\n      <td>10.838000</td>\n      <td>D16</td>\n    </tr>\n    <tr>\n      <th>10</th>\n      <td>55.078489</td>\n      <td>0.592138</td>\n      <td>128.250368</td>\n      <td>14.641564</td>\n      <td>2.367322</td>\n      <td>99.283829</td>\n      <td>19.065440</td>\n      <td>4.913128</td>\n      <td>7.715857</td>\n      <td>D17</td>\n    </tr>\n    <tr>\n      <th>11</th>\n      <td>76.580625</td>\n      <td>0.951678</td>\n      <td>168.495658</td>\n      <td>26.783011</td>\n      <td>2.585065</td>\n      <td>28.775565</td>\n      <td>22.341762</td>\n      <td>3.181556</td>\n      <td>12.424250</td>\n      <td>D18</td>\n    </tr>\n    <tr>\n      <th>12</th>\n      <td>56.392831</td>\n      <td>0.903292</td>\n      <td>127.781860</td>\n      <td>20.137582</td>\n      <td>2.445646</td>\n      <td>85.857977</td>\n      <td>26.475059</td>\n      <td>5.004615</td>\n      <td>11.194875</td>\n      <td>D18</td>\n    </tr>\n    <tr>\n      <th>13</th>\n      <td>63.706144</td>\n      <td>0.901636</td>\n      <td>92.157965</td>\n      <td>21.065217</td>\n      <td>6.702961</td>\n      <td>75.311099</td>\n      <td>28.638764</td>\n      <td>4.824717</td>\n      <td>26.877250</td>\n      <td>D19</td>\n    </tr>\n    <tr>\n      <th>14</th>\n      <td>65.443035</td>\n      <td>1.587385</td>\n      <td>81.996031</td>\n      <td>26.389105</td>\n      <td>6.364828</td>\n      <td>34.323823</td>\n      <td>38.978038</td>\n      <td>5.445861</td>\n      <td>14.983875</td>\n      <td>D20</td>\n    </tr>\n    <tr>\n      <th>15</th>\n      <td>80.800083</td>\n      <td>1.376123</td>\n      <td>130.067832</td>\n      <td>19.350234</td>\n      <td>1.608724</td>\n      <td>9.131903</td>\n      <td>34.284612</td>\n      <td>4.365361</td>\n      <td>16.161571</td>\n      <td>D21</td>\n    </tr>\n    <tr>\n      <th>16</th>\n      <td>69.814879</td>\n      <td>0.440724</td>\n      <td>108.763738</td>\n      <td>14.831589</td>\n      <td>1.522530</td>\n      <td>30.632660</td>\n      <td>16.433683</td>\n      <td>4.192557</td>\n      <td>6.950375</td>\n      <td>D21</td>\n    </tr>\n    <tr>\n      <th>17</th>\n      <td>67.468621</td>\n      <td>1.038950</td>\n      <td>67.770376</td>\n      <td>16.554292</td>\n      <td>1.027090</td>\n      <td>12.298960</td>\n      <td>32.601895</td>\n      <td>4.958660</td>\n      <td>8.932429</td>\n      <td>D21</td>\n    </tr>\n    <tr>\n      <th>18</th>\n      <td>62.123126</td>\n      <td>1.248864</td>\n      <td>81.737094</td>\n      <td>17.195105</td>\n      <td>1.366856</td>\n      <td>54.167694</td>\n      <td>38.203236</td>\n      <td>5.349866</td>\n      <td>19.787125</td>\n      <td>D24</td>\n    </tr>\n    <tr>\n      <th>19</th>\n      <td>70.083161</td>\n      <td>0.869634</td>\n      <td>46.939986</td>\n      <td>7.982574</td>\n      <td>0.675615</td>\n      <td>19.610157</td>\n      <td>26.760621</td>\n      <td>6.454806</td>\n      <td>4.244500</td>\n      <td>D25</td>\n    </tr>\n    <tr>\n      <th>20</th>\n      <td>77.217775</td>\n      <td>0.813003</td>\n      <td>116.552388</td>\n      <td>18.379368</td>\n      <td>1.448210</td>\n      <td>14.440760</td>\n      <td>35.578829</td>\n      <td>3.600050</td>\n      <td>NaN</td>\n      <td>D26</td>\n    </tr>\n    <tr>\n      <th>21</th>\n      <td>NaN</td>\n      <td>NaN</td>\n      <td>NaN</td>\n      <td>NaN</td>\n      <td>NaN</td>\n      <td>NaN</td>\n      <td>NaN</td>\n      <td>NaN</td>\n      <td>NaN</td>\n      <td>D26</td>\n    </tr>\n    <tr>\n      <th>22</th>\n      <td>67.737075</td>\n      <td>1.325123</td>\n      <td>89.817182</td>\n      <td>23.937944</td>\n      <td>1.509087</td>\n      <td>15.046978</td>\n      <td>34.480510</td>\n      <td>4.647755</td>\n      <td>37.582286</td>\n      <td>D26</td>\n    </tr>\n    <tr>\n      <th>23</th>\n      <td>57.397349</td>\n      <td>0.931598</td>\n      <td>130.420000</td>\n      <td>20.463188</td>\n      <td>2.473307</td>\n      <td>65.796684</td>\n      <td>26.832898</td>\n      <td>4.252349</td>\n      <td>16.138909</td>\n      <td>D27</td>\n    </tr>\n    <tr>\n      <th>24</th>\n      <td>54.974385</td>\n      <td>0.900354</td>\n      <td>132.252784</td>\n      <td>20.801456</td>\n      <td>2.539193</td>\n      <td>17.959156</td>\n      <td>25.313160</td>\n      <td>7.963822</td>\n      <td>8.418889</td>\n      <td>D28</td>\n    </tr>\n    <tr>\n      <th>25</th>\n      <td>62.968144</td>\n      <td>0.991521</td>\n      <td>101.198445</td>\n      <td>20.509238</td>\n      <td>1.729584</td>\n      <td>27.942957</td>\n      <td>29.911698</td>\n      <td>5.043847</td>\n      <td>16.490375</td>\n      <td>D29</td>\n    </tr>\n    <tr>\n      <th>26</th>\n      <td>66.390992</td>\n      <td>0.611594</td>\n      <td>105.112897</td>\n      <td>14.190154</td>\n      <td>1.551745</td>\n      <td>17.070897</td>\n      <td>22.315294</td>\n      <td>3.994500</td>\n      <td>12.348750</td>\n      <td>D30</td>\n    </tr>\n    <tr>\n      <th>27</th>\n      <td>63.458314</td>\n      <td>1.232518</td>\n      <td>94.326384</td>\n      <td>20.595559</td>\n      <td>1.569751</td>\n      <td>29.027827</td>\n      <td>33.648638</td>\n      <td>4.915814</td>\n      <td>11.131000</td>\n      <td>D30</td>\n    </tr>\n    <tr>\n      <th>28</th>\n      <td>57.565752</td>\n      <td>0.674243</td>\n      <td>116.871880</td>\n      <td>15.494743</td>\n      <td>2.098472</td>\n      <td>23.275388</td>\n      <td>20.759672</td>\n      <td>5.485690</td>\n      <td>8.887250</td>\n      <td>D32</td>\n    </tr>\n    <tr>\n      <th>29</th>\n      <td>70.059447</td>\n      <td>0.732610</td>\n      <td>130.840891</td>\n      <td>20.103337</td>\n      <td>1.747502</td>\n      <td>9.735590</td>\n      <td>28.256047</td>\n      <td>3.213468</td>\n      <td>9.945000</td>\n      <td>D33</td>\n    </tr>\n    <tr>\n      <th>30</th>\n      <td>67.105088</td>\n      <td>1.053719</td>\n      <td>79.302059</td>\n      <td>20.261686</td>\n      <td>1.235549</td>\n      <td>9.114265</td>\n      <td>34.978931</td>\n      <td>4.916814</td>\n      <td>9.624583</td>\n      <td>D33</td>\n    </tr>\n    <tr>\n      <th>31</th>\n      <td>80.373676</td>\n      <td>0.880688</td>\n      <td>96.747147</td>\n      <td>12.468556</td>\n      <td>1.158908</td>\n      <td>20.061183</td>\n      <td>38.369052</td>\n      <td>3.016588</td>\n      <td>16.286000</td>\n      <td>D34</td>\n    </tr>\n    <tr>\n      <th>32</th>\n      <td>73.607743</td>\n      <td>0.459333</td>\n      <td>124.189131</td>\n      <td>15.651267</td>\n      <td>1.583495</td>\n      <td>18.272013</td>\n      <td>34.296656</td>\n      <td>4.630000</td>\n      <td>21.520000</td>\n      <td>D34</td>\n    </tr>\n    <tr>\n      <th>33</th>\n      <td>82.338706</td>\n      <td>0.811123</td>\n      <td>105.922545</td>\n      <td>11.753995</td>\n      <td>1.237875</td>\n      <td>13.379552</td>\n      <td>39.894822</td>\n      <td>4.180059</td>\n      <td>9.472600</td>\n      <td>D34</td>\n    </tr>\n    <tr>\n      <th>34</th>\n      <td>66.328009</td>\n      <td>0.951042</td>\n      <td>79.369828</td>\n      <td>18.191172</td>\n      <td>1.216983</td>\n      <td>42.990858</td>\n      <td>42.923974</td>\n      <td>4.758425</td>\n      <td>16.216643</td>\n      <td>D34</td>\n    </tr>\n    <tr>\n      <th>35</th>\n      <td>70.176742</td>\n      <td>0.710760</td>\n      <td>107.801369</td>\n      <td>22.070691</td>\n      <td>1.665613</td>\n      <td>11.692241</td>\n      <td>18.304678</td>\n      <td>5.350712</td>\n      <td>17.129250</td>\n      <td>D35</td>\n    </tr>\n    <tr>\n      <th>36</th>\n      <td>60.515339</td>\n      <td>0.765097</td>\n      <td>111.979580</td>\n      <td>18.241378</td>\n      <td>1.894407</td>\n      <td>83.360492</td>\n      <td>22.493903</td>\n      <td>4.603381</td>\n      <td>9.925182</td>\n      <td>D35</td>\n    </tr>\n    <tr>\n      <th>37</th>\n      <td>61.795638</td>\n      <td>0.662537</td>\n      <td>70.983481</td>\n      <td>15.550413</td>\n      <td>1.176058</td>\n      <td>24.192770</td>\n      <td>20.714643</td>\n      <td>5.844536</td>\n      <td>14.258500</td>\n      <td>D37</td>\n    </tr>\n    <tr>\n      <th>38</th>\n      <td>62.665583</td>\n      <td>1.266054</td>\n      <td>98.732377</td>\n      <td>22.766406</td>\n      <td>1.766965</td>\n      <td>19.436099</td>\n      <td>34.381814</td>\n      <td>5.573700</td>\n      <td>15.562077</td>\n      <td>D37</td>\n    </tr>\n    <tr>\n      <th>39</th>\n      <td>NaN</td>\n      <td>NaN</td>\n      <td>NaN</td>\n      <td>NaN</td>\n      <td>NaN</td>\n      <td>NaN</td>\n      <td>NaN</td>\n      <td>NaN</td>\n      <td>NaN</td>\n      <td>D38</td>\n    </tr>\n    <tr>\n      <th>40</th>\n      <td>65.090912</td>\n      <td>1.092635</td>\n      <td>99.607744</td>\n      <td>22.666277</td>\n      <td>1.665314</td>\n      <td>18.611059</td>\n      <td>16.458153</td>\n      <td>4.899372</td>\n      <td>9.065955</td>\n      <td>D38</td>\n    </tr>\n    <tr>\n      <th>41</th>\n      <td>72.776118</td>\n      <td>1.013204</td>\n      <td>138.753318</td>\n      <td>19.494849</td>\n      <td>1.915598</td>\n      <td>17.723225</td>\n      <td>27.955674</td>\n      <td>2.834676</td>\n      <td>13.543750</td>\n      <td>D4</td>\n    </tr>\n    <tr>\n      <th>42</th>\n      <td>85.621871</td>\n      <td>0.642497</td>\n      <td>92.150875</td>\n      <td>13.150421</td>\n      <td>1.025975</td>\n      <td>74.424129</td>\n      <td>21.503349</td>\n      <td>1.742129</td>\n      <td>6.080667</td>\n      <td>D4</td>\n    </tr>\n    <tr>\n      <th>43</th>\n      <td>65.506474</td>\n      <td>1.012100</td>\n      <td>85.681547</td>\n      <td>19.829362</td>\n      <td>1.400355</td>\n      <td>39.094617</td>\n      <td>28.601164</td>\n      <td>4.457404</td>\n      <td>21.078125</td>\n      <td>D4</td>\n    </tr>\n    <tr>\n      <th>44</th>\n      <td>66.920941</td>\n      <td>1.068421</td>\n      <td>171.109558</td>\n      <td>18.780596</td>\n      <td>2.598097</td>\n      <td>16.948970</td>\n      <td>30.292680</td>\n      <td>2.513735</td>\n      <td>6.609286</td>\n      <td>D40</td>\n    </tr>\n    <tr>\n      <th>45</th>\n      <td>67.055905</td>\n      <td>0.471030</td>\n      <td>130.028840</td>\n      <td>13.966861</td>\n      <td>1.989145</td>\n      <td>25.574681</td>\n      <td>14.111544</td>\n      <td>4.374560</td>\n      <td>12.802000</td>\n      <td>D40</td>\n    </tr>\n    <tr>\n      <th>46</th>\n      <td>79.338742</td>\n      <td>0.434818</td>\n      <td>128.972563</td>\n      <td>7.652630</td>\n      <td>1.608151</td>\n      <td>12.138374</td>\n      <td>22.909253</td>\n      <td>2.566065</td>\n      <td>NaN</td>\n      <td>D40</td>\n    </tr>\n    <tr>\n      <th>47</th>\n      <td>40.372312</td>\n      <td>0.532136</td>\n      <td>106.185461</td>\n      <td>13.893227</td>\n      <td>2.569690</td>\n      <td>15.657280</td>\n      <td>17.110366</td>\n      <td>2.432043</td>\n      <td>0.805833</td>\n      <td>D40</td>\n    </tr>\n    <tr>\n      <th>48</th>\n      <td>60.568558</td>\n      <td>1.074134</td>\n      <td>124.199659</td>\n      <td>21.659535</td>\n      <td>2.245252</td>\n      <td>27.166435</td>\n      <td>26.975764</td>\n      <td>5.291017</td>\n      <td>11.530571</td>\n      <td>D40</td>\n    </tr>\n    <tr>\n      <th>49</th>\n      <td>78.878903</td>\n      <td>1.015714</td>\n      <td>84.640004</td>\n      <td>29.952067</td>\n      <td>1.195689</td>\n      <td>4.945025</td>\n      <td>22.295055</td>\n      <td>3.935226</td>\n      <td>9.307800</td>\n      <td>D5</td>\n    </tr>\n    <tr>\n      <th>50</th>\n      <td>79.197229</td>\n      <td>0.677665</td>\n      <td>105.820182</td>\n      <td>16.568067</td>\n      <td>1.324457</td>\n      <td>11.287091</td>\n      <td>21.038121</td>\n      <td>3.323371</td>\n      <td>18.077000</td>\n      <td>D6</td>\n    </tr>\n    <tr>\n      <th>51</th>\n      <td>68.066120</td>\n      <td>1.295282</td>\n      <td>90.987189</td>\n      <td>25.423897</td>\n      <td>1.576226</td>\n      <td>9.997971</td>\n      <td>33.033398</td>\n      <td>4.515148</td>\n      <td>16.299071</td>\n      <td>D6</td>\n    </tr>\n    <tr>\n      <th>52</th>\n      <td>63.794322</td>\n      <td>0.380972</td>\n      <td>132.612544</td>\n      <td>14.661027</td>\n      <td>2.087307</td>\n      <td>26.835396</td>\n      <td>12.930279</td>\n      <td>4.154983</td>\n      <td>8.022000</td>\n      <td>D7</td>\n    </tr>\n    <tr>\n      <th>53</th>\n      <td>67.268698</td>\n      <td>0.878834</td>\n      <td>67.099787</td>\n      <td>17.721686</td>\n      <td>1.023794</td>\n      <td>12.430541</td>\n      <td>32.026863</td>\n      <td>4.927887</td>\n      <td>17.857200</td>\n      <td>D7</td>\n    </tr>\n    <tr>\n      <th>54</th>\n      <td>61.666275</td>\n      <td>0.551036</td>\n      <td>76.784791</td>\n      <td>12.363866</td>\n      <td>1.225740</td>\n      <td>34.935696</td>\n      <td>20.256635</td>\n      <td>5.330550</td>\n      <td>NaN</td>\n      <td>D8</td>\n    </tr>\n  </tbody>\n</table>\n</div>"
     },
     "execution_count": 2,
     "metadata": {},
     "output_type": "execute_result"
    }
   ],
   "source": [
    "result = pd.DataFrame()\n",
    "# 设置目录名\n",
    "directory_path = r\"C:\\Users\\24563\\PycharmProjects\\pythonProject\\pandas数据处理\\data\"\n",
    "# 跳过异常表\n",
    "list_skip_sheet = [\"Sheet1\"]\n",
    "# 获取目录下所有文件名\n",
    "filenames = os.listdir(directory_path)\n",
    "for filename in filenames:\n",
    "    # 构造文件的绝对路径\n",
    "    filepath = directory_path + os.sep + filename\n",
    "    # 获取文件的基本名(不带前缀)\n",
    "    basename = os.path.basename(filename).split('.')[0]\n",
    "    dfs = pd.read_excel(filepath, sheet_name=None)\n",
    "    print(f\"当前处理文件{filepath}\")\n",
    "    for sheetname, df in dfs.items():\n",
    "        if sheetname in list_skip_sheet:\n",
    "            continue\n",
    "        tmp = {}\n",
    "\n",
    "        error_column = ['avg_v', 'avg_a', 'avg_dis', 'std_v', 'avg_HT', 'avg_TTC', 'avg_brake', 'std_accelerator',\n",
    "                        'avg_steering_angle']\n",
    "        for attri in error_column:\n",
    "            if attri in df.columns:\n",
    "                df.drop(columns=attri, inplace=True)\n",
    "\n",
    "        df.dropna(inplace=True)\n",
    "        df = df.iloc[0:-1:20]\n",
    "\n",
    "        tmp['速度'] = df['速度'].mean()\n",
    "        tmp['加速度'] = abs(df['加速度']).mean()\n",
    "        tmp['跟车间距'] = df['前车距离'].mean()\n",
    "        tmp['速度标准差'] = df['速度'].std()\n",
    "        df['车头时距'] = df['前车距离'] / df['速度']\n",
    "        tmp['车头时距'] = df['车头时距'].mean()\n",
    "        df['相对车速绝对值'] = abs(df['前车速度'] - df['速度'])\n",
    "        df['碰撞时间'] = df['前车距离'] / df['相对车速绝对值']\n",
    "        tmp['碰撞时间'] = df['碰撞时间'].mean()\n",
    "        tmp['油门'] = df['油门'].std()\n",
    "        tmp['方向盘转角'] = abs(df['方向盘']).mean()\n",
    "        # 计算非零值的平均值\n",
    "        tmp['刹车'] = df['刹车'][df['刹车'] != 0].mean()\n",
    "        tmp['驾驶员编号'] = basename\n",
    "        result = result.append(tmp, ignore_index=True)\n",
    "\n",
    "result.to_csv('result2.csv')\n",
    "result"
   ],
   "metadata": {
    "collapsed": false,
    "pycharm": {
     "name": "#%%\n"
    }
   }
  },
  {
   "cell_type": "code",
   "execution_count": 1,
   "outputs": [],
   "source": [
    "import pandas as pd"
   ],
   "metadata": {
    "collapsed": false,
    "pycharm": {
     "name": "#%%\n"
    }
   }
  },
  {
   "cell_type": "code",
   "execution_count": 4,
   "outputs": [
    {
     "data": {
      "text/plain": "    Unnamed: 0         速度       加速度        跟车间距      速度标准差      车头时距  \\\n0            0  58.687697  0.283453  133.377441   8.695821  2.337386   \n5            5  76.731578  1.817403  122.118825  25.925384  1.650494   \n10          10  55.010968  0.600612  127.839162  14.582348  2.364100   \n15          15  80.280626  1.370294  127.775363  18.871764  1.593758   \n20          20  77.734841  0.800966  117.313277  17.287310  1.453574   \n25          25  62.840267  0.986282  100.711415  20.280704  1.726047   \n30          30  66.934512  1.146921   78.702709  20.115258  1.237145   \n35          35  70.099514  0.686409  106.798530  21.960694  1.656054   \n40          40  64.906926  1.111754   98.530736  22.451008  1.643104   \n45          45  67.019589  0.439745  129.847777  13.855717  1.986985   \n50          50  79.213933  0.693264  104.115259  16.351362  1.305951   \n\n          碰撞时间         油门     方向盘转角         刹车     驾驶员编号  \n0   288.552455  13.601847  5.844585   0.521875  D10.xlsx  \n5    39.639804  40.899676  4.335487  27.638246  D14.xlsx  \n10   73.144717  19.188250  4.938356   8.767769  D17.xlsx  \n15   20.493350  33.983484  4.345096  15.482759  D21.xlsx  \n20   11.777910  35.844870  3.469917        NaN  D26.xlsx  \n25  352.191334  29.560891  5.045247  16.689877  D29.xlsx  \n30   65.436243  34.921289  4.823038   9.873145  D33.xlsx  \n35   10.333321  17.927923  5.203421  17.085179  D35.xlsx  \n40   29.275988  16.812555  4.723262   9.030730  D38.xlsx  \n45   48.021076  14.231861  4.495221  10.004848  D40.xlsx  \n50    8.408640  21.201827  3.281901  23.042667   D6.xlsx  ",
      "text/html": "<div>\n<style scoped>\n    .dataframe tbody tr th:only-of-type {\n        vertical-align: middle;\n    }\n\n    .dataframe tbody tr th {\n        vertical-align: top;\n    }\n\n    .dataframe thead th {\n        text-align: right;\n    }\n</style>\n<table border=\"1\" class=\"dataframe\">\n  <thead>\n    <tr style=\"text-align: right;\">\n      <th></th>\n      <th>Unnamed: 0</th>\n      <th>速度</th>\n      <th>加速度</th>\n      <th>跟车间距</th>\n      <th>速度标准差</th>\n      <th>车头时距</th>\n      <th>碰撞时间</th>\n      <th>油门</th>\n      <th>方向盘转角</th>\n      <th>刹车</th>\n      <th>驾驶员编号</th>\n    </tr>\n  </thead>\n  <tbody>\n    <tr>\n      <th>0</th>\n      <td>0</td>\n      <td>58.687697</td>\n      <td>0.283453</td>\n      <td>133.377441</td>\n      <td>8.695821</td>\n      <td>2.337386</td>\n      <td>288.552455</td>\n      <td>13.601847</td>\n      <td>5.844585</td>\n      <td>0.521875</td>\n      <td>D10.xlsx</td>\n    </tr>\n    <tr>\n      <th>5</th>\n      <td>5</td>\n      <td>76.731578</td>\n      <td>1.817403</td>\n      <td>122.118825</td>\n      <td>25.925384</td>\n      <td>1.650494</td>\n      <td>39.639804</td>\n      <td>40.899676</td>\n      <td>4.335487</td>\n      <td>27.638246</td>\n      <td>D14.xlsx</td>\n    </tr>\n    <tr>\n      <th>10</th>\n      <td>10</td>\n      <td>55.010968</td>\n      <td>0.600612</td>\n      <td>127.839162</td>\n      <td>14.582348</td>\n      <td>2.364100</td>\n      <td>73.144717</td>\n      <td>19.188250</td>\n      <td>4.938356</td>\n      <td>8.767769</td>\n      <td>D17.xlsx</td>\n    </tr>\n    <tr>\n      <th>15</th>\n      <td>15</td>\n      <td>80.280626</td>\n      <td>1.370294</td>\n      <td>127.775363</td>\n      <td>18.871764</td>\n      <td>1.593758</td>\n      <td>20.493350</td>\n      <td>33.983484</td>\n      <td>4.345096</td>\n      <td>15.482759</td>\n      <td>D21.xlsx</td>\n    </tr>\n    <tr>\n      <th>20</th>\n      <td>20</td>\n      <td>77.734841</td>\n      <td>0.800966</td>\n      <td>117.313277</td>\n      <td>17.287310</td>\n      <td>1.453574</td>\n      <td>11.777910</td>\n      <td>35.844870</td>\n      <td>3.469917</td>\n      <td>NaN</td>\n      <td>D26.xlsx</td>\n    </tr>\n    <tr>\n      <th>25</th>\n      <td>25</td>\n      <td>62.840267</td>\n      <td>0.986282</td>\n      <td>100.711415</td>\n      <td>20.280704</td>\n      <td>1.726047</td>\n      <td>352.191334</td>\n      <td>29.560891</td>\n      <td>5.045247</td>\n      <td>16.689877</td>\n      <td>D29.xlsx</td>\n    </tr>\n    <tr>\n      <th>30</th>\n      <td>30</td>\n      <td>66.934512</td>\n      <td>1.146921</td>\n      <td>78.702709</td>\n      <td>20.115258</td>\n      <td>1.237145</td>\n      <td>65.436243</td>\n      <td>34.921289</td>\n      <td>4.823038</td>\n      <td>9.873145</td>\n      <td>D33.xlsx</td>\n    </tr>\n    <tr>\n      <th>35</th>\n      <td>35</td>\n      <td>70.099514</td>\n      <td>0.686409</td>\n      <td>106.798530</td>\n      <td>21.960694</td>\n      <td>1.656054</td>\n      <td>10.333321</td>\n      <td>17.927923</td>\n      <td>5.203421</td>\n      <td>17.085179</td>\n      <td>D35.xlsx</td>\n    </tr>\n    <tr>\n      <th>40</th>\n      <td>40</td>\n      <td>64.906926</td>\n      <td>1.111754</td>\n      <td>98.530736</td>\n      <td>22.451008</td>\n      <td>1.643104</td>\n      <td>29.275988</td>\n      <td>16.812555</td>\n      <td>4.723262</td>\n      <td>9.030730</td>\n      <td>D38.xlsx</td>\n    </tr>\n    <tr>\n      <th>45</th>\n      <td>45</td>\n      <td>67.019589</td>\n      <td>0.439745</td>\n      <td>129.847777</td>\n      <td>13.855717</td>\n      <td>1.986985</td>\n      <td>48.021076</td>\n      <td>14.231861</td>\n      <td>4.495221</td>\n      <td>10.004848</td>\n      <td>D40.xlsx</td>\n    </tr>\n    <tr>\n      <th>50</th>\n      <td>50</td>\n      <td>79.213933</td>\n      <td>0.693264</td>\n      <td>104.115259</td>\n      <td>16.351362</td>\n      <td>1.305951</td>\n      <td>8.408640</td>\n      <td>21.201827</td>\n      <td>3.281901</td>\n      <td>23.042667</td>\n      <td>D6.xlsx</td>\n    </tr>\n  </tbody>\n</table>\n</div>"
     },
     "execution_count": 4,
     "metadata": {},
     "output_type": "execute_result"
    }
   ],
   "source": [
    "df = pd.read_csv(\"result.csv\")\n",
    "df.iloc[0:-1:5]"
   ],
   "metadata": {
    "collapsed": false,
    "pycharm": {
     "name": "#%%\n"
    }
   }
  },
  {
   "cell_type": "code",
   "execution_count": null,
   "outputs": [],
   "source": [],
   "metadata": {
    "collapsed": false,
    "pycharm": {
     "name": "#%%\n"
    }
   }
  }
 ],
 "metadata": {
  "kernelspec": {
   "name": "pycharm-455732b2",
   "language": "python",
   "display_name": "PyCharm (XpythonProject)"
  },
  "language_info": {
   "codemirror_mode": {
    "name": "ipython",
    "version": 2
   },
   "file_extension": ".py",
   "mimetype": "text/x-python",
   "name": "python",
   "nbconvert_exporter": "python",
   "pygments_lexer": "ipython2",
   "version": "2.7.6"
  }
 },
 "nbformat": 4,
 "nbformat_minor": 0
}