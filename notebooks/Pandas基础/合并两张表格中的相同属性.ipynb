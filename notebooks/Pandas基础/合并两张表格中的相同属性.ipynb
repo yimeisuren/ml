{
 "cells": [
  {
   "cell_type": "code",
   "execution_count": 13,
   "metadata": {
    "collapsed": true
   },
   "outputs": [],
   "source": [
    "import pandas as pd\n"
   ]
  },
  {
   "cell_type": "code",
   "execution_count": 14,
   "outputs": [
    {
     "data": {
      "text/plain": "  用户名称                   用户邮箱   事业部  职级       入司时间\n0   樊坤     kun.fan@zatech.com  ZATI  T6 2017-06-01\n1   马瑞        rui.ma@za.group  ZATI  T5 2021-09-13\n2  李丰毅     fengyi.li@za.group  ZATI  T2 2021-06-24\n3  徐仲添  zhongtian.xu@za.group  ZATI  T4 2021-12-23\n4  秦越鹏   yuepeng.qin@za.group  ZATI  T3 2021-09-02",
      "text/html": "<div>\n<style scoped>\n    .dataframe tbody tr th:only-of-type {\n        vertical-align: middle;\n    }\n\n    .dataframe tbody tr th {\n        vertical-align: top;\n    }\n\n    .dataframe thead th {\n        text-align: right;\n    }\n</style>\n<table border=\"1\" class=\"dataframe\">\n  <thead>\n    <tr style=\"text-align: right;\">\n      <th></th>\n      <th>用户名称</th>\n      <th>用户邮箱</th>\n      <th>事业部</th>\n      <th>职级</th>\n      <th>入司时间</th>\n    </tr>\n  </thead>\n  <tbody>\n    <tr>\n      <th>0</th>\n      <td>樊坤</td>\n      <td>kun.fan@zatech.com</td>\n      <td>ZATI</td>\n      <td>T6</td>\n      <td>2017-06-01</td>\n    </tr>\n    <tr>\n      <th>1</th>\n      <td>马瑞</td>\n      <td>rui.ma@za.group</td>\n      <td>ZATI</td>\n      <td>T5</td>\n      <td>2021-09-13</td>\n    </tr>\n    <tr>\n      <th>2</th>\n      <td>李丰毅</td>\n      <td>fengyi.li@za.group</td>\n      <td>ZATI</td>\n      <td>T2</td>\n      <td>2021-06-24</td>\n    </tr>\n    <tr>\n      <th>3</th>\n      <td>徐仲添</td>\n      <td>zhongtian.xu@za.group</td>\n      <td>ZATI</td>\n      <td>T4</td>\n      <td>2021-12-23</td>\n    </tr>\n    <tr>\n      <th>4</th>\n      <td>秦越鹏</td>\n      <td>yuepeng.qin@za.group</td>\n      <td>ZATI</td>\n      <td>T3</td>\n      <td>2021-09-02</td>\n    </tr>\n  </tbody>\n</table>\n</div>"
     },
     "execution_count": 14,
     "metadata": {},
     "output_type": "execute_result"
    }
   ],
   "source": [
    "target = pd.read_excel('target.xlsx')\n",
    "target.head()"
   ],
   "metadata": {
    "collapsed": false,
    "pycharm": {
     "name": "#%%\n"
    }
   }
  },
  {
   "cell_type": "code",
   "execution_count": 15,
   "outputs": [
    {
     "data": {
      "text/plain": "                   0\n用户名称          object\n用户邮箱          object\n事业部           object\n职级            object\n入司时间  datetime64[ns]",
      "text/html": "<div>\n<style scoped>\n    .dataframe tbody tr th:only-of-type {\n        vertical-align: middle;\n    }\n\n    .dataframe tbody tr th {\n        vertical-align: top;\n    }\n\n    .dataframe thead th {\n        text-align: right;\n    }\n</style>\n<table border=\"1\" class=\"dataframe\">\n  <thead>\n    <tr style=\"text-align: right;\">\n      <th></th>\n      <th>0</th>\n    </tr>\n  </thead>\n  <tbody>\n    <tr>\n      <th>用户名称</th>\n      <td>object</td>\n    </tr>\n    <tr>\n      <th>用户邮箱</th>\n      <td>object</td>\n    </tr>\n    <tr>\n      <th>事业部</th>\n      <td>object</td>\n    </tr>\n    <tr>\n      <th>职级</th>\n      <td>object</td>\n    </tr>\n    <tr>\n      <th>入司时间</th>\n      <td>datetime64[ns]</td>\n    </tr>\n  </tbody>\n</table>\n</div>"
     },
     "execution_count": 15,
     "metadata": {},
     "output_type": "execute_result"
    }
   ],
   "source": [
    "target.dtypes.to_frame()"
   ],
   "metadata": {
    "collapsed": false,
    "pycharm": {
     "name": "#%%\n"
    }
   }
  },
  {
   "cell_type": "code",
   "execution_count": 16,
   "outputs": [
    {
     "data": {
      "text/plain": "    姓名                      公司邮箱   事业部  职级      入体系日期     二级部门           三级部门  \\\n0  钟海平  haiping.zhong@zatech.com  ZATI  T8 2013-09-09  ZA TECH    PROD & TECH   \n1   许炜         wayne.xu@za.group  ZATI  G5 2014-02-17      NaN            NaN   \n2  宋玄壁      bill.song@zatech.com  ZATI  G4 2014-11-17  ZA TECH            NaN   \n3  金佳泓    jiahong.jin@zatech.com  ZATI  T8 2014-12-12  ZA TECH  PROD MGR & BA   \n4  孟新伟    xinwei.meng@zatech.com  ZATI  T6 2014-12-22  ZA TECH  DELIVERY TEAM   \n\n                                 四级部门    五级部门 六级部门  员工类型  工作地  \n0                   DATA INTELLIGENCE     NaN  NaN  正式员工  上海市  \n1                                 NaN     NaN  NaN  正式员工   香港  \n2                                 NaN     NaN  NaN  正式员工   香港  \n3  PRODUCT OWNER & BA IN PRODUCT TEAM  FUSION  NaN  正式员工  上海市  \n4                          PM(INCOME)     NaN  NaN  正式员工  上海市  ",
      "text/html": "<div>\n<style scoped>\n    .dataframe tbody tr th:only-of-type {\n        vertical-align: middle;\n    }\n\n    .dataframe tbody tr th {\n        vertical-align: top;\n    }\n\n    .dataframe thead th {\n        text-align: right;\n    }\n</style>\n<table border=\"1\" class=\"dataframe\">\n  <thead>\n    <tr style=\"text-align: right;\">\n      <th></th>\n      <th>姓名</th>\n      <th>公司邮箱</th>\n      <th>事业部</th>\n      <th>职级</th>\n      <th>入体系日期</th>\n      <th>二级部门</th>\n      <th>三级部门</th>\n      <th>四级部门</th>\n      <th>五级部门</th>\n      <th>六级部门</th>\n      <th>员工类型</th>\n      <th>工作地</th>\n    </tr>\n  </thead>\n  <tbody>\n    <tr>\n      <th>0</th>\n      <td>钟海平</td>\n      <td>haiping.zhong@zatech.com</td>\n      <td>ZATI</td>\n      <td>T8</td>\n      <td>2013-09-09</td>\n      <td>ZA TECH</td>\n      <td>PROD &amp; TECH</td>\n      <td>DATA INTELLIGENCE</td>\n      <td>NaN</td>\n      <td>NaN</td>\n      <td>正式员工</td>\n      <td>上海市</td>\n    </tr>\n    <tr>\n      <th>1</th>\n      <td>许炜</td>\n      <td>wayne.xu@za.group</td>\n      <td>ZATI</td>\n      <td>G5</td>\n      <td>2014-02-17</td>\n      <td>NaN</td>\n      <td>NaN</td>\n      <td>NaN</td>\n      <td>NaN</td>\n      <td>NaN</td>\n      <td>正式员工</td>\n      <td>香港</td>\n    </tr>\n    <tr>\n      <th>2</th>\n      <td>宋玄壁</td>\n      <td>bill.song@zatech.com</td>\n      <td>ZATI</td>\n      <td>G4</td>\n      <td>2014-11-17</td>\n      <td>ZA TECH</td>\n      <td>NaN</td>\n      <td>NaN</td>\n      <td>NaN</td>\n      <td>NaN</td>\n      <td>正式员工</td>\n      <td>香港</td>\n    </tr>\n    <tr>\n      <th>3</th>\n      <td>金佳泓</td>\n      <td>jiahong.jin@zatech.com</td>\n      <td>ZATI</td>\n      <td>T8</td>\n      <td>2014-12-12</td>\n      <td>ZA TECH</td>\n      <td>PROD MGR &amp; BA</td>\n      <td>PRODUCT OWNER &amp; BA IN PRODUCT TEAM</td>\n      <td>FUSION</td>\n      <td>NaN</td>\n      <td>正式员工</td>\n      <td>上海市</td>\n    </tr>\n    <tr>\n      <th>4</th>\n      <td>孟新伟</td>\n      <td>xinwei.meng@zatech.com</td>\n      <td>ZATI</td>\n      <td>T6</td>\n      <td>2014-12-22</td>\n      <td>ZA TECH</td>\n      <td>DELIVERY TEAM</td>\n      <td>PM(INCOME)</td>\n      <td>NaN</td>\n      <td>NaN</td>\n      <td>正式员工</td>\n      <td>上海市</td>\n    </tr>\n  </tbody>\n</table>\n</div>"
     },
     "execution_count": 16,
     "metadata": {},
     "output_type": "execute_result"
    }
   ],
   "source": [
    "source = pd.read_excel('source.xlsx')\n",
    "source.head()"
   ],
   "metadata": {
    "collapsed": false,
    "pycharm": {
     "name": "#%%\n"
    }
   }
  },
  {
   "cell_type": "code",
   "execution_count": 17,
   "outputs": [
    {
     "data": {
      "text/plain": "                    0\n姓名             object\n公司邮箱           object\n事业部            object\n职级             object\n入体系日期  datetime64[ns]\n二级部门           object\n三级部门           object\n四级部门           object\n五级部门           object\n六级部门           object\n员工类型           object\n工作地            object",
      "text/html": "<div>\n<style scoped>\n    .dataframe tbody tr th:only-of-type {\n        vertical-align: middle;\n    }\n\n    .dataframe tbody tr th {\n        vertical-align: top;\n    }\n\n    .dataframe thead th {\n        text-align: right;\n    }\n</style>\n<table border=\"1\" class=\"dataframe\">\n  <thead>\n    <tr style=\"text-align: right;\">\n      <th></th>\n      <th>0</th>\n    </tr>\n  </thead>\n  <tbody>\n    <tr>\n      <th>姓名</th>\n      <td>object</td>\n    </tr>\n    <tr>\n      <th>公司邮箱</th>\n      <td>object</td>\n    </tr>\n    <tr>\n      <th>事业部</th>\n      <td>object</td>\n    </tr>\n    <tr>\n      <th>职级</th>\n      <td>object</td>\n    </tr>\n    <tr>\n      <th>入体系日期</th>\n      <td>datetime64[ns]</td>\n    </tr>\n    <tr>\n      <th>二级部门</th>\n      <td>object</td>\n    </tr>\n    <tr>\n      <th>三级部门</th>\n      <td>object</td>\n    </tr>\n    <tr>\n      <th>四级部门</th>\n      <td>object</td>\n    </tr>\n    <tr>\n      <th>五级部门</th>\n      <td>object</td>\n    </tr>\n    <tr>\n      <th>六级部门</th>\n      <td>object</td>\n    </tr>\n    <tr>\n      <th>员工类型</th>\n      <td>object</td>\n    </tr>\n    <tr>\n      <th>工作地</th>\n      <td>object</td>\n    </tr>\n  </tbody>\n</table>\n</div>"
     },
     "execution_count": 17,
     "metadata": {},
     "output_type": "execute_result"
    }
   ],
   "source": [
    "source.dtypes.to_frame()"
   ],
   "metadata": {
    "collapsed": false,
    "pycharm": {
     "name": "#%%\n"
    }
   }
  },
  {
   "cell_type": "markdown",
   "source": [
    "# pd.merge()的使用\n",
    "+ left: 左表\n",
    "+ right: 右表\n",
    "+ how: 连接方式, 内连接, 左外连接, 右外连接, 全外连接, cross\n",
    "+ left_on: 左表中的键\n",
    "+ right_on: 右表中的键\n",
    "\n",
    "缺点: 会将两张表中的同名属性全部保留下来, 需要手动挑选属性"
   ],
   "metadata": {
    "collapsed": false
   }
  },
  {
   "cell_type": "code",
   "execution_count": 30,
   "outputs": [
    {
     "data": {
      "text/plain": "      姓名                    公司邮箱   事业部  职级      入体系日期            二级部门  \\\n0     樊坤      kun.fan@zatech.com  ZATI  T6 2017-06-01         ZA TECH   \n1     马瑞         rui.ma@za.group  ZATI  T5 2021-09-13  ZA ENGINEERING   \n2    李丰毅      fengyi.li@za.group  ZATI  T2 2021-06-24  ZA ENGINEERING   \n3    徐仲添   zhongtian.xu@za.group  ZATI  T4 2021-12-23  ZA ENGINEERING   \n4    秦越鹏    yuepeng.qin@za.group  ZATI  T3 2021-09-02  ZA ENGINEERING   \n..   ...                     ...   ...  ..        ...             ...   \n337  韩佳君     jiajun.han@za.group  ZATI  T6 2021-08-16  ZA ENGINEERING   \n338  吴志文      zhiwen.wu@za.group  ZATI  T5 2021-06-10  ZA ENGINEERING   \n339  王振华   zhenhua.wang@za.group  ZATI  M2 2021-05-13         ZA BANK   \n340  侯恒悦    hengyue.hou@za.group  ZATI  T6 2021-01-11         ZA BANK   \n341  黄仁黔  renqian.huang@za.group  ZATI  T5 2019-12-23  ZA ENGINEERING   \n\n              三级部门                       四级部门      五级部门  员工类型  工作地  \n0      PROD & TECH                DEVELOPMENT  GRAPHENE  正式员工  上海市  \n1      ZA BANK ENG                        DEV      零售贷前  正式员工  上海市  \n2      ZA BANK ENG                QUALITY ENG      零售贷前  正式员工  深圳市  \n3    ZA INVEST ENG                        DEV    股票交易一组  正式员工  深圳市  \n4    ZA INSURE ENG                        DEV       NaN  正式员工  深圳市  \n..             ...                        ...       ...   ...  ...  \n337      ZA IP ENG                        DEV      客服中台  正式员工  上海市  \n338    ZA FRONTEND                        WEB    INVEST  正式员工  深圳市  \n339    BANK RETAIL               DEPOSIT & AU       NaN  正式员工   香港  \n340     OPERATIONS  CS PRODUCT & OPTIMIZATION       NaN  正式员工  深圳市  \n341    ZA FRONTEND                        APP      BANK  正式员工  深圳市  \n\n[342 rows x 11 columns]",
      "text/html": "<div>\n<style scoped>\n    .dataframe tbody tr th:only-of-type {\n        vertical-align: middle;\n    }\n\n    .dataframe tbody tr th {\n        vertical-align: top;\n    }\n\n    .dataframe thead th {\n        text-align: right;\n    }\n</style>\n<table border=\"1\" class=\"dataframe\">\n  <thead>\n    <tr style=\"text-align: right;\">\n      <th></th>\n      <th>姓名</th>\n      <th>公司邮箱</th>\n      <th>事业部</th>\n      <th>职级</th>\n      <th>入体系日期</th>\n      <th>二级部门</th>\n      <th>三级部门</th>\n      <th>四级部门</th>\n      <th>五级部门</th>\n      <th>员工类型</th>\n      <th>工作地</th>\n    </tr>\n  </thead>\n  <tbody>\n    <tr>\n      <th>0</th>\n      <td>樊坤</td>\n      <td>kun.fan@zatech.com</td>\n      <td>ZATI</td>\n      <td>T6</td>\n      <td>2017-06-01</td>\n      <td>ZA TECH</td>\n      <td>PROD &amp; TECH</td>\n      <td>DEVELOPMENT</td>\n      <td>GRAPHENE</td>\n      <td>正式员工</td>\n      <td>上海市</td>\n    </tr>\n    <tr>\n      <th>1</th>\n      <td>马瑞</td>\n      <td>rui.ma@za.group</td>\n      <td>ZATI</td>\n      <td>T5</td>\n      <td>2021-09-13</td>\n      <td>ZA ENGINEERING</td>\n      <td>ZA BANK ENG</td>\n      <td>DEV</td>\n      <td>零售贷前</td>\n      <td>正式员工</td>\n      <td>上海市</td>\n    </tr>\n    <tr>\n      <th>2</th>\n      <td>李丰毅</td>\n      <td>fengyi.li@za.group</td>\n      <td>ZATI</td>\n      <td>T2</td>\n      <td>2021-06-24</td>\n      <td>ZA ENGINEERING</td>\n      <td>ZA BANK ENG</td>\n      <td>QUALITY ENG</td>\n      <td>零售贷前</td>\n      <td>正式员工</td>\n      <td>深圳市</td>\n    </tr>\n    <tr>\n      <th>3</th>\n      <td>徐仲添</td>\n      <td>zhongtian.xu@za.group</td>\n      <td>ZATI</td>\n      <td>T4</td>\n      <td>2021-12-23</td>\n      <td>ZA ENGINEERING</td>\n      <td>ZA INVEST ENG</td>\n      <td>DEV</td>\n      <td>股票交易一组</td>\n      <td>正式员工</td>\n      <td>深圳市</td>\n    </tr>\n    <tr>\n      <th>4</th>\n      <td>秦越鹏</td>\n      <td>yuepeng.qin@za.group</td>\n      <td>ZATI</td>\n      <td>T3</td>\n      <td>2021-09-02</td>\n      <td>ZA ENGINEERING</td>\n      <td>ZA INSURE ENG</td>\n      <td>DEV</td>\n      <td>NaN</td>\n      <td>正式员工</td>\n      <td>深圳市</td>\n    </tr>\n    <tr>\n      <th>...</th>\n      <td>...</td>\n      <td>...</td>\n      <td>...</td>\n      <td>...</td>\n      <td>...</td>\n      <td>...</td>\n      <td>...</td>\n      <td>...</td>\n      <td>...</td>\n      <td>...</td>\n      <td>...</td>\n    </tr>\n    <tr>\n      <th>337</th>\n      <td>韩佳君</td>\n      <td>jiajun.han@za.group</td>\n      <td>ZATI</td>\n      <td>T6</td>\n      <td>2021-08-16</td>\n      <td>ZA ENGINEERING</td>\n      <td>ZA IP ENG</td>\n      <td>DEV</td>\n      <td>客服中台</td>\n      <td>正式员工</td>\n      <td>上海市</td>\n    </tr>\n    <tr>\n      <th>338</th>\n      <td>吴志文</td>\n      <td>zhiwen.wu@za.group</td>\n      <td>ZATI</td>\n      <td>T5</td>\n      <td>2021-06-10</td>\n      <td>ZA ENGINEERING</td>\n      <td>ZA FRONTEND</td>\n      <td>WEB</td>\n      <td>INVEST</td>\n      <td>正式员工</td>\n      <td>深圳市</td>\n    </tr>\n    <tr>\n      <th>339</th>\n      <td>王振华</td>\n      <td>zhenhua.wang@za.group</td>\n      <td>ZATI</td>\n      <td>M2</td>\n      <td>2021-05-13</td>\n      <td>ZA BANK</td>\n      <td>BANK RETAIL</td>\n      <td>DEPOSIT &amp; AU</td>\n      <td>NaN</td>\n      <td>正式员工</td>\n      <td>香港</td>\n    </tr>\n    <tr>\n      <th>340</th>\n      <td>侯恒悦</td>\n      <td>hengyue.hou@za.group</td>\n      <td>ZATI</td>\n      <td>T6</td>\n      <td>2021-01-11</td>\n      <td>ZA BANK</td>\n      <td>OPERATIONS</td>\n      <td>CS PRODUCT &amp; OPTIMIZATION</td>\n      <td>NaN</td>\n      <td>正式员工</td>\n      <td>深圳市</td>\n    </tr>\n    <tr>\n      <th>341</th>\n      <td>黄仁黔</td>\n      <td>renqian.huang@za.group</td>\n      <td>ZATI</td>\n      <td>T5</td>\n      <td>2019-12-23</td>\n      <td>ZA ENGINEERING</td>\n      <td>ZA FRONTEND</td>\n      <td>APP</td>\n      <td>BANK</td>\n      <td>正式员工</td>\n      <td>深圳市</td>\n    </tr>\n  </tbody>\n</table>\n<p>342 rows × 11 columns</p>\n</div>"
     },
     "execution_count": 30,
     "metadata": {},
     "output_type": "execute_result"
    }
   ],
   "source": [
    "# 手动挑选所需要的属性\n",
    "need_column = [\"姓名\", \"公司邮箱\", \"事业部\", \"职级\", \"入体系日期\", \"二级部门\", \"三级部门\", \"四级部门\", \"五级部门\", \"员工类型\", \"工作地\"]\n",
    "pd.merge(left=target, right=source, left_on=[\"用户名称\", \"用户邮箱\"], right_on=[\"姓名\", \"公司邮箱\"], how=\"left\",\n",
    "         suffixes=(\"_delete\", \"\"))[need_column]"
   ],
   "metadata": {
    "collapsed": false,
    "pycharm": {
     "name": "#%%\n"
    }
   }
  },
  {
   "cell_type": "markdown",
   "source": [
    "\n"
   ],
   "metadata": {
    "collapsed": false,
    "pycharm": {
     "name": "#%% md\n"
    }
   }
  }
 ],
 "metadata": {
  "kernelspec": {
   "name": "pycharm-455732b2",
   "language": "python",
   "display_name": "PyCharm (XpythonProject)"
  },
  "language_info": {
   "codemirror_mode": {
    "name": "ipython",
    "version": 2
   },
   "file_extension": ".py",
   "mimetype": "text/x-python",
   "name": "python",
   "nbconvert_exporter": "python",
   "pygments_lexer": "ipython2",
   "version": "2.7.6"
  }
 },
 "nbformat": 4,
 "nbformat_minor": 0
}