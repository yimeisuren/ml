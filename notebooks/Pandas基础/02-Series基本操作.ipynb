{
 "cells": [
  {
   "cell_type": "code",
   "execution_count": 4,
   "metadata": {
    "collapsed": true
   },
   "outputs": [],
   "source": [
    "import numpy as np\n",
    "import pandas as pd"
   ]
  },
  {
   "cell_type": "code",
   "execution_count": 5,
   "outputs": [
    {
     "data": {
      "text/plain": "0     1.0\n1     2.0\n2     3.0\n3     4.0\n4     5.0\n5     6.0\n6     7.0\n7     8.0\n8     9.0\n9    10.0\ndtype: float64"
     },
     "execution_count": 5,
     "metadata": {},
     "output_type": "execute_result"
    }
   ],
   "source": [
    "series01 = pd.Series(np.linspace(1, 10, 10))\n",
    "series01"
   ],
   "metadata": {
    "collapsed": false,
    "pycharm": {
     "name": "#%%\n"
    }
   }
  },
  {
   "cell_type": "code",
   "execution_count": 6,
   "outputs": [
    {
     "data": {
      "text/plain": "0    11.0\n1    12.0\n2    13.0\n3    14.0\n4    15.0\n5    16.0\n6    17.0\n7    18.0\n8    19.0\n9    20.0\ndtype: float64"
     },
     "execution_count": 6,
     "metadata": {},
     "output_type": "execute_result"
    }
   ],
   "source": [
    "series02 = pd.Series(np.linspace(11, 20, 10))\n",
    "series02"
   ],
   "metadata": {
    "collapsed": false,
    "pycharm": {
     "name": "#%%\n"
    }
   }
  },
  {
   "cell_type": "markdown",
   "source": [
    "# Series纵向拼接"
   ],
   "metadata": {
    "collapsed": false
   }
  },
  {
   "cell_type": "code",
   "execution_count": 14,
   "outputs": [
    {
     "data": {
      "text/plain": "0      1.0\n1      2.0\n2      3.0\n3      4.0\n4      5.0\n5      6.0\n6      7.0\n7      8.0\n8      9.0\n9     10.0\n10    11.0\n11    12.0\n12    13.0\n13    14.0\n14    15.0\n15    16.0\n16    17.0\n17    18.0\n18    19.0\n19    20.0\ndtype: float64"
     },
     "execution_count": 14,
     "metadata": {},
     "output_type": "execute_result"
    }
   ],
   "source": [
    "seriesConcat = pd.concat(objs=[series01, series02],\n",
    "                         # 重新设置索引\n",
    "                         ignore_index=True)\n",
    "seriesConcat"
   ],
   "metadata": {
    "collapsed": false,
    "pycharm": {
     "name": "#%%\n"
    }
   }
  },
  {
   "cell_type": "code",
   "execution_count": 15,
   "outputs": [
    {
     "name": "stderr",
     "output_type": "stream",
     "text": [
      "C:\\Users\\Administrator\\AppData\\Local\\Temp\\ipykernel_11740\\2213046796.py:1: FutureWarning: The series.append method is deprecated and will be removed from pandas in a future version. Use pandas.concat instead.\n",
      "  seriesConcat = series01.append(series02, ignore_index=True)\n"
     ]
    },
    {
     "data": {
      "text/plain": "0      1.0\n1      2.0\n2      3.0\n3      4.0\n4      5.0\n5      6.0\n6      7.0\n7      8.0\n8      9.0\n9     10.0\n10    11.0\n11    12.0\n12    13.0\n13    14.0\n14    15.0\n15    16.0\n16    17.0\n17    18.0\n18    19.0\n19    20.0\ndtype: float64"
     },
     "execution_count": 15,
     "metadata": {},
     "output_type": "execute_result"
    }
   ],
   "source": [
    "seriesConcat = series01.append(series02, ignore_index=True)\n",
    "seriesConcat"
   ],
   "metadata": {
    "collapsed": false,
    "pycharm": {
     "name": "#%%\n"
    }
   }
  },
  {
   "cell_type": "markdown",
   "source": [
    "# Series按指定索引删除元素"
   ],
   "metadata": {
    "collapsed": false
   }
  },
  {
   "cell_type": "code",
   "execution_count": 16,
   "outputs": [
    {
     "data": {
      "text/plain": "2      3.0\n3      4.0\n4      5.0\n5      6.0\n6      7.0\n7      8.0\n8      9.0\n9     10.0\n10    11.0\n11    12.0\n12    13.0\n13    14.0\n14    15.0\n15    16.0\n16    17.0\n17    18.0\n18    19.0\ndtype: float64"
     },
     "execution_count": 16,
     "metadata": {},
     "output_type": "execute_result"
    }
   ],
   "source": [
    "seriesDrop = seriesConcat.drop(labels=[0, 1, 19])\n",
    "seriesDrop"
   ],
   "metadata": {
    "collapsed": false,
    "pycharm": {
     "name": "#%%\n"
    }
   }
  },
  {
   "cell_type": "markdown",
   "source": [
    "# Series修改指定索引元素"
   ],
   "metadata": {
    "collapsed": false
   }
  },
  {
   "cell_type": "code",
   "execution_count": 17,
   "outputs": [
    {
     "data": {
      "text/plain": "0     hello\n1       2.0\n2       3.0\n3       4.0\n4       5.0\n5       6.0\n6       7.0\n7       8.0\n8       9.0\n9      10.0\n10     11.0\n11     12.0\n12     13.0\n13     14.0\n14     15.0\n15     16.0\n16     17.0\n17     18.0\n18     19.0\n19     20.0\ndtype: object"
     },
     "execution_count": 17,
     "metadata": {},
     "output_type": "execute_result"
    }
   ],
   "source": [
    "selectionList = [0]\n",
    "seriesConcat[selectionList] = 'hello'\n",
    "seriesConcat"
   ],
   "metadata": {
    "collapsed": false,
    "pycharm": {
     "name": "#%%\n"
    }
   }
  },
  {
   "cell_type": "code",
   "execution_count": 18,
   "outputs": [
    {
     "data": {
      "text/plain": "0     xiong\n1       2.0\n2     xiong\n3       4.0\n4     xiong\n5       6.0\n6       7.0\n7       8.0\n8       9.0\n9      10.0\n10     11.0\n11     12.0\n12     13.0\n13     14.0\n14     15.0\n15     16.0\n16     17.0\n17     18.0\n18     19.0\n19     20.0\ndtype: object"
     },
     "execution_count": 18,
     "metadata": {},
     "output_type": "execute_result"
    }
   ],
   "source": [
    "selectionList = [0, 2, 4]\n",
    "seriesConcat[selectionList] = 'xiong'\n",
    "seriesConcat"
   ],
   "metadata": {
    "collapsed": false,
    "pycharm": {
     "name": "#%%\n"
    }
   }
  },
  {
   "cell_type": "markdown",
   "source": [
    "# Series按指定索引查找元素"
   ],
   "metadata": {
    "collapsed": false
   }
  },
  {
   "cell_type": "code",
   "execution_count": 19,
   "outputs": [
    {
     "data": {
      "text/plain": "0    xiong\n2    xiong\n5      6.0\ndtype: object"
     },
     "execution_count": 19,
     "metadata": {},
     "output_type": "execute_result"
    }
   ],
   "source": [
    "selectionList = [0, 2, 5]\n",
    "seriesConcat[selectionList]\n"
   ],
   "metadata": {
    "collapsed": false,
    "pycharm": {
     "name": "#%%\n"
    }
   }
  },
  {
   "cell_type": "code",
   "execution_count": null,
   "outputs": [],
   "source": [],
   "metadata": {
    "collapsed": false,
    "pycharm": {
     "name": "#%%\n"
    }
   }
  }
 ],
 "metadata": {
  "kernelspec": {
   "name": "pycharm-455732b2",
   "language": "python",
   "display_name": "PyCharm (XpythonProject)"
  },
  "language_info": {
   "codemirror_mode": {
    "name": "ipython",
    "version": 2
   },
   "file_extension": ".py",
   "mimetype": "text/x-python",
   "name": "python",
   "nbconvert_exporter": "python",
   "pygments_lexer": "ipython2",
   "version": "2.7.6"
  }
 },
 "nbformat": 4,
 "nbformat_minor": 0
}