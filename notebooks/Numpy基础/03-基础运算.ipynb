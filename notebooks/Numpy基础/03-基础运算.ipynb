{
 "cells": [
  {
   "cell_type": "code",
   "execution_count": 9,
   "metadata": {
    "collapsed": true
   },
   "outputs": [],
   "source": [
    "import numpy as np"
   ]
  },
  {
   "cell_type": "markdown",
   "source": [
    "# 广播运算\n",
    "\n",
    "对矩阵中的每一个元素都进行相同的操作"
   ],
   "metadata": {
    "collapsed": false
   }
  },
  {
   "cell_type": "code",
   "execution_count": 10,
   "outputs": [
    {
     "data": {
      "text/plain": "array([False,  True, False, False,  True, False])"
     },
     "execution_count": 10,
     "metadata": {},
     "output_type": "execute_result"
    }
   ],
   "source": [
    "vector = np.array([1, 2, 3, 1, 2, 3])\n",
    "vector == 2"
   ],
   "metadata": {
    "collapsed": false,
    "pycharm": {
     "name": "#%%\n"
    }
   }
  },
  {
   "cell_type": "code",
   "execution_count": 11,
   "outputs": [
    {
     "data": {
      "text/plain": "array([[False,  True],\n       [False,  True],\n       [ True, False]])"
     },
     "execution_count": 11,
     "metadata": {},
     "output_type": "execute_result"
    }
   ],
   "source": [
    "array = np.array([1, 2, 3, 2, 2, 3]).reshape([-1, 2])\n",
    "array == 2"
   ],
   "metadata": {
    "collapsed": false,
    "pycharm": {
     "name": "#%%\n"
    }
   }
  },
  {
   "cell_type": "code",
   "execution_count": 12,
   "outputs": [
    {
     "data": {
      "text/plain": "array([2, 2, 2])"
     },
     "execution_count": 12,
     "metadata": {},
     "output_type": "execute_result"
    }
   ],
   "source": [
    "array[array == 2]"
   ],
   "metadata": {
    "collapsed": false,
    "pycharm": {
     "name": "#%%\n"
    }
   }
  },
  {
   "cell_type": "markdown",
   "source": [
    "# 布尔索引\n",
    "\n",
    "传入一个True和False的列表, 可以根据True的索引值作为筛选条件"
   ],
   "metadata": {
    "collapsed": false
   }
  },
  {
   "cell_type": "markdown",
   "source": [
    "**案例1: 挑选出第1列值为2的那些数据**"
   ],
   "metadata": {
    "collapsed": false
   }
  },
  {
   "cell_type": "code",
   "execution_count": 13,
   "outputs": [
    {
     "data": {
      "text/plain": "array([ True,  True, False])"
     },
     "execution_count": 13,
     "metadata": {},
     "output_type": "execute_result"
    }
   ],
   "source": [
    "condition01 = (array[:, 1] == 2)\n",
    "condition01"
   ],
   "metadata": {
    "collapsed": false,
    "pycharm": {
     "name": "#%%\n"
    }
   }
  },
  {
   "cell_type": "code",
   "execution_count": 14,
   "outputs": [
    {
     "data": {
      "text/plain": "array([[1, 2],\n       [3, 2]])"
     },
     "execution_count": 14,
     "metadata": {},
     "output_type": "execute_result"
    }
   ],
   "source": [
    "array[condition01]"
   ],
   "metadata": {
    "collapsed": false,
    "pycharm": {
     "name": "#%%\n"
    }
   }
  },
  {
   "cell_type": "markdown",
   "source": [
    "# 布尔运算\n",
    "\n",
    "+ `*`或者`&`代表and\n",
    "+ `+`或者`|`代表or"
   ],
   "metadata": {
    "collapsed": false
   }
  },
  {
   "cell_type": "code",
   "execution_count": 15,
   "outputs": [
    {
     "name": "stdout",
     "output_type": "stream",
     "text": [
      "[ True False False False]\n",
      "[ True  True  True False]\n",
      "[ True False False False]\n",
      "[ True  True  True False]\n"
     ]
    }
   ],
   "source": [
    "conditionX = np.array([True, True, False, False])\n",
    "conditionY = np.array([True, False, True, False])\n",
    "print(conditionX * conditionY)\n",
    "print(conditionX + conditionY)\n",
    "print(conditionX & conditionY)\n",
    "print(conditionX | conditionY)"
   ],
   "metadata": {
    "collapsed": false,
    "pycharm": {
     "name": "#%%\n"
    }
   }
  },
  {
   "cell_type": "markdown",
   "source": [
    "**案例2: 挑选出第1列值为2, 第0列值为1的那些数据**"
   ],
   "metadata": {
    "collapsed": false
   }
  },
  {
   "cell_type": "code",
   "execution_count": 16,
   "outputs": [
    {
     "data": {
      "text/plain": "array([[1, 2]])"
     },
     "execution_count": 16,
     "metadata": {},
     "output_type": "execute_result"
    }
   ],
   "source": [
    "condition02 = (array[:, 0] == 1)\n",
    "array[condition01 & condition02]"
   ],
   "metadata": {
    "collapsed": false,
    "pycharm": {
     "name": "#%%\n"
    }
   }
  },
  {
   "cell_type": "markdown",
   "source": [
    "# 类型转换"
   ],
   "metadata": {
    "collapsed": false
   }
  },
  {
   "cell_type": "code",
   "execution_count": 17,
   "outputs": [
    {
     "data": {
      "text/plain": "array(['1', '2', '3', '4'], dtype='<U1')"
     },
     "execution_count": 17,
     "metadata": {},
     "output_type": "execute_result"
    }
   ],
   "source": [
    "sVector = np.array([\"1\", \"2\", \"3\", \"4\"])\n",
    "sVector"
   ],
   "metadata": {
    "collapsed": false,
    "pycharm": {
     "name": "#%%\n"
    }
   }
  },
  {
   "cell_type": "code",
   "execution_count": 18,
   "outputs": [
    {
     "data": {
      "text/plain": "array([1., 2., 3., 4.])"
     },
     "execution_count": 18,
     "metadata": {},
     "output_type": "execute_result"
    }
   ],
   "source": [
    "sVector = sVector.astype(float)\n",
    "sVector"
   ],
   "metadata": {
    "collapsed": false,
    "pycharm": {
     "name": "#%%\n"
    }
   }
  },
  {
   "cell_type": "markdown",
   "source": [
    "# 行(列)的聚合操作\n",
    "**axis的计算规则**:\n",
    "+ axis=0: 去掉最外层括号后, 对原本属于同一括号的元素对应聚合\n",
    "+ axis=1: 去掉次外层括号后, 对原本属于同一括号的元素对应聚合\n",
    "\n",
    "axis=0的情况\n",
    "```\n",
    "[\n",
    "    [[1,2,3],[4,5,6],[7,8,9]],      [[1,2,3],[4,5,6],[7,8,9]],\n",
    "    +                               +\n",
    "    [[2,3,4],[5,6,7],[8,9,0]], ===> [[2,3,4],[5,6,7],[8,9,0]], ===> [[5,8,11],[14,17,20],[23,26,9]]\n",
    "    +                               +\n",
    "    [[2,3,4],[5,6,7],[8,9,0]]       [[2,3,4],[5,6,7],[8,9,0]]\n",
    "]\n",
    "```\n",
    "\n",
    "axis=1的情况\n",
    "\n",
    "```\n",
    "[                                     [                                 [\n",
    "    [[1,2,3] + [4,5,6] + [7,8,9]],      [1,2,3] + [4,5,6] + [7,8,9],      [12,15,18],\n",
    "    [[2,3,4] + [5,6,7] + [8,9,0]], ===> [2,3,4] + [5,6,7] + [8,9,0], ===> [15,18,11],\n",
    "    [[2,3,4] + [5,6,7] + [8,9,0]]       [2,3,4] + [5,6,7] + [8,9,0]       [15,18,11]\n",
    "]                                     ]                                 ]\n",
    "```\n",
    "\n",
    "axis=2的情况\n",
    "\n",
    "```\n",
    "[                                               [                                        [\n",
    "    [[1 + 2 + 3], [4 + 5 + 6], [7 + 8 + 9]],      [1 + 2 + 3, 4 + 5 + 6, 7 + 8 + 9],       [6,15,24],\n",
    "    [[2 + 3 + 4], [5 + 6 + 7], [8 + 9 + 0]], ===> [2 + 3 + 4, 5 + 6 + 7, 8 + 9 + 0], ===>  [9,18,17],\n",
    "    [[2 + 3 + 4], [5 + 6 + 7], [8 + 9 + 0]]       [2 + 3 + 4, 5 + 6 + 7, 8 + 9 + 0]        [9,18,17]\n",
    "]                                               ]                                        ]\n",
    "```"
   ],
   "metadata": {
    "collapsed": false
   }
  },
  {
   "cell_type": "code",
   "execution_count": 19,
   "outputs": [
    {
     "name": "stdout",
     "output_type": "stream",
     "text": [
      "[[1 2 3]\n",
      " [4 5 6]\n",
      " [7 8 9]]\n",
      "*******************\n",
      "[12 15 18]\n",
      "*******************\n",
      "[ 6 15 24]\n"
     ]
    }
   ],
   "source": [
    "matrix = np.arange(1, 10).reshape([3, -1])\n",
    "print(matrix)\n",
    "print(\"*******************\")\n",
    "print(matrix.sum(axis=0))\n",
    "print(\"*******************\")\n",
    "print(matrix.sum(axis=1))"
   ],
   "metadata": {
    "collapsed": false,
    "pycharm": {
     "name": "#%%\n"
    }
   }
  },
  {
   "cell_type": "code",
   "execution_count": 20,
   "outputs": [
    {
     "name": "stdout",
     "output_type": "stream",
     "text": [
      "[[[ 1  2  3]\n",
      "  [ 4  5  6]\n",
      "  [ 7  8  9]]\n",
      "\n",
      " [[10 11 12]\n",
      "  [13 14 15]\n",
      "  [16 17 18]]\n",
      "\n",
      " [[19 20 21]\n",
      "  [22 23 24]\n",
      "  [25 26 27]]]\n",
      "*******************\n",
      "[[30 33 36]\n",
      " [39 42 45]\n",
      " [48 51 54]]\n",
      "*******************\n",
      "[[12 15 18]\n",
      " [39 42 45]\n",
      " [66 69 72]]\n",
      "*******************\n",
      "[[ 6 15 24]\n",
      " [33 42 51]\n",
      " [60 69 78]]\n"
     ]
    }
   ],
   "source": [
    "tensor = np.arange(1, 28).reshape([3, 3, -1])\n",
    "print(tensor)\n",
    "print(\"*******************\")\n",
    "print(tensor.sum(axis=0))\n",
    "print(\"*******************\")\n",
    "print(tensor.sum(axis=1))\n",
    "print(\"*******************\")\n",
    "print(tensor.sum(axis=2))"
   ],
   "metadata": {
    "collapsed": false,
    "pycharm": {
     "name": "#%%\n"
    }
   }
  },
  {
   "cell_type": "code",
   "execution_count": null,
   "outputs": [],
   "source": [],
   "metadata": {
    "collapsed": false,
    "pycharm": {
     "name": "#%%\n"
    }
   }
  }
 ],
 "metadata": {
  "kernelspec": {
   "name": "pycharm-455732b2",
   "language": "python",
   "display_name": "PyCharm (XpythonProject)"
  },
  "language_info": {
   "codemirror_mode": {
    "name": "ipython",
    "version": 2
   },
   "file_extension": ".py",
   "mimetype": "text/x-python",
   "name": "python",
   "nbconvert_exporter": "python",
   "pygments_lexer": "ipython2",
   "version": "2.7.6"
  }
 },
 "nbformat": 4,
 "nbformat_minor": 0
}