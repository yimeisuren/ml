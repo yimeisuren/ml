{
 "cells": [
  {
   "cell_type": "code",
   "execution_count": 3,
   "metadata": {
    "collapsed": true
   },
   "outputs": [],
   "source": [
    "import numpy as np"
   ]
  },
  {
   "cell_type": "markdown",
   "source": [
    "# 文件读取"
   ],
   "metadata": {
    "collapsed": false
   }
  },
  {
   "cell_type": "code",
   "execution_count": 4,
   "outputs": [
    {
     "name": "stdout",
     "output_type": "stream",
     "text": [
      "[['name' 'age' 'year']\n",
      " ['root' '18' '2001']\n",
      " ['tian' '19' '2000']\n",
      " ['yun' '20' '2022']]\n",
      "<U4\n",
      "(4, 3)\n"
     ]
    }
   ],
   "source": [
    "ndarray = np.genfromtxt(\"../data/test.txt\", delimiter=',', dtype=str)\n",
    "print(ndarray)\n",
    "print(ndarray.dtype)\n",
    "print(ndarray.shape)"
   ],
   "metadata": {
    "collapsed": false,
    "pycharm": {
     "name": "#%%\n"
    }
   }
  },
  {
   "cell_type": "markdown",
   "source": [
    "# 构造向量"
   ],
   "metadata": {
    "collapsed": false
   }
  },
  {
   "cell_type": "code",
   "source": [
    "vectorX = np.array([5, 5, 5, 5])\n",
    "print(vectorX)\n",
    "print(vectorX.dtype)\n",
    "print(vectorX.shape)"
   ],
   "metadata": {
    "collapsed": false,
    "pycharm": {
     "name": "#%%\n"
    }
   },
   "execution_count": 10,
   "outputs": [
    {
     "name": "stdout",
     "output_type": "stream",
     "text": [
      "[5 5 5 5]\n",
      "int32\n",
      "(4,)\n"
     ]
    }
   ]
  },
  {
   "cell_type": "markdown",
   "source": [
    "# 重构(reshape和flatten)"
   ],
   "metadata": {
    "collapsed": false
   }
  },
  {
   "cell_type": "code",
   "source": [
    "vector_reshape01 = vectorX.reshape([4, -1])\n",
    "print(vector_reshape01)\n",
    "print(vector_reshape01.shape)\n",
    "print(vector_reshape01.flatten())"
   ],
   "metadata": {
    "collapsed": false,
    "pycharm": {
     "name": "#%%\n"
    }
   },
   "execution_count": 11,
   "outputs": [
    {
     "name": "stdout",
     "output_type": "stream",
     "text": [
      "[[5]\n",
      " [5]\n",
      " [5]\n",
      " [5]]\n",
      "(4, 1)\n",
      "[5 5 5 5]\n"
     ]
    }
   ]
  },
  {
   "cell_type": "code",
   "execution_count": 12,
   "outputs": [
    {
     "name": "stdout",
     "output_type": "stream",
     "text": [
      "[[5 5 5 5]]\n",
      "(1, 4)\n",
      "[5 5 5 5]\n"
     ]
    }
   ],
   "source": [
    "vector_reshape02 = vectorX.reshape([1, -1])\n",
    "print(vector_reshape02)\n",
    "print(vector_reshape02.shape)\n",
    "print(vector_reshape02.flatten())"
   ],
   "metadata": {
    "collapsed": false,
    "pycharm": {
     "name": "#%%\n"
    }
   }
  },
  {
   "cell_type": "markdown",
   "source": [
    "# 构造矩阵(row * column)"
   ],
   "metadata": {
    "collapsed": false
   }
  },
  {
   "cell_type": "code",
   "source": [
    "matrix = np.array([[1, 1, 1], [2, 2, 2]])\n",
    "print(matrix)\n",
    "print(matrix.dtype)\n",
    "print(matrix.shape)"
   ],
   "metadata": {
    "collapsed": false,
    "pycharm": {
     "name": "#%%\n"
    }
   },
   "execution_count": 13,
   "outputs": [
    {
     "name": "stdout",
     "output_type": "stream",
     "text": [
      "[[1 1 1]\n",
      " [2 2 2]]\n",
      "int32\n",
      "(2, 3)\n"
     ]
    }
   ]
  },
  {
   "cell_type": "code",
   "execution_count": 14,
   "outputs": [
    {
     "name": "stdout",
     "output_type": "stream",
     "text": [
      "[[5 5 5 5]]\n",
      "(1, 4)\n",
      "[5 5 5 5]\n"
     ]
    }
   ],
   "source": [
    "vector_reshape02 = vectorX.reshape([1, -1])\n",
    "print(vector_reshape02)\n",
    "print(vector_reshape02.shape)\n",
    "print(vector_reshape02.flatten())"
   ],
   "metadata": {
    "collapsed": false,
    "pycharm": {
     "name": "#%%\n"
    }
   }
  },
  {
   "cell_type": "code",
   "execution_count": 15,
   "outputs": [
    {
     "name": "stdout",
     "output_type": "stream",
     "text": [
      "[[1 1 1]\n",
      " [2 2 2]]\n",
      "int32\n",
      "(2, 3)\n"
     ]
    }
   ],
   "source": [
    "matrix = np.array([[1, 1, 1], [2, 2, 2]])\n",
    "print(matrix)\n",
    "print(matrix.dtype)\n",
    "print(matrix.shape)"
   ],
   "metadata": {
    "collapsed": false,
    "pycharm": {
     "name": "#%%\n"
    }
   }
  },
  {
   "cell_type": "code",
   "execution_count": 16,
   "outputs": [
    {
     "name": "stdout",
     "output_type": "stream",
     "text": [
      "[[1 1 1]\n",
      " [2 2 2]]\n",
      "int32\n",
      "(2, 3)\n"
     ]
    }
   ],
   "source": [
    "matrix = np.array([[1, 1, 1], [2, 2, 2]])\n",
    "print(matrix)\n",
    "print(matrix.dtype)\n",
    "print(matrix.shape)"
   ],
   "metadata": {
    "collapsed": false,
    "pycharm": {
     "name": "#%%\n"
    }
   }
  },
  {
   "cell_type": "code",
   "execution_count": 17,
   "outputs": [
    {
     "name": "stdout",
     "output_type": "stream",
     "text": [
      "[[1 1 1]\n",
      " [2 2 2]]\n",
      "int32\n",
      "(2, 3)\n"
     ]
    }
   ],
   "source": [
    "matrix = np.array([[1, 1, 1], [2, 2, 2]])\n",
    "print(matrix)\n",
    "print(matrix.dtype)\n",
    "print(matrix.shape)"
   ],
   "metadata": {
    "collapsed": false,
    "pycharm": {
     "name": "#%%\n"
    }
   }
  },
  {
   "cell_type": "markdown",
   "source": [
    "# 生成特殊矩阵"
   ],
   "metadata": {
    "collapsed": false
   }
  },
  {
   "cell_type": "code",
   "execution_count": 18,
   "outputs": [
    {
     "name": "stdout",
     "output_type": "stream",
     "text": [
      "[1 1 1 1 1]\n"
     ]
    }
   ],
   "source": [
    "ones = np.array([1] * 5)\n",
    "print(ones)\n"
   ],
   "metadata": {
    "collapsed": false,
    "pycharm": {
     "name": "#%%\n"
    }
   }
  },
  {
   "cell_type": "code",
   "execution_count": 20,
   "outputs": [
    {
     "data": {
      "text/plain": "array([1., 1., 1., 1., 1.])"
     },
     "execution_count": 20,
     "metadata": {},
     "output_type": "execute_result"
    }
   ],
   "source": [
    "# 与上面的效果相同\n",
    "np.ones(5)"
   ],
   "metadata": {
    "collapsed": false,
    "pycharm": {
     "name": "#%%\n"
    }
   }
  },
  {
   "cell_type": "code",
   "execution_count": 23,
   "outputs": [
    {
     "data": {
      "text/plain": "<function numpy.diag(v, k=0)>"
     },
     "execution_count": 23,
     "metadata": {},
     "output_type": "execute_result"
    }
   ],
   "source": [
    "np.diag"
   ],
   "metadata": {
    "collapsed": false,
    "pycharm": {
     "name": "#%%\n"
    }
   }
  },
  {
   "cell_type": "markdown",
   "source": [
    "对角矩阵, 需要提供主对角线上的元素列表"
   ],
   "metadata": {
    "collapsed": false
   }
  },
  {
   "cell_type": "code",
   "execution_count": 24,
   "outputs": [
    {
     "data": {
      "text/plain": "array([[1, 0, 0, 0, 0, 0],\n       [0, 2, 0, 0, 0, 0],\n       [0, 0, 3, 0, 0, 0],\n       [0, 0, 0, 4, 0, 0],\n       [0, 0, 0, 0, 5, 0],\n       [0, 0, 0, 0, 0, 6]])"
     },
     "execution_count": 24,
     "metadata": {},
     "output_type": "execute_result"
    }
   ],
   "source": [
    "np.diag([1, 2, 3, 4, 5, 6])"
   ],
   "metadata": {
    "collapsed": false,
    "pycharm": {
     "name": "#%%\n"
    }
   }
  },
  {
   "cell_type": "markdown",
   "source": [
    "根据上下限和步长生成矩阵"
   ],
   "metadata": {
    "collapsed": false
   }
  },
  {
   "cell_type": "code",
   "execution_count": 25,
   "outputs": [
    {
     "data": {
      "text/plain": "array([1. , 1.1, 1.2, 1.3, 1.4, 1.5, 1.6, 1.7, 1.8, 1.9, 2. , 2.1, 2.2,\n       2.3, 2.4, 2.5, 2.6, 2.7, 2.8, 2.9, 3. , 3.1, 3.2, 3.3, 3.4, 3.5,\n       3.6, 3.7, 3.8, 3.9, 4. , 4.1, 4.2, 4.3, 4.4, 4.5, 4.6, 4.7, 4.8,\n       4.9, 5. , 5.1, 5.2, 5.3, 5.4, 5.5, 5.6, 5.7, 5.8, 5.9, 6. , 6.1,\n       6.2])"
     },
     "execution_count": 25,
     "metadata": {},
     "output_type": "execute_result"
    }
   ],
   "source": [
    "np.arange(1, 2 * np.pi, 0.1)"
   ],
   "metadata": {
    "collapsed": false,
    "pycharm": {
     "name": "#%%\n"
    }
   }
  },
  {
   "cell_type": "markdown",
   "source": [
    "根据上下限和个数等间隔生成矩阵"
   ],
   "metadata": {
    "collapsed": false
   }
  },
  {
   "cell_type": "code",
   "execution_count": 26,
   "outputs": [
    {
     "data": {
      "text/plain": "array([1.        , 1.05336551, 1.10673102, 1.16009652, 1.21346203,\n       1.26682754, 1.32019305, 1.37355856, 1.42692407, 1.48028957,\n       1.53365508, 1.58702059, 1.6403861 , 1.69375161, 1.74711711,\n       1.80048262, 1.85384813, 1.90721364, 1.96057915, 2.01394465,\n       2.06731016, 2.12067567, 2.17404118, 2.22740669, 2.2807722 ,\n       2.3341377 , 2.38750321, 2.44086872, 2.49423423, 2.54759974,\n       2.60096524, 2.65433075, 2.70769626, 2.76106177, 2.81442728,\n       2.86779279, 2.92115829, 2.9745238 , 3.02788931, 3.08125482,\n       3.13462033, 3.18798583, 3.24135134, 3.29471685, 3.34808236,\n       3.40144787, 3.45481338, 3.50817888, 3.56154439, 3.6149099 ,\n       3.66827541, 3.72164092, 3.77500642, 3.82837193, 3.88173744,\n       3.93510295, 3.98846846, 4.04183396, 4.09519947, 4.14856498,\n       4.20193049, 4.255296  , 4.30866151, 4.36202701, 4.41539252,\n       4.46875803, 4.52212354, 4.57548905, 4.62885455, 4.68222006,\n       4.73558557, 4.78895108, 4.84231659, 4.8956821 , 4.9490476 ,\n       5.00241311, 5.05577862, 5.10914413, 5.16250964, 5.21587514,\n       5.26924065, 5.32260616, 5.37597167, 5.42933718, 5.48270268,\n       5.53606819, 5.5894337 , 5.64279921, 5.69616472, 5.74953023,\n       5.80289573, 5.85626124, 5.90962675, 5.96299226, 6.01635777,\n       6.06972327, 6.12308878, 6.17645429, 6.2298198 , 6.28318531])"
     },
     "execution_count": 26,
     "metadata": {},
     "output_type": "execute_result"
    }
   ],
   "source": [
    "np.linspace(1, 2 * np.pi, 100)"
   ],
   "metadata": {
    "collapsed": false,
    "pycharm": {
     "name": "#%%\n"
    }
   }
  },
  {
   "cell_type": "markdown",
   "source": [
    "生成(0, 1)范围内的随机矩阵"
   ],
   "metadata": {
    "collapsed": false
   }
  },
  {
   "cell_type": "code",
   "execution_count": 27,
   "outputs": [
    {
     "data": {
      "text/plain": "array([[0.11664293, 0.86900466, 0.35541249, 0.79839626],\n       [0.24076521, 0.22729881, 0.81694713, 0.86151542],\n       [0.73555542, 0.99012675, 0.15000602, 0.15116863]])"
     },
     "execution_count": 27,
     "metadata": {},
     "output_type": "execute_result"
    }
   ],
   "source": [
    "np.random.random([3, 4])\n"
   ],
   "metadata": {
    "collapsed": false,
    "pycharm": {
     "name": "#%%\n"
    }
   }
  },
  {
   "cell_type": "code",
   "execution_count": null,
   "outputs": [],
   "source": [],
   "metadata": {
    "collapsed": false,
    "pycharm": {
     "name": "#%%\n"
    }
   }
  }
 ],
 "metadata": {
  "kernelspec": {
   "name": "pycharm-455732b2",
   "language": "python",
   "display_name": "PyCharm (XpythonProject)"
  },
  "language_info": {
   "codemirror_mode": {
    "name": "ipython",
    "version": 2
   },
   "file_extension": ".py",
   "mimetype": "text/x-python",
   "name": "python",
   "nbconvert_exporter": "python",
   "pygments_lexer": "ipython2",
   "version": "2.7.6"
  }
 },
 "nbformat": 4,
 "nbformat_minor": 0
}