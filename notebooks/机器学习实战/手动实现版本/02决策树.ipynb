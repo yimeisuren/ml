{
 "cells": [
  {
   "cell_type": "code",
   "execution_count": 14,
   "metadata": {
    "collapsed": true
   },
   "outputs": [],
   "source": [
    "import math\n",
    "\n",
    "import pandas as pd"
   ]
  },
  {
   "cell_type": "code",
   "execution_count": 15,
   "outputs": [
    {
     "data": {
      "text/plain": "    x1  x2  x3  y\n0    1   2   3  鱼\n1    1   2   4  鱼\n2    1   2   5  鱼\n3    1   2   6  鱼\n4    1   2   7  鱼\n5    1   3   3  鱼\n6    1   4   3  鱼\n7    1   5   3  鱼\n8    1   6   3  鱼\n9    1   7   3  鱼\n10   2   2   3  鱼\n11   3   2   3  鱼\n12   4   2   3  鱼\n13   9   2   3  猫\n14   8   5   3  狗\n15   5   2   3  蛇",
      "text/html": "<div>\n<style scoped>\n    .dataframe tbody tr th:only-of-type {\n        vertical-align: middle;\n    }\n\n    .dataframe tbody tr th {\n        vertical-align: top;\n    }\n\n    .dataframe thead th {\n        text-align: right;\n    }\n</style>\n<table border=\"1\" class=\"dataframe\">\n  <thead>\n    <tr style=\"text-align: right;\">\n      <th></th>\n      <th>x1</th>\n      <th>x2</th>\n      <th>x3</th>\n      <th>y</th>\n    </tr>\n  </thead>\n  <tbody>\n    <tr>\n      <th>0</th>\n      <td>1</td>\n      <td>2</td>\n      <td>3</td>\n      <td>鱼</td>\n    </tr>\n    <tr>\n      <th>1</th>\n      <td>1</td>\n      <td>2</td>\n      <td>4</td>\n      <td>鱼</td>\n    </tr>\n    <tr>\n      <th>2</th>\n      <td>1</td>\n      <td>2</td>\n      <td>5</td>\n      <td>鱼</td>\n    </tr>\n    <tr>\n      <th>3</th>\n      <td>1</td>\n      <td>2</td>\n      <td>6</td>\n      <td>鱼</td>\n    </tr>\n    <tr>\n      <th>4</th>\n      <td>1</td>\n      <td>2</td>\n      <td>7</td>\n      <td>鱼</td>\n    </tr>\n    <tr>\n      <th>5</th>\n      <td>1</td>\n      <td>3</td>\n      <td>3</td>\n      <td>鱼</td>\n    </tr>\n    <tr>\n      <th>6</th>\n      <td>1</td>\n      <td>4</td>\n      <td>3</td>\n      <td>鱼</td>\n    </tr>\n    <tr>\n      <th>7</th>\n      <td>1</td>\n      <td>5</td>\n      <td>3</td>\n      <td>鱼</td>\n    </tr>\n    <tr>\n      <th>8</th>\n      <td>1</td>\n      <td>6</td>\n      <td>3</td>\n      <td>鱼</td>\n    </tr>\n    <tr>\n      <th>9</th>\n      <td>1</td>\n      <td>7</td>\n      <td>3</td>\n      <td>鱼</td>\n    </tr>\n    <tr>\n      <th>10</th>\n      <td>2</td>\n      <td>2</td>\n      <td>3</td>\n      <td>鱼</td>\n    </tr>\n    <tr>\n      <th>11</th>\n      <td>3</td>\n      <td>2</td>\n      <td>3</td>\n      <td>鱼</td>\n    </tr>\n    <tr>\n      <th>12</th>\n      <td>4</td>\n      <td>2</td>\n      <td>3</td>\n      <td>鱼</td>\n    </tr>\n    <tr>\n      <th>13</th>\n      <td>9</td>\n      <td>2</td>\n      <td>3</td>\n      <td>猫</td>\n    </tr>\n    <tr>\n      <th>14</th>\n      <td>8</td>\n      <td>5</td>\n      <td>3</td>\n      <td>狗</td>\n    </tr>\n    <tr>\n      <th>15</th>\n      <td>5</td>\n      <td>2</td>\n      <td>3</td>\n      <td>蛇</td>\n    </tr>\n  </tbody>\n</table>\n</div>"
     },
     "execution_count": 15,
     "metadata": {},
     "output_type": "execute_result"
    }
   ],
   "source": [
    "df = pd.read_csv('data.csv')\n",
    "df"
   ],
   "metadata": {
    "collapsed": false,
    "pycharm": {
     "name": "#%%\n"
    }
   }
  },
  {
   "cell_type": "code",
   "execution_count": 18,
   "outputs": [
    {
     "name": "stdout",
     "output_type": "stream",
     "text": [
      "-0.9933927290103626\n"
     ]
    }
   ],
   "source": [
    "def calcShannonEnt(dataSet: pd.DataFrame):\n",
    "    result: float = 0.0\n",
    "    length: int = dataSet.shape[0]\n",
    "    labelCounts: pd.DataFrame = pd.value_counts(values=df['y']).to_frame()\n",
    "    labelCounts['prob'] = labelCounts['y'] / length\n",
    "    labelCounts['info'] = labelCounts['prob'].apply(lambda x: -math.log2(x))\n",
    "    result += -(labelCounts['prob'] * labelCounts['info']).sum()\n",
    "    return result\n",
    "\n",
    "print(calcShannonEnt(df))"
   ],
   "metadata": {
    "collapsed": false,
    "pycharm": {
     "name": "#%%\n"
    }
   }
  },
  {
   "cell_type": "code",
   "execution_count": null,
   "outputs": [],
   "source": [],
   "metadata": {
    "collapsed": false,
    "pycharm": {
     "name": "#%%\n"
    }
   }
  }
 ],
 "metadata": {
  "kernelspec": {
   "name": "pycharm-bb2d6136",
   "language": "python",
   "display_name": "PyCharm (pythonProject)"
  },
  "language_info": {
   "codemirror_mode": {
    "name": "ipython",
    "version": 2
   },
   "file_extension": ".py",
   "mimetype": "text/x-python",
   "name": "python",
   "nbconvert_exporter": "python",
   "pygments_lexer": "ipython2",
   "version": "2.7.6"
  }
 },
 "nbformat": 4,
 "nbformat_minor": 0
}