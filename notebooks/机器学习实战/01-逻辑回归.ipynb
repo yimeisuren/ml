{
 "cells": [
  {
   "cell_type": "code",
   "execution_count": 1,
   "metadata": {
    "collapsed": true
   },
   "outputs": [],
   "source": [
    "import numpy as np\n",
    "import pandas as pd\n",
    "import matplotlib.pyplot as plt"
   ]
  },
  {
   "cell_type": "markdown",
   "source": [
    "# 实现sigmod函数"
   ],
   "metadata": {
    "collapsed": false
   }
  },
  {
   "cell_type": "code",
   "execution_count": 3,
   "outputs": [
    {
     "data": {
      "text/plain": "0.5"
     },
     "execution_count": 3,
     "metadata": {},
     "output_type": "execute_result"
    }
   ],
   "source": [
    "def sigmod(value: float) -> float:\n",
    "    return 1 / (1 + np.exp(-value))\n",
    "\n",
    "\n",
    "sigmod(0)"
   ],
   "metadata": {
    "collapsed": false,
    "pycharm": {
     "name": "#%%\n"
    }
   }
  },
  {
   "cell_type": "code",
   "execution_count": 9,
   "outputs": [
    {
     "data": {
      "text/plain": "<Figure size 432x288 with 1 Axes>",
      "image/png": "[encoded data removed]"
     },
     "metadata": {
      "needs_background": "light"
     },
     "output_type": "display_data"
    }
   ],
   "source": [
    "hi = 10\n",
    "lo = -hi\n",
    "X = np.linspace(lo, hi, hi - lo)\n",
    "Y = np.array([sigmod(x) for x in X])\n",
    "plt.plot(X, Y)\n",
    "plt.show()"
   ],
   "metadata": {
    "collapsed": false,
    "pycharm": {
     "name": "#%%\n"
    }
   }
  },
  {
   "cell_type": "markdown",
   "source": [
    "# 实现线性model"
   ],
   "metadata": {
    "collapsed": false
   }
  },
  {
   "cell_type": "code",
   "execution_count": 14,
   "outputs": [
    {
     "data": {
      "text/plain": "0.9999991684719722"
     },
     "execution_count": 14,
     "metadata": {},
     "output_type": "execute_result"
    }
   ],
   "source": [
    "def modelFunc(X: np.ndarray, θ: np.ndarray) -> float:\n",
    "    # 注意theta[1:-1]和theta[1:]的区别:\n",
    "    # 前者不包括最后一个, 后者包括\n",
    "    return sigmod(np.dot(X, θ[1:].T) + θ[0])\n",
    "\n",
    "\n",
    "θ = np.array([1, 2, 3])\n",
    "X = np.array([2, 3])\n",
    "modelFunc(X, θ)"
   ],
   "metadata": {
    "collapsed": false,
    "pycharm": {
     "name": "#%%\n"
    }
   }
  },
  {
   "cell_type": "markdown",
   "source": [
    "# 定义损失函数"
   ],
   "metadata": {
    "collapsed": false
   }
  },
  {
   "cell_type": "code",
   "execution_count": 19,
   "outputs": [
    {
     "data": {
      "text/plain": "array([ -9.68002296, -13.68582685])"
     },
     "execution_count": 19,
     "metadata": {},
     "output_type": "execute_result"
    }
   ],
   "source": [
    "def loss(XMatrix: np.ndarray, Y: np.ndarray, θ: np.ndarray) -> float:\n",
    "    errSum: float = 0\n",
    "    rowsNum: int = XMatrix.shape[0]\n",
    "    for i in range(rowsNum):\n",
    "        X = XMatrix[i]\n",
    "        y = Y[i]\n",
    "        # x是行向量, y是标签\n",
    "        err = -y * np.log(modelFunc(X, θ)) - (1 - y) * np.log(1 - modelFunc(X, θ))\n",
    "        errSum += err\n",
    "    return errSum\n",
    "\n",
    "θ = np.array([1, 2, 3])\n",
    "X = np.array([[2, 3], [1, 2]])\n",
    "Y = np.array([0, 1])\n",
    "print(loss(X, Y, θ))"
   ],
   "metadata": {
    "collapsed": false,
    "pycharm": {
     "name": "#%%\n"
    }
   }
  },
  {
   "cell_type": "markdown",
   "source": [
    "# 计算梯度\n",
    "\n",
    "$$\\frac { \\partial J } { \\partial \\theta _ { j } } = - \\frac { 1 } { m } \\sum _ { i = 1 } ^ { n } [ y _ { i } - f _ { \\theta } ( x _ { i } ) ] * x _ { i j }$$"
   ],
   "metadata": {
    "collapsed": false
   }
  },
  {
   "cell_type": "code",
   "execution_count": 20,
   "outputs": [
    {
     "data": {
      "text/plain": "(3,)"
     },
     "execution_count": 20,
     "metadata": {},
     "output_type": "execute_result"
    }
   ],
   "source": [
    "\n",
    "\n"
   ],
   "metadata": {
    "collapsed": false,
    "pycharm": {
     "name": "#%%\n"
    }
   }
  }
 ],
 "metadata": {
  "kernelspec": {
   "name": "pycharm-455732b2",
   "language": "python",
   "display_name": "PyCharm (XpythonProject)"
  },
  "language_info": {
   "codemirror_mode": {
    "name": "ipython",
    "version": 2
   },
   "file_extension": ".py",
   "mimetype": "text/x-python",
   "name": "python",
   "nbconvert_exporter": "python",
   "pygments_lexer": "ipython2",
   "version": "2.7.6"
  }
 },
 "nbformat": 4,
 "nbformat_minor": 0
}