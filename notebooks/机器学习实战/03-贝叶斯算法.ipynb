{
 "cells": [
  {
   "cell_type": "code",
   "execution_count": 1,
   "metadata": {
    "collapsed": true
   },
   "outputs": [],
   "source": [
    "import numpy as np\n",
    "import pandas as pd\n",
    "import matplotlib.pyplot as plt"
   ]
  },
  {
   "cell_type": "markdown",
   "source": [
    "# 先验概率\n",
    "\n",
    "可以通过统计观测样本中的频率, **以频率估计概率**"
   ],
   "metadata": {
    "collapsed": false
   }
  },
  {
   "cell_type": "markdown",
   "source": [
    "# 似然\n",
    "\n",
    "在**某个条件**下, 产生样本数据的概率\n",
    "\n",
    "单词纠错案例中, 输入tess, 输出可能方案有less, test等.\n",
    "那么似然表示: 在给定输出的条件下, 输出tess的概率.\n",
    "\n",
    "对于这个似然, 需要进一步进行含义的定义或者不考虑这一项."
   ],
   "metadata": {
    "collapsed": false
   }
  },
  {
   "cell_type": "markdown",
   "source": [
    "# 单词纠错案例"
   ],
   "metadata": {
    "collapsed": false
   }
  },
  {
   "cell_type": "code",
   "execution_count": 3,
   "outputs": [],
   "source": [
    "import re, collections"
   ],
   "metadata": {
    "collapsed": false,
    "pycharm": {
     "name": "#%%\n"
    }
   }
  },
  {
   "cell_type": "markdown",
   "source": [
    "## 统计训练集中样本数据出现的频率作为先验"
   ],
   "metadata": {
    "collapsed": false
   }
  },
  {
   "cell_type": "code",
   "execution_count": 5,
   "outputs": [
    {
     "data": {
      "text/plain": "defaultdict(<function __main__.train.<locals>.<lambda>()>,\n            {'hello': 2,\n             'world': 2,\n             'root': 2,\n             'thank': 2,\n             'you': 3,\n             'test': 2,\n             'less': 2,\n             'how': 2,\n             'old': 2,\n             'are': 2,\n             'thanks': 2,\n             'good': 2,\n             'learn': 2,\n             'computer': 2,\n             'hadoop': 2,\n             'mapreduce': 2,\n             'hdfs': 2})"
     },
     "execution_count": 5,
     "metadata": {},
     "output_type": "execute_result"
    }
   ],
   "source": [
    "def to_words(text: str) -> list[str]:\n",
    "    # 单词全部转换为小写\n",
    "    text = text.lower()\n",
    "    return re.findall(r\"[a-z]+\", text)\n",
    "\n",
    "\n",
    "def train(words):\n",
    "    # 设置hashmap的默认值从1开始,\n",
    "    # 如果测试过程中遇到训练集中没有出现过的word,\n",
    "    # 会自动添加到model中, 并将其值设置为1\n",
    "    wordCounts = collections.defaultdict(lambda: 1)\n",
    "\n",
    "    # 语料库中每个单词出现的频率\n",
    "    for word in words:\n",
    "        wordCounts[word] += 1\n",
    "    return wordCounts\n",
    "\n",
    "\n",
    "# textTrain.txt表示语料库, 用来训练模型\n",
    "f = open('../../data/input/textTrain.txt')\n",
    "text = f.read()\n",
    "words = to_words(text)\n",
    "d = train(words)\n",
    "d"
   ],
   "metadata": {
    "collapsed": false,
    "pycharm": {
     "name": "#%%\n"
    }
   }
  },
  {
   "cell_type": "code",
   "execution_count": 12,
   "outputs": [
    {
     "name": "stdout",
     "output_type": "stream",
     "text": [
      "false\n"
     ]
    }
   ],
   "source": [
    "if d.get(\"hao\") is None:\n",
    "    print(\"false\")"
   ],
   "metadata": {
    "collapsed": false,
    "pycharm": {
     "name": "#%%\n"
    }
   }
  },
  {
   "cell_type": "markdown",
   "source": [
    "## 指定编辑距离, 查找可能的备选单词\n",
    "\n",
    "还需要根据编辑距离的不同确定单词的优先级, 即给不同优先级的单词不同的似然概率"
   ],
   "metadata": {
    "collapsed": false
   }
  },
  {
   "cell_type": "code",
   "execution_count": 23,
   "outputs": [
    {
     "data": {
      "text/plain": "{'hello'}"
     },
     "execution_count": 23,
     "metadata": {},
     "output_type": "execute_result"
    }
   ],
   "source": [
    "alphabet = [chr(i + ord('a')) for i in range(26)]\n",
    "\n",
    "\n",
    "def getNextWordSet(word: str) -> set:\n",
    "    resultSet: set = set()\n",
    "    length = len(word)\n",
    "    for i in range(length + 1):\n",
    "        # 删除某个字符\n",
    "        if i < length:\n",
    "            alternativeWord = word[0:i] + word[i + 1:]\n",
    "            resultSet.add(alternativeWord)\n",
    "\n",
    "        # 交换两个相邻字符\n",
    "        if 0 < i < length:\n",
    "            nextWord = word[i]\n",
    "            preWord = word[i - 1]\n",
    "            alternativeWord = word[0:i - 1] + nextWord + preWord + word[i + 1:]\n",
    "            resultSet.add(alternativeWord)\n",
    "\n",
    "        for c in alphabet:\n",
    "            # 改变某个字符\n",
    "            if i < length:\n",
    "                alternativeWord = word[0:i] + c + word[i + 1:]\n",
    "                resultSet.add(alternativeWord)\n",
    "\n",
    "            # 增加某个字符\n",
    "            alternativeWord = word[0:i] + c + word[i:]\n",
    "            resultSet.add(alternativeWord)\n",
    "    return resultSet\n",
    "\n",
    "\n",
    "def editDistanceN(resultSet: set, word: str, model: dict, n: int = 1) -> None:\n",
    "    nextWords: set = getNextWordSet(word)\n",
    "    if n == 1:\n",
    "        for nextWord in nextWords:\n",
    "            if model.get(nextWord) is not None:\n",
    "                resultSet.add(nextWord)\n",
    "        return\n",
    "\n",
    "    for nextWord in nextWords:\n",
    "        editDistanceN(resultSet, nextWord, model, n - 1)\n",
    "\n",
    "\n",
    "model: dict = {\n",
    "    'hello': 2,\n",
    "    'world': 1\n",
    "}\n",
    "\n",
    "# 初始化一个空的set集合\n",
    "result: set = set()\n",
    "word = 'he'\n",
    "editDistanceN(result, word, model, 3)\n",
    "result\n",
    "\n",
    "\n",
    "\n"
   ],
   "metadata": {
    "collapsed": false,
    "pycharm": {
     "name": "#%%\n"
    }
   }
  }
 ],
 "metadata": {
  "kernelspec": {
   "name": "pycharm-455732b2",
   "language": "python",
   "display_name": "PyCharm (XpythonProject)"
  },
  "language_info": {
   "codemirror_mode": {
    "name": "ipython",
    "version": 2
   },
   "file_extension": ".py",
   "mimetype": "text/x-python",
   "name": "python",
   "nbconvert_exporter": "python",
   "pygments_lexer": "ipython2",
   "version": "2.7.6"
  }
 },
 "nbformat": 4,
 "nbformat_minor": 0
}