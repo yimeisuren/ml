{
 "cells": [
  {
   "cell_type": "markdown",
   "source": [
    "# sklearn中的决策树\n",
    "所在模块sklearn.tree\n",
    "\n",
    "+ 分类树: tree.DecisionTreeClassifier\n",
    "+ 回归树: tree.DecisionTreeRegressor\n",
    "+ 绘图: tree.export.graphviz\n",
    "+ 高随机版本的分类树: tree.ExtraTreeClassifier\n",
    "+ 高随机版本的回归树: tree.ExtraTreeRegressor"
   ],
   "metadata": {
    "collapsed": false
   }
  },
  {
   "cell_type": "markdown",
   "source": [
    "## 建模流程\n",
    "1. 实例化, 建立评估模型对象\n",
    "2. 通过模型接口训练模型\n",
    "3. 通过模型接口提取需要的信息\n",
    "\n",
    "## 决策树的基本流程原理:\n",
    "1. 计算全部特征的不纯度指标\n",
    "2. 选择不纯度最优的特征来进行分支 (说明该特征对于当前分类判断的效果最好)\n",
    "3. 重复上面的过程直到用完了所有特征, 或者整体的不纯度指标已经达到最优"
   ],
   "metadata": {
    "collapsed": false
   }
  },
  {
   "cell_type": "code",
   "execution_count": 1,
   "metadata": {
    "collapsed": true
   },
   "outputs": [],
   "source": [
    "from sklearn import tree\n",
    "from sklearn.datasets import load_wine\n",
    "from sklearn.model_selection import train_test_split\n",
    "import pandas as pd"
   ]
  },
  {
   "cell_type": "markdown",
   "source": [
    "### 查看数据"
   ],
   "metadata": {
    "collapsed": false
   }
  },
  {
   "cell_type": "code",
   "execution_count": 2,
   "outputs": [
    {
     "data": {
      "text/plain": "{'data': array([[1.423e+01, 1.710e+00, 2.430e+00, ..., 1.040e+00, 3.920e+00,\n         1.065e+03],\n        [1.320e+01, 1.780e+00, 2.140e+00, ..., 1.050e+00, 3.400e+00,\n         1.050e+03],\n        [1.316e+01, 2.360e+00, 2.670e+00, ..., 1.030e+00, 3.170e+00,\n         1.185e+03],\n        ...,\n        [1.327e+01, 4.280e+00, 2.260e+00, ..., 5.900e-01, 1.560e+00,\n         8.350e+02],\n        [1.317e+01, 2.590e+00, 2.370e+00, ..., 6.000e-01, 1.620e+00,\n         8.400e+02],\n        [1.413e+01, 4.100e+00, 2.740e+00, ..., 6.100e-01, 1.600e+00,\n         5.600e+02]]),\n 'target': array([0, 0, 0, 0, 0, 0, 0, 0, 0, 0, 0, 0, 0, 0, 0, 0, 0, 0, 0, 0, 0, 0,\n        0, 0, 0, 0, 0, 0, 0, 0, 0, 0, 0, 0, 0, 0, 0, 0, 0, 0, 0, 0, 0, 0,\n        0, 0, 0, 0, 0, 0, 0, 0, 0, 0, 0, 0, 0, 0, 0, 1, 1, 1, 1, 1, 1, 1,\n        1, 1, 1, 1, 1, 1, 1, 1, 1, 1, 1, 1, 1, 1, 1, 1, 1, 1, 1, 1, 1, 1,\n        1, 1, 1, 1, 1, 1, 1, 1, 1, 1, 1, 1, 1, 1, 1, 1, 1, 1, 1, 1, 1, 1,\n        1, 1, 1, 1, 1, 1, 1, 1, 1, 1, 1, 1, 1, 1, 1, 1, 1, 1, 1, 1, 2, 2,\n        2, 2, 2, 2, 2, 2, 2, 2, 2, 2, 2, 2, 2, 2, 2, 2, 2, 2, 2, 2, 2, 2,\n        2, 2, 2, 2, 2, 2, 2, 2, 2, 2, 2, 2, 2, 2, 2, 2, 2, 2, 2, 2, 2, 2,\n        2, 2]),\n 'frame': None,\n 'target_names': array(['class_0', 'class_1', 'class_2'], dtype='<U7'),\n 'DESCR': '.. _wine_dataset:\\n\\nWine recognition dataset\\n------------------------\\n\\n**Data Set Characteristics:**\\n\\n    :Number of Instances: 178 (50 in each of three classes)\\n    :Number of Attributes: 13 numeric, predictive attributes and the class\\n    :Attribute Information:\\n \\t\\t- Alcohol\\n \\t\\t- Malic acid\\n \\t\\t- Ash\\n\\t\\t- Alcalinity of ash  \\n \\t\\t- Magnesium\\n\\t\\t- Total phenols\\n \\t\\t- Flavanoids\\n \\t\\t- Nonflavanoid phenols\\n \\t\\t- Proanthocyanins\\n\\t\\t- Color intensity\\n \\t\\t- Hue\\n \\t\\t- OD280/OD315 of diluted wines\\n \\t\\t- Proline\\n\\n    - class:\\n            - class_0\\n            - class_1\\n            - class_2\\n\\t\\t\\n    :Summary Statistics:\\n    \\n    ============================= ==== ===== ======= =====\\n                                   Min   Max   Mean     SD\\n    ============================= ==== ===== ======= =====\\n    Alcohol:                      11.0  14.8    13.0   0.8\\n    Malic Acid:                   0.74  5.80    2.34  1.12\\n    Ash:                          1.36  3.23    2.36  0.27\\n    Alcalinity of Ash:            10.6  30.0    19.5   3.3\\n    Magnesium:                    70.0 162.0    99.7  14.3\\n    Total Phenols:                0.98  3.88    2.29  0.63\\n    Flavanoids:                   0.34  5.08    2.03  1.00\\n    Nonflavanoid Phenols:         0.13  0.66    0.36  0.12\\n    Proanthocyanins:              0.41  3.58    1.59  0.57\\n    Colour Intensity:              1.3  13.0     5.1   2.3\\n    Hue:                          0.48  1.71    0.96  0.23\\n    OD280/OD315 of diluted wines: 1.27  4.00    2.61  0.71\\n    Proline:                       278  1680     746   315\\n    ============================= ==== ===== ======= =====\\n\\n    :Missing Attribute Values: None\\n    :Class Distribution: class_0 (59), class_1 (71), class_2 (48)\\n    :Creator: R.A. Fisher\\n    :Donor: Michael Marshall (MARSHALL%PLU@io.arc.nasa.gov)\\n    :Date: July, 1988\\n\\nThis is a copy of UCI ML Wine recognition datasets.\\nhttps://archive.ics.uci.edu/ml/machine-learning-databases/wine/wine.data\\n\\nThe data is the results of a chemical analysis of wines grown in the same\\nregion in Italy by three different cultivators. There are thirteen different\\nmeasurements taken for different constituents found in the three types of\\nwine.\\n\\nOriginal Owners: \\n\\nForina, M. et al, PARVUS - \\nAn Extendible Package for Data Exploration, Classification and Correlation. \\nInstitute of Pharmaceutical and Food Analysis and Technologies,\\nVia Brigata Salerno, 16147 Genoa, Italy.\\n\\nCitation:\\n\\nLichman, M. (2013). UCI Machine Learning Repository\\n[https://archive.ics.uci.edu/ml]. Irvine, CA: University of California,\\nSchool of Information and Computer Science. \\n\\n.. topic:: References\\n\\n  (1) S. Aeberhard, D. Coomans and O. de Vel, \\n  Comparison of Classifiers in High Dimensional Settings, \\n  Tech. Rep. no. 92-02, (1992), Dept. of Computer Science and Dept. of  \\n  Mathematics and Statistics, James Cook University of North Queensland. \\n  (Also submitted to Technometrics). \\n\\n  The data was used with many others for comparing various \\n  classifiers. The classes are separable, though only RDA \\n  has achieved 100% correct classification. \\n  (RDA : 100%, QDA 99.4%, LDA 98.9%, 1NN 96.1% (z-transformed data)) \\n  (All results using the leave-one-out technique) \\n\\n  (2) S. Aeberhard, D. Coomans and O. de Vel, \\n  \"THE CLASSIFICATION PERFORMANCE OF RDA\" \\n  Tech. Rep. no. 92-01, (1992), Dept. of Computer Science and Dept. of \\n  Mathematics and Statistics, James Cook University of North Queensland. \\n  (Also submitted to Journal of Chemometrics).\\n',\n 'feature_names': ['alcohol',\n  'malic_acid',\n  'ash',\n  'alcalinity_of_ash',\n  'magnesium',\n  'total_phenols',\n  'flavanoids',\n  'nonflavanoid_phenols',\n  'proanthocyanins',\n  'color_intensity',\n  'hue',\n  'od280/od315_of_diluted_wines',\n  'proline']}"
     },
     "execution_count": 2,
     "metadata": {},
     "output_type": "execute_result"
    }
   ],
   "source": [
    "# 字典对象\n",
    "wine = load_wine()\n",
    "wine"
   ],
   "metadata": {
    "collapsed": false,
    "pycharm": {
     "name": "#%%\n"
    }
   }
  },
  {
   "cell_type": "code",
   "execution_count": 3,
   "outputs": [
    {
     "data": {
      "text/plain": "       x_0   x_1   x_2   x_3    x_4   x_5   x_6   x_7   x_8    x_9  x_10  \\\n0    14.23  1.71  2.43  15.6  127.0  2.80  3.06  0.28  2.29   5.64  1.04   \n1    13.20  1.78  2.14  11.2  100.0  2.65  2.76  0.26  1.28   4.38  1.05   \n2    13.16  2.36  2.67  18.6  101.0  2.80  3.24  0.30  2.81   5.68  1.03   \n3    14.37  1.95  2.50  16.8  113.0  3.85  3.49  0.24  2.18   7.80  0.86   \n4    13.24  2.59  2.87  21.0  118.0  2.80  2.69  0.39  1.82   4.32  1.04   \n..     ...   ...   ...   ...    ...   ...   ...   ...   ...    ...   ...   \n173  13.71  5.65  2.45  20.5   95.0  1.68  0.61  0.52  1.06   7.70  0.64   \n174  13.40  3.91  2.48  23.0  102.0  1.80  0.75  0.43  1.41   7.30  0.70   \n175  13.27  4.28  2.26  20.0  120.0  1.59  0.69  0.43  1.35  10.20  0.59   \n176  13.17  2.59  2.37  20.0  120.0  1.65  0.68  0.53  1.46   9.30  0.60   \n177  14.13  4.10  2.74  24.5   96.0  2.05  0.76  0.56  1.35   9.20  0.61   \n\n     x_11    x_12  \n0    3.92  1065.0  \n1    3.40  1050.0  \n2    3.17  1185.0  \n3    3.45  1480.0  \n4    2.93   735.0  \n..    ...     ...  \n173  1.74   740.0  \n174  1.56   750.0  \n175  1.56   835.0  \n176  1.62   840.0  \n177  1.60   560.0  \n\n[178 rows x 13 columns]",
      "text/html": "<div>\n<style scoped>\n    .dataframe tbody tr th:only-of-type {\n        vertical-align: middle;\n    }\n\n    .dataframe tbody tr th {\n        vertical-align: top;\n    }\n\n    .dataframe thead th {\n        text-align: right;\n    }\n</style>\n<table border=\"1\" class=\"dataframe\">\n  <thead>\n    <tr style=\"text-align: right;\">\n      <th></th>\n      <th>x_0</th>\n      <th>x_1</th>\n      <th>x_2</th>\n      <th>x_3</th>\n      <th>x_4</th>\n      <th>x_5</th>\n      <th>x_6</th>\n      <th>x_7</th>\n      <th>x_8</th>\n      <th>x_9</th>\n      <th>x_10</th>\n      <th>x_11</th>\n      <th>x_12</th>\n    </tr>\n  </thead>\n  <tbody>\n    <tr>\n      <th>0</th>\n      <td>14.23</td>\n      <td>1.71</td>\n      <td>2.43</td>\n      <td>15.6</td>\n      <td>127.0</td>\n      <td>2.80</td>\n      <td>3.06</td>\n      <td>0.28</td>\n      <td>2.29</td>\n      <td>5.64</td>\n      <td>1.04</td>\n      <td>3.92</td>\n      <td>1065.0</td>\n    </tr>\n    <tr>\n      <th>1</th>\n      <td>13.20</td>\n      <td>1.78</td>\n      <td>2.14</td>\n      <td>11.2</td>\n      <td>100.0</td>\n      <td>2.65</td>\n      <td>2.76</td>\n      <td>0.26</td>\n      <td>1.28</td>\n      <td>4.38</td>\n      <td>1.05</td>\n      <td>3.40</td>\n      <td>1050.0</td>\n    </tr>\n    <tr>\n      <th>2</th>\n      <td>13.16</td>\n      <td>2.36</td>\n      <td>2.67</td>\n      <td>18.6</td>\n      <td>101.0</td>\n      <td>2.80</td>\n      <td>3.24</td>\n      <td>0.30</td>\n      <td>2.81</td>\n      <td>5.68</td>\n      <td>1.03</td>\n      <td>3.17</td>\n      <td>1185.0</td>\n    </tr>\n    <tr>\n      <th>3</th>\n      <td>14.37</td>\n      <td>1.95</td>\n      <td>2.50</td>\n      <td>16.8</td>\n      <td>113.0</td>\n      <td>3.85</td>\n      <td>3.49</td>\n      <td>0.24</td>\n      <td>2.18</td>\n      <td>7.80</td>\n      <td>0.86</td>\n      <td>3.45</td>\n      <td>1480.0</td>\n    </tr>\n    <tr>\n      <th>4</th>\n      <td>13.24</td>\n      <td>2.59</td>\n      <td>2.87</td>\n      <td>21.0</td>\n      <td>118.0</td>\n      <td>2.80</td>\n      <td>2.69</td>\n      <td>0.39</td>\n      <td>1.82</td>\n      <td>4.32</td>\n      <td>1.04</td>\n      <td>2.93</td>\n      <td>735.0</td>\n    </tr>\n    <tr>\n      <th>...</th>\n      <td>...</td>\n      <td>...</td>\n      <td>...</td>\n      <td>...</td>\n      <td>...</td>\n      <td>...</td>\n      <td>...</td>\n      <td>...</td>\n      <td>...</td>\n      <td>...</td>\n      <td>...</td>\n      <td>...</td>\n      <td>...</td>\n    </tr>\n    <tr>\n      <th>173</th>\n      <td>13.71</td>\n      <td>5.65</td>\n      <td>2.45</td>\n      <td>20.5</td>\n      <td>95.0</td>\n      <td>1.68</td>\n      <td>0.61</td>\n      <td>0.52</td>\n      <td>1.06</td>\n      <td>7.70</td>\n      <td>0.64</td>\n      <td>1.74</td>\n      <td>740.0</td>\n    </tr>\n    <tr>\n      <th>174</th>\n      <td>13.40</td>\n      <td>3.91</td>\n      <td>2.48</td>\n      <td>23.0</td>\n      <td>102.0</td>\n      <td>1.80</td>\n      <td>0.75</td>\n      <td>0.43</td>\n      <td>1.41</td>\n      <td>7.30</td>\n      <td>0.70</td>\n      <td>1.56</td>\n      <td>750.0</td>\n    </tr>\n    <tr>\n      <th>175</th>\n      <td>13.27</td>\n      <td>4.28</td>\n      <td>2.26</td>\n      <td>20.0</td>\n      <td>120.0</td>\n      <td>1.59</td>\n      <td>0.69</td>\n      <td>0.43</td>\n      <td>1.35</td>\n      <td>10.20</td>\n      <td>0.59</td>\n      <td>1.56</td>\n      <td>835.0</td>\n    </tr>\n    <tr>\n      <th>176</th>\n      <td>13.17</td>\n      <td>2.59</td>\n      <td>2.37</td>\n      <td>20.0</td>\n      <td>120.0</td>\n      <td>1.65</td>\n      <td>0.68</td>\n      <td>0.53</td>\n      <td>1.46</td>\n      <td>9.30</td>\n      <td>0.60</td>\n      <td>1.62</td>\n      <td>840.0</td>\n    </tr>\n    <tr>\n      <th>177</th>\n      <td>14.13</td>\n      <td>4.10</td>\n      <td>2.74</td>\n      <td>24.5</td>\n      <td>96.0</td>\n      <td>2.05</td>\n      <td>0.76</td>\n      <td>0.56</td>\n      <td>1.35</td>\n      <td>9.20</td>\n      <td>0.61</td>\n      <td>1.60</td>\n      <td>560.0</td>\n    </tr>\n  </tbody>\n</table>\n<p>178 rows × 13 columns</p>\n</div>"
     },
     "execution_count": 3,
     "metadata": {},
     "output_type": "execute_result"
    }
   ],
   "source": [
    "X = wine.get('data')\n",
    "df_x = pd.DataFrame(X, columns=[f'x_{i}' for i in range(13)])\n",
    "df_x"
   ],
   "metadata": {
    "collapsed": false,
    "pycharm": {
     "name": "#%%\n"
    }
   }
  },
  {
   "cell_type": "code",
   "execution_count": 4,
   "outputs": [
    {
     "data": {
      "text/plain": "     y\n0    0\n1    0\n2    0\n3    0\n4    0\n..  ..\n173  2\n174  2\n175  2\n176  2\n177  2\n\n[178 rows x 1 columns]",
      "text/html": "<div>\n<style scoped>\n    .dataframe tbody tr th:only-of-type {\n        vertical-align: middle;\n    }\n\n    .dataframe tbody tr th {\n        vertical-align: top;\n    }\n\n    .dataframe thead th {\n        text-align: right;\n    }\n</style>\n<table border=\"1\" class=\"dataframe\">\n  <thead>\n    <tr style=\"text-align: right;\">\n      <th></th>\n      <th>y</th>\n    </tr>\n  </thead>\n  <tbody>\n    <tr>\n      <th>0</th>\n      <td>0</td>\n    </tr>\n    <tr>\n      <th>1</th>\n      <td>0</td>\n    </tr>\n    <tr>\n      <th>2</th>\n      <td>0</td>\n    </tr>\n    <tr>\n      <th>3</th>\n      <td>0</td>\n    </tr>\n    <tr>\n      <th>4</th>\n      <td>0</td>\n    </tr>\n    <tr>\n      <th>...</th>\n      <td>...</td>\n    </tr>\n    <tr>\n      <th>173</th>\n      <td>2</td>\n    </tr>\n    <tr>\n      <th>174</th>\n      <td>2</td>\n    </tr>\n    <tr>\n      <th>175</th>\n      <td>2</td>\n    </tr>\n    <tr>\n      <th>176</th>\n      <td>2</td>\n    </tr>\n    <tr>\n      <th>177</th>\n      <td>2</td>\n    </tr>\n  </tbody>\n</table>\n<p>178 rows × 1 columns</p>\n</div>"
     },
     "execution_count": 4,
     "metadata": {},
     "output_type": "execute_result"
    }
   ],
   "source": [
    "Y = wine.get('target')\n",
    "df_y = pd.DataFrame(Y, columns=['y'])\n",
    "df_y"
   ],
   "metadata": {
    "collapsed": false,
    "pycharm": {
     "name": "#%%\n"
    }
   }
  },
  {
   "cell_type": "code",
   "execution_count": 5,
   "outputs": [
    {
     "data": {
      "text/plain": "  target_names\n0      class_0\n1      class_1\n2      class_2",
      "text/html": "<div>\n<style scoped>\n    .dataframe tbody tr th:only-of-type {\n        vertical-align: middle;\n    }\n\n    .dataframe tbody tr th {\n        vertical-align: top;\n    }\n\n    .dataframe thead th {\n        text-align: right;\n    }\n</style>\n<table border=\"1\" class=\"dataframe\">\n  <thead>\n    <tr style=\"text-align: right;\">\n      <th></th>\n      <th>target_names</th>\n    </tr>\n  </thead>\n  <tbody>\n    <tr>\n      <th>0</th>\n      <td>class_0</td>\n    </tr>\n    <tr>\n      <th>1</th>\n      <td>class_1</td>\n    </tr>\n    <tr>\n      <th>2</th>\n      <td>class_2</td>\n    </tr>\n  </tbody>\n</table>\n</div>"
     },
     "execution_count": 5,
     "metadata": {},
     "output_type": "execute_result"
    }
   ],
   "source": [
    "target_names = wine.get('target_names')\n",
    "df_target_names = pd.DataFrame(target_names, columns=['target_names'])\n",
    "df_target_names"
   ],
   "metadata": {
    "collapsed": false,
    "pycharm": {
     "name": "#%%\n"
    }
   }
  },
  {
   "cell_type": "code",
   "execution_count": 6,
   "outputs": [
    {
     "data": {
      "text/plain": "array(['class_0', 'class_1', 'class_2'], dtype=object)"
     },
     "execution_count": 6,
     "metadata": {},
     "output_type": "execute_result"
    }
   ],
   "source": [
    "df_target_names.values.reshape(-1)"
   ],
   "metadata": {
    "collapsed": false,
    "pycharm": {
     "name": "#%%\n"
    }
   }
  },
  {
   "cell_type": "code",
   "execution_count": 39,
   "outputs": [
    {
     "data": {
      "text/plain": "<PandasArray>\n['class_0', 'class_1', 'class_2']\nLength: 3, dtype: object"
     },
     "execution_count": 39,
     "metadata": {},
     "output_type": "execute_result"
    }
   ],
   "source": [
    "# series中使用array属性可以直接获取值, 死代码\n",
    "df_target_names['target_names'].array"
   ],
   "metadata": {
    "collapsed": false,
    "pycharm": {
     "name": "#%%\n"
    }
   }
  },
  {
   "cell_type": "code",
   "execution_count": 40,
   "outputs": [
    {
     "data": {
      "text/plain": "<PandasArray>\n['class_0', 'class_1', 'class_2']\nLength: 3, dtype: object"
     },
     "execution_count": 40,
     "metadata": {},
     "output_type": "execute_result"
    }
   ],
   "source": [
    "# 代码中不要写死代码\n",
    "df_target_names[df_target_names.columns[0]].array"
   ],
   "metadata": {
    "collapsed": false,
    "pycharm": {
     "name": "#%%\n"
    }
   }
  },
  {
   "cell_type": "markdown",
   "source": [
    "**pd.concat()的使用**\n",
    "+ 传入一个DataFrame的列表\n",
    "+ axis=0表示行属性方向的拼接\n",
    "+ axis=1表示列属性方向的拼接"
   ],
   "metadata": {
    "collapsed": false
   }
  },
  {
   "cell_type": "code",
   "execution_count": 7,
   "outputs": [
    {
     "data": {
      "text/plain": "       x_0   x_1   x_2   x_3    x_4   x_5   x_6   x_7   x_8    x_9  x_10  \\\n0    14.23  1.71  2.43  15.6  127.0  2.80  3.06  0.28  2.29   5.64  1.04   \n1    13.20  1.78  2.14  11.2  100.0  2.65  2.76  0.26  1.28   4.38  1.05   \n2    13.16  2.36  2.67  18.6  101.0  2.80  3.24  0.30  2.81   5.68  1.03   \n3    14.37  1.95  2.50  16.8  113.0  3.85  3.49  0.24  2.18   7.80  0.86   \n4    13.24  2.59  2.87  21.0  118.0  2.80  2.69  0.39  1.82   4.32  1.04   \n..     ...   ...   ...   ...    ...   ...   ...   ...   ...    ...   ...   \n173  13.71  5.65  2.45  20.5   95.0  1.68  0.61  0.52  1.06   7.70  0.64   \n174  13.40  3.91  2.48  23.0  102.0  1.80  0.75  0.43  1.41   7.30  0.70   \n175  13.27  4.28  2.26  20.0  120.0  1.59  0.69  0.43  1.35  10.20  0.59   \n176  13.17  2.59  2.37  20.0  120.0  1.65  0.68  0.53  1.46   9.30  0.60   \n177  14.13  4.10  2.74  24.5   96.0  2.05  0.76  0.56  1.35   9.20  0.61   \n\n     x_11    x_12  y  \n0    3.92  1065.0  0  \n1    3.40  1050.0  0  \n2    3.17  1185.0  0  \n3    3.45  1480.0  0  \n4    2.93   735.0  0  \n..    ...     ... ..  \n173  1.74   740.0  2  \n174  1.56   750.0  2  \n175  1.56   835.0  2  \n176  1.62   840.0  2  \n177  1.60   560.0  2  \n\n[178 rows x 14 columns]",
      "text/html": "<div>\n<style scoped>\n    .dataframe tbody tr th:only-of-type {\n        vertical-align: middle;\n    }\n\n    .dataframe tbody tr th {\n        vertical-align: top;\n    }\n\n    .dataframe thead th {\n        text-align: right;\n    }\n</style>\n<table border=\"1\" class=\"dataframe\">\n  <thead>\n    <tr style=\"text-align: right;\">\n      <th></th>\n      <th>x_0</th>\n      <th>x_1</th>\n      <th>x_2</th>\n      <th>x_3</th>\n      <th>x_4</th>\n      <th>x_5</th>\n      <th>x_6</th>\n      <th>x_7</th>\n      <th>x_8</th>\n      <th>x_9</th>\n      <th>x_10</th>\n      <th>x_11</th>\n      <th>x_12</th>\n      <th>y</th>\n    </tr>\n  </thead>\n  <tbody>\n    <tr>\n      <th>0</th>\n      <td>14.23</td>\n      <td>1.71</td>\n      <td>2.43</td>\n      <td>15.6</td>\n      <td>127.0</td>\n      <td>2.80</td>\n      <td>3.06</td>\n      <td>0.28</td>\n      <td>2.29</td>\n      <td>5.64</td>\n      <td>1.04</td>\n      <td>3.92</td>\n      <td>1065.0</td>\n      <td>0</td>\n    </tr>\n    <tr>\n      <th>1</th>\n      <td>13.20</td>\n      <td>1.78</td>\n      <td>2.14</td>\n      <td>11.2</td>\n      <td>100.0</td>\n      <td>2.65</td>\n      <td>2.76</td>\n      <td>0.26</td>\n      <td>1.28</td>\n      <td>4.38</td>\n      <td>1.05</td>\n      <td>3.40</td>\n      <td>1050.0</td>\n      <td>0</td>\n    </tr>\n    <tr>\n      <th>2</th>\n      <td>13.16</td>\n      <td>2.36</td>\n      <td>2.67</td>\n      <td>18.6</td>\n      <td>101.0</td>\n      <td>2.80</td>\n      <td>3.24</td>\n      <td>0.30</td>\n      <td>2.81</td>\n      <td>5.68</td>\n      <td>1.03</td>\n      <td>3.17</td>\n      <td>1185.0</td>\n      <td>0</td>\n    </tr>\n    <tr>\n      <th>3</th>\n      <td>14.37</td>\n      <td>1.95</td>\n      <td>2.50</td>\n      <td>16.8</td>\n      <td>113.0</td>\n      <td>3.85</td>\n      <td>3.49</td>\n      <td>0.24</td>\n      <td>2.18</td>\n      <td>7.80</td>\n      <td>0.86</td>\n      <td>3.45</td>\n      <td>1480.0</td>\n      <td>0</td>\n    </tr>\n    <tr>\n      <th>4</th>\n      <td>13.24</td>\n      <td>2.59</td>\n      <td>2.87</td>\n      <td>21.0</td>\n      <td>118.0</td>\n      <td>2.80</td>\n      <td>2.69</td>\n      <td>0.39</td>\n      <td>1.82</td>\n      <td>4.32</td>\n      <td>1.04</td>\n      <td>2.93</td>\n      <td>735.0</td>\n      <td>0</td>\n    </tr>\n    <tr>\n      <th>...</th>\n      <td>...</td>\n      <td>...</td>\n      <td>...</td>\n      <td>...</td>\n      <td>...</td>\n      <td>...</td>\n      <td>...</td>\n      <td>...</td>\n      <td>...</td>\n      <td>...</td>\n      <td>...</td>\n      <td>...</td>\n      <td>...</td>\n      <td>...</td>\n    </tr>\n    <tr>\n      <th>173</th>\n      <td>13.71</td>\n      <td>5.65</td>\n      <td>2.45</td>\n      <td>20.5</td>\n      <td>95.0</td>\n      <td>1.68</td>\n      <td>0.61</td>\n      <td>0.52</td>\n      <td>1.06</td>\n      <td>7.70</td>\n      <td>0.64</td>\n      <td>1.74</td>\n      <td>740.0</td>\n      <td>2</td>\n    </tr>\n    <tr>\n      <th>174</th>\n      <td>13.40</td>\n      <td>3.91</td>\n      <td>2.48</td>\n      <td>23.0</td>\n      <td>102.0</td>\n      <td>1.80</td>\n      <td>0.75</td>\n      <td>0.43</td>\n      <td>1.41</td>\n      <td>7.30</td>\n      <td>0.70</td>\n      <td>1.56</td>\n      <td>750.0</td>\n      <td>2</td>\n    </tr>\n    <tr>\n      <th>175</th>\n      <td>13.27</td>\n      <td>4.28</td>\n      <td>2.26</td>\n      <td>20.0</td>\n      <td>120.0</td>\n      <td>1.59</td>\n      <td>0.69</td>\n      <td>0.43</td>\n      <td>1.35</td>\n      <td>10.20</td>\n      <td>0.59</td>\n      <td>1.56</td>\n      <td>835.0</td>\n      <td>2</td>\n    </tr>\n    <tr>\n      <th>176</th>\n      <td>13.17</td>\n      <td>2.59</td>\n      <td>2.37</td>\n      <td>20.0</td>\n      <td>120.0</td>\n      <td>1.65</td>\n      <td>0.68</td>\n      <td>0.53</td>\n      <td>1.46</td>\n      <td>9.30</td>\n      <td>0.60</td>\n      <td>1.62</td>\n      <td>840.0</td>\n      <td>2</td>\n    </tr>\n    <tr>\n      <th>177</th>\n      <td>14.13</td>\n      <td>4.10</td>\n      <td>2.74</td>\n      <td>24.5</td>\n      <td>96.0</td>\n      <td>2.05</td>\n      <td>0.76</td>\n      <td>0.56</td>\n      <td>1.35</td>\n      <td>9.20</td>\n      <td>0.61</td>\n      <td>1.60</td>\n      <td>560.0</td>\n      <td>2</td>\n    </tr>\n  </tbody>\n</table>\n<p>178 rows × 14 columns</p>\n</div>"
     },
     "execution_count": 7,
     "metadata": {},
     "output_type": "execute_result"
    }
   ],
   "source": [
    "df_data = pd.concat([df_x, df_y], axis=1)\n",
    "df_data"
   ],
   "metadata": {
    "collapsed": false,
    "pycharm": {
     "name": "#%%\n"
    }
   }
  },
  {
   "cell_type": "markdown",
   "source": [
    "### 数据准备"
   ],
   "metadata": {
    "collapsed": false
   }
  },
  {
   "cell_type": "code",
   "execution_count": 8,
   "outputs": [],
   "source": [
    "x_train, x_test, y_train, y_test = train_test_split(df_x, df_y, test_size=0.3)"
   ],
   "metadata": {
    "collapsed": false,
    "pycharm": {
     "name": "#%%\n"
    }
   }
  },
  {
   "cell_type": "code",
   "execution_count": 9,
   "outputs": [
    {
     "data": {
      "text/plain": "       x_0   x_1   x_2   x_3    x_4   x_5   x_6   x_7   x_8    x_9  x_10  \\\n158  14.34  1.68  2.70  25.0   98.0  2.80  1.31  0.53  2.70  13.00  0.57   \n78   12.33  0.99  1.95  14.8  136.0  1.90  1.85  0.35  2.76   3.40  1.06   \n136  12.25  4.72  2.54  21.0   89.0  1.38  0.47  0.53  0.80   3.85  0.75   \n129  12.04  4.30  2.38  22.0   80.0  2.10  1.75  0.42  1.35   2.60  0.79   \n173  13.71  5.65  2.45  20.5   95.0  1.68  0.61  0.52  1.06   7.70  0.64   \n..     ...   ...   ...   ...    ...   ...   ...   ...   ...    ...   ...   \n131  12.88  2.99  2.40  20.0  104.0  1.30  1.22  0.24  0.83   5.40  0.74   \n155  13.17  5.19  2.32  22.0   93.0  1.74  0.63  0.61  1.55   7.90  0.60   \n160  12.36  3.83  2.38  21.0   88.0  2.30  0.92  0.50  1.04   7.65  0.56   \n98   12.37  1.07  2.10  18.5   88.0  3.52  3.75  0.24  1.95   4.50  1.04   \n37   13.05  1.65  2.55  18.0   98.0  2.45  2.43  0.29  1.44   4.25  1.12   \n\n     x_11    x_12  \n158  1.96   660.0  \n78   2.31   750.0  \n136  1.27   720.0  \n129  2.57   580.0  \n173  1.74   740.0  \n..    ...     ...  \n131  1.42   530.0  \n155  1.48   725.0  \n160  1.58   520.0  \n98   2.77   660.0  \n37   2.51  1105.0  \n\n[124 rows x 13 columns]",
      "text/html": "<div>\n<style scoped>\n    .dataframe tbody tr th:only-of-type {\n        vertical-align: middle;\n    }\n\n    .dataframe tbody tr th {\n        vertical-align: top;\n    }\n\n    .dataframe thead th {\n        text-align: right;\n    }\n</style>\n<table border=\"1\" class=\"dataframe\">\n  <thead>\n    <tr style=\"text-align: right;\">\n      <th></th>\n      <th>x_0</th>\n      <th>x_1</th>\n      <th>x_2</th>\n      <th>x_3</th>\n      <th>x_4</th>\n      <th>x_5</th>\n      <th>x_6</th>\n      <th>x_7</th>\n      <th>x_8</th>\n      <th>x_9</th>\n      <th>x_10</th>\n      <th>x_11</th>\n      <th>x_12</th>\n    </tr>\n  </thead>\n  <tbody>\n    <tr>\n      <th>158</th>\n      <td>14.34</td>\n      <td>1.68</td>\n      <td>2.70</td>\n      <td>25.0</td>\n      <td>98.0</td>\n      <td>2.80</td>\n      <td>1.31</td>\n      <td>0.53</td>\n      <td>2.70</td>\n      <td>13.00</td>\n      <td>0.57</td>\n      <td>1.96</td>\n      <td>660.0</td>\n    </tr>\n    <tr>\n      <th>78</th>\n      <td>12.33</td>\n      <td>0.99</td>\n      <td>1.95</td>\n      <td>14.8</td>\n      <td>136.0</td>\n      <td>1.90</td>\n      <td>1.85</td>\n      <td>0.35</td>\n      <td>2.76</td>\n      <td>3.40</td>\n      <td>1.06</td>\n      <td>2.31</td>\n      <td>750.0</td>\n    </tr>\n    <tr>\n      <th>136</th>\n      <td>12.25</td>\n      <td>4.72</td>\n      <td>2.54</td>\n      <td>21.0</td>\n      <td>89.0</td>\n      <td>1.38</td>\n      <td>0.47</td>\n      <td>0.53</td>\n      <td>0.80</td>\n      <td>3.85</td>\n      <td>0.75</td>\n      <td>1.27</td>\n      <td>720.0</td>\n    </tr>\n    <tr>\n      <th>129</th>\n      <td>12.04</td>\n      <td>4.30</td>\n      <td>2.38</td>\n      <td>22.0</td>\n      <td>80.0</td>\n      <td>2.10</td>\n      <td>1.75</td>\n      <td>0.42</td>\n      <td>1.35</td>\n      <td>2.60</td>\n      <td>0.79</td>\n      <td>2.57</td>\n      <td>580.0</td>\n    </tr>\n    <tr>\n      <th>173</th>\n      <td>13.71</td>\n      <td>5.65</td>\n      <td>2.45</td>\n      <td>20.5</td>\n      <td>95.0</td>\n      <td>1.68</td>\n      <td>0.61</td>\n      <td>0.52</td>\n      <td>1.06</td>\n      <td>7.70</td>\n      <td>0.64</td>\n      <td>1.74</td>\n      <td>740.0</td>\n    </tr>\n    <tr>\n      <th>...</th>\n      <td>...</td>\n      <td>...</td>\n      <td>...</td>\n      <td>...</td>\n      <td>...</td>\n      <td>...</td>\n      <td>...</td>\n      <td>...</td>\n      <td>...</td>\n      <td>...</td>\n      <td>...</td>\n      <td>...</td>\n      <td>...</td>\n    </tr>\n    <tr>\n      <th>131</th>\n      <td>12.88</td>\n      <td>2.99</td>\n      <td>2.40</td>\n      <td>20.0</td>\n      <td>104.0</td>\n      <td>1.30</td>\n      <td>1.22</td>\n      <td>0.24</td>\n      <td>0.83</td>\n      <td>5.40</td>\n      <td>0.74</td>\n      <td>1.42</td>\n      <td>530.0</td>\n    </tr>\n    <tr>\n      <th>155</th>\n      <td>13.17</td>\n      <td>5.19</td>\n      <td>2.32</td>\n      <td>22.0</td>\n      <td>93.0</td>\n      <td>1.74</td>\n      <td>0.63</td>\n      <td>0.61</td>\n      <td>1.55</td>\n      <td>7.90</td>\n      <td>0.60</td>\n      <td>1.48</td>\n      <td>725.0</td>\n    </tr>\n    <tr>\n      <th>160</th>\n      <td>12.36</td>\n      <td>3.83</td>\n      <td>2.38</td>\n      <td>21.0</td>\n      <td>88.0</td>\n      <td>2.30</td>\n      <td>0.92</td>\n      <td>0.50</td>\n      <td>1.04</td>\n      <td>7.65</td>\n      <td>0.56</td>\n      <td>1.58</td>\n      <td>520.0</td>\n    </tr>\n    <tr>\n      <th>98</th>\n      <td>12.37</td>\n      <td>1.07</td>\n      <td>2.10</td>\n      <td>18.5</td>\n      <td>88.0</td>\n      <td>3.52</td>\n      <td>3.75</td>\n      <td>0.24</td>\n      <td>1.95</td>\n      <td>4.50</td>\n      <td>1.04</td>\n      <td>2.77</td>\n      <td>660.0</td>\n    </tr>\n    <tr>\n      <th>37</th>\n      <td>13.05</td>\n      <td>1.65</td>\n      <td>2.55</td>\n      <td>18.0</td>\n      <td>98.0</td>\n      <td>2.45</td>\n      <td>2.43</td>\n      <td>0.29</td>\n      <td>1.44</td>\n      <td>4.25</td>\n      <td>1.12</td>\n      <td>2.51</td>\n      <td>1105.0</td>\n    </tr>\n  </tbody>\n</table>\n<p>124 rows × 13 columns</p>\n</div>"
     },
     "execution_count": 9,
     "metadata": {},
     "output_type": "execute_result"
    }
   ],
   "source": [
    "x_train"
   ],
   "metadata": {
    "collapsed": false,
    "pycharm": {
     "name": "#%%\n"
    }
   }
  },
  {
   "cell_type": "code",
   "execution_count": 10,
   "outputs": [
    {
     "data": {
      "text/plain": "       x_0   x_1   x_2   x_3    x_4   x_5   x_6   x_7   x_8    x_9  x_10  \\\n100  12.08  2.08  1.70  17.5   97.0  2.23  2.17  0.26  1.40   3.30  1.27   \n4    13.24  2.59  2.87  21.0  118.0  2.80  2.69  0.39  1.82   4.32  1.04   \n166  13.45  3.70  2.60  23.0  111.0  1.70  0.92  0.43  1.46  10.68  0.85   \n28   13.87  1.90  2.80  19.4  107.0  2.95  2.97  0.37  1.76   4.50  1.25   \n119  12.00  3.43  2.00  19.0   87.0  2.00  1.64  0.37  1.87   1.28  0.93   \n144  12.25  3.88  2.20  18.5  112.0  1.38  0.78  0.29  1.14   8.21  0.65   \n168  13.58  2.58  2.69  24.5  105.0  1.55  0.84  0.39  1.54   8.66  0.74   \n45   14.21  4.04  2.44  18.9  111.0  2.85  2.65  0.30  1.25   5.24  0.87   \n49   13.94  1.73  2.27  17.4  108.0  2.88  3.54  0.32  2.08   8.90  1.12   \n17   13.83  1.57  2.62  20.0  115.0  2.95  3.40  0.40  1.72   6.60  1.13   \n116  11.82  1.47  1.99  20.8   86.0  1.98  1.60  0.30  1.53   1.95  0.95   \n142  13.52  3.17  2.72  23.5   97.0  1.55  0.52  0.50  0.55   4.35  0.89   \n108  12.22  1.29  1.94  19.0   92.0  2.36  2.04  0.39  2.08   2.70  0.86   \n99   12.29  3.17  2.21  18.0   88.0  2.85  2.99  0.45  2.81   2.30  1.42   \n3    14.37  1.95  2.50  16.8  113.0  3.85  3.49  0.24  2.18   7.80  0.86   \n5    14.20  1.76  2.45  15.2  112.0  3.27  3.39  0.34  1.97   6.75  1.05   \n80   12.00  0.92  2.00  19.0   86.0  2.42  2.26  0.30  1.43   2.50  1.38   \n107  12.72  1.75  2.28  22.5   84.0  1.38  1.76  0.48  1.63   3.30  0.88   \n84   11.84  0.89  2.58  18.0   94.0  2.20  2.21  0.22  2.35   3.05  0.79   \n85   12.67  0.98  2.24  18.0   99.0  2.20  1.94  0.30  1.46   2.62  1.23   \n138  13.49  3.59  2.19  19.5   88.0  1.62  0.48  0.58  0.88   5.70  0.81   \n110  11.46  3.74  1.82  19.5  107.0  3.18  2.58  0.24  3.58   2.90  0.75   \n58   13.72  1.43  2.50  16.7  108.0  3.40  3.67  0.19  2.04   6.80  0.89   \n20   14.06  1.63  2.28  16.0  126.0  3.00  3.17  0.24  2.10   5.65  1.09   \n64   12.17  1.45  2.53  19.0  104.0  1.89  1.75  0.45  1.03   2.95  1.45   \n15   13.63  1.81  2.70  17.2  112.0  2.85  2.91  0.30  1.46   7.30  1.28   \n145  13.16  3.57  2.15  21.0  102.0  1.50  0.55  0.43  1.30   4.00  0.60   \n25   13.05  2.05  3.22  25.0  124.0  2.63  2.68  0.47  1.92   3.58  1.13   \n106  12.25  1.73  2.12  19.0   80.0  1.65  2.03  0.37  1.63   3.40  1.00   \n50   13.05  1.73  2.04  12.4   92.0  2.72  3.27  0.17  2.91   7.20  1.12   \n43   13.24  3.98  2.29  17.5  103.0  2.64  2.63  0.32  1.66   4.36  0.82   \n8    14.83  1.64  2.17  14.0   97.0  2.80  2.98  0.29  1.98   5.20  1.08   \n77   11.84  2.89  2.23  18.0  112.0  1.72  1.32  0.43  0.95   2.65  0.96   \n157  12.45  3.03  2.64  27.0   97.0  1.90  0.58  0.63  1.14   7.50  0.67   \n127  11.79  2.13  2.78  28.5   92.0  2.13  2.24  0.58  1.76   3.00  0.97   \n18   14.19  1.59  2.48  16.5  108.0  3.30  3.93  0.32  1.86   8.70  1.23   \n89   12.08  1.33  2.30  23.6   70.0  2.20  1.59  0.42  1.38   1.74  1.07   \n91   12.00  1.51  2.42  22.0   86.0  1.45  1.25  0.50  1.63   3.60  1.05   \n135  12.60  2.46  2.20  18.5   94.0  1.62  0.66  0.63  0.94   7.10  0.73   \n140  12.93  2.81  2.70  21.0   96.0  1.54  0.50  0.53  0.75   4.60  0.77   \n161  13.69  3.26  2.54  20.0  107.0  1.83  0.56  0.50  0.80   5.88  0.96   \n133  12.70  3.55  2.36  21.5  106.0  1.70  1.20  0.17  0.84   5.00  0.78   \n60   12.33  1.10  2.28  16.0  101.0  2.05  1.09  0.63  0.41   3.27  1.25   \n121  11.56  2.05  3.23  28.5  119.0  3.18  5.08  0.47  1.87   6.00  0.93   \n124  11.87  4.31  2.39  21.0   82.0  2.86  3.03  0.21  2.91   2.80  0.75   \n10   14.10  2.16  2.30  18.0  105.0  2.95  3.32  0.22  2.38   5.75  1.25   \n73   12.99  1.67  2.60  30.0  139.0  3.30  2.89  0.21  1.96   3.35  1.31   \n92   12.69  1.53  2.26  20.7   80.0  1.38  1.46  0.58  1.62   3.05  0.96   \n52   13.82  1.75  2.42  14.0  111.0  3.88  3.74  0.32  1.87   7.05  1.01   \n104  12.51  1.73  1.98  20.5   85.0  2.20  1.92  0.32  1.48   2.94  1.04   \n113  11.41  0.74  2.50  21.0   88.0  2.48  2.01  0.42  1.44   3.08  1.10   \n54   13.74  1.67  2.25  16.4  118.0  2.60  2.90  0.21  1.62   5.85  0.92   \n65   12.37  1.21  2.56  18.1   98.0  2.42  2.65  0.37  2.08   4.60  1.19   \n14   14.38  1.87  2.38  12.0  102.0  3.30  3.64  0.29  2.96   7.50  1.20   \n\n     x_11    x_12  \n100  2.96   710.0  \n4    2.93   735.0  \n166  1.56   695.0  \n28   3.40   915.0  \n119  3.05   564.0  \n144  2.00   855.0  \n168  1.80   750.0  \n45   3.33  1080.0  \n49   3.10  1260.0  \n17   2.57  1130.0  \n116  3.33   495.0  \n142  2.06   520.0  \n108  3.02   312.0  \n99   2.83   406.0  \n3    3.45  1480.0  \n5    2.85  1450.0  \n80   3.12   278.0  \n107  2.42   488.0  \n84   3.08   520.0  \n85   3.16   450.0  \n138  1.82   580.0  \n110  2.81   562.0  \n58   2.87  1285.0  \n20   3.71   780.0  \n64   2.23   355.0  \n15   2.88  1310.0  \n145  1.68   830.0  \n25   3.20   830.0  \n106  3.17   510.0  \n50   2.91  1150.0  \n43   3.00   680.0  \n8    2.85  1045.0  \n77   2.52   500.0  \n157  1.73   880.0  \n127  2.44   466.0  \n18   2.82  1680.0  \n89   3.21   625.0  \n91   2.65   450.0  \n135  1.58   695.0  \n140  2.31   600.0  \n161  1.82   680.0  \n133  1.29   600.0  \n60   1.67   680.0  \n121  3.69   465.0  \n124  3.64   380.0  \n10   3.17  1510.0  \n73   3.50   985.0  \n92   2.06   495.0  \n52   3.26  1190.0  \n104  3.57   672.0  \n113  2.31   434.0  \n54   3.20  1060.0  \n65   2.30   678.0  \n14   3.00  1547.0  ",
      "text/html": "<div>\n<style scoped>\n    .dataframe tbody tr th:only-of-type {\n        vertical-align: middle;\n    }\n\n    .dataframe tbody tr th {\n        vertical-align: top;\n    }\n\n    .dataframe thead th {\n        text-align: right;\n    }\n</style>\n<table border=\"1\" class=\"dataframe\">\n  <thead>\n    <tr style=\"text-align: right;\">\n      <th></th>\n      <th>x_0</th>\n      <th>x_1</th>\n      <th>x_2</th>\n      <th>x_3</th>\n      <th>x_4</th>\n      <th>x_5</th>\n      <th>x_6</th>\n      <th>x_7</th>\n      <th>x_8</th>\n      <th>x_9</th>\n      <th>x_10</th>\n      <th>x_11</th>\n      <th>x_12</th>\n    </tr>\n  </thead>\n  <tbody>\n    <tr>\n      <th>100</th>\n      <td>12.08</td>\n      <td>2.08</td>\n      <td>1.70</td>\n      <td>17.5</td>\n      <td>97.0</td>\n      <td>2.23</td>\n      <td>2.17</td>\n      <td>0.26</td>\n      <td>1.40</td>\n      <td>3.30</td>\n      <td>1.27</td>\n      <td>2.96</td>\n      <td>710.0</td>\n    </tr>\n    <tr>\n      <th>4</th>\n      <td>13.24</td>\n      <td>2.59</td>\n      <td>2.87</td>\n      <td>21.0</td>\n      <td>118.0</td>\n      <td>2.80</td>\n      <td>2.69</td>\n      <td>0.39</td>\n      <td>1.82</td>\n      <td>4.32</td>\n      <td>1.04</td>\n      <td>2.93</td>\n      <td>735.0</td>\n    </tr>\n    <tr>\n      <th>166</th>\n      <td>13.45</td>\n      <td>3.70</td>\n      <td>2.60</td>\n      <td>23.0</td>\n      <td>111.0</td>\n      <td>1.70</td>\n      <td>0.92</td>\n      <td>0.43</td>\n      <td>1.46</td>\n      <td>10.68</td>\n      <td>0.85</td>\n      <td>1.56</td>\n      <td>695.0</td>\n    </tr>\n    <tr>\n      <th>28</th>\n      <td>13.87</td>\n      <td>1.90</td>\n      <td>2.80</td>\n      <td>19.4</td>\n      <td>107.0</td>\n      <td>2.95</td>\n      <td>2.97</td>\n      <td>0.37</td>\n      <td>1.76</td>\n      <td>4.50</td>\n      <td>1.25</td>\n      <td>3.40</td>\n      <td>915.0</td>\n    </tr>\n    <tr>\n      <th>119</th>\n      <td>12.00</td>\n      <td>3.43</td>\n      <td>2.00</td>\n      <td>19.0</td>\n      <td>87.0</td>\n      <td>2.00</td>\n      <td>1.64</td>\n      <td>0.37</td>\n      <td>1.87</td>\n      <td>1.28</td>\n      <td>0.93</td>\n      <td>3.05</td>\n      <td>564.0</td>\n    </tr>\n    <tr>\n      <th>144</th>\n      <td>12.25</td>\n      <td>3.88</td>\n      <td>2.20</td>\n      <td>18.5</td>\n      <td>112.0</td>\n      <td>1.38</td>\n      <td>0.78</td>\n      <td>0.29</td>\n      <td>1.14</td>\n      <td>8.21</td>\n      <td>0.65</td>\n      <td>2.00</td>\n      <td>855.0</td>\n    </tr>\n    <tr>\n      <th>168</th>\n      <td>13.58</td>\n      <td>2.58</td>\n      <td>2.69</td>\n      <td>24.5</td>\n      <td>105.0</td>\n      <td>1.55</td>\n      <td>0.84</td>\n      <td>0.39</td>\n      <td>1.54</td>\n      <td>8.66</td>\n      <td>0.74</td>\n      <td>1.80</td>\n      <td>750.0</td>\n    </tr>\n    <tr>\n      <th>45</th>\n      <td>14.21</td>\n      <td>4.04</td>\n      <td>2.44</td>\n      <td>18.9</td>\n      <td>111.0</td>\n      <td>2.85</td>\n      <td>2.65</td>\n      <td>0.30</td>\n      <td>1.25</td>\n      <td>5.24</td>\n      <td>0.87</td>\n      <td>3.33</td>\n      <td>1080.0</td>\n    </tr>\n    <tr>\n      <th>49</th>\n      <td>13.94</td>\n      <td>1.73</td>\n      <td>2.27</td>\n      <td>17.4</td>\n      <td>108.0</td>\n      <td>2.88</td>\n      <td>3.54</td>\n      <td>0.32</td>\n      <td>2.08</td>\n      <td>8.90</td>\n      <td>1.12</td>\n      <td>3.10</td>\n      <td>1260.0</td>\n    </tr>\n    <tr>\n      <th>17</th>\n      <td>13.83</td>\n      <td>1.57</td>\n      <td>2.62</td>\n      <td>20.0</td>\n      <td>115.0</td>\n      <td>2.95</td>\n      <td>3.40</td>\n      <td>0.40</td>\n      <td>1.72</td>\n      <td>6.60</td>\n      <td>1.13</td>\n      <td>2.57</td>\n      <td>1130.0</td>\n    </tr>\n    <tr>\n      <th>116</th>\n      <td>11.82</td>\n      <td>1.47</td>\n      <td>1.99</td>\n      <td>20.8</td>\n      <td>86.0</td>\n      <td>1.98</td>\n      <td>1.60</td>\n      <td>0.30</td>\n      <td>1.53</td>\n      <td>1.95</td>\n      <td>0.95</td>\n      <td>3.33</td>\n      <td>495.0</td>\n    </tr>\n    <tr>\n      <th>142</th>\n      <td>13.52</td>\n      <td>3.17</td>\n      <td>2.72</td>\n      <td>23.5</td>\n      <td>97.0</td>\n      <td>1.55</td>\n      <td>0.52</td>\n      <td>0.50</td>\n      <td>0.55</td>\n      <td>4.35</td>\n      <td>0.89</td>\n      <td>2.06</td>\n      <td>520.0</td>\n    </tr>\n    <tr>\n      <th>108</th>\n      <td>12.22</td>\n      <td>1.29</td>\n      <td>1.94</td>\n      <td>19.0</td>\n      <td>92.0</td>\n      <td>2.36</td>\n      <td>2.04</td>\n      <td>0.39</td>\n      <td>2.08</td>\n      <td>2.70</td>\n      <td>0.86</td>\n      <td>3.02</td>\n      <td>312.0</td>\n    </tr>\n    <tr>\n      <th>99</th>\n      <td>12.29</td>\n      <td>3.17</td>\n      <td>2.21</td>\n      <td>18.0</td>\n      <td>88.0</td>\n      <td>2.85</td>\n      <td>2.99</td>\n      <td>0.45</td>\n      <td>2.81</td>\n      <td>2.30</td>\n      <td>1.42</td>\n      <td>2.83</td>\n      <td>406.0</td>\n    </tr>\n    <tr>\n      <th>3</th>\n      <td>14.37</td>\n      <td>1.95</td>\n      <td>2.50</td>\n      <td>16.8</td>\n      <td>113.0</td>\n      <td>3.85</td>\n      <td>3.49</td>\n      <td>0.24</td>\n      <td>2.18</td>\n      <td>7.80</td>\n      <td>0.86</td>\n      <td>3.45</td>\n      <td>1480.0</td>\n    </tr>\n    <tr>\n      <th>5</th>\n      <td>14.20</td>\n      <td>1.76</td>\n      <td>2.45</td>\n      <td>15.2</td>\n      <td>112.0</td>\n      <td>3.27</td>\n      <td>3.39</td>\n      <td>0.34</td>\n      <td>1.97</td>\n      <td>6.75</td>\n      <td>1.05</td>\n      <td>2.85</td>\n      <td>1450.0</td>\n    </tr>\n    <tr>\n      <th>80</th>\n      <td>12.00</td>\n      <td>0.92</td>\n      <td>2.00</td>\n      <td>19.0</td>\n      <td>86.0</td>\n      <td>2.42</td>\n      <td>2.26</td>\n      <td>0.30</td>\n      <td>1.43</td>\n      <td>2.50</td>\n      <td>1.38</td>\n      <td>3.12</td>\n      <td>278.0</td>\n    </tr>\n    <tr>\n      <th>107</th>\n      <td>12.72</td>\n      <td>1.75</td>\n      <td>2.28</td>\n      <td>22.5</td>\n      <td>84.0</td>\n      <td>1.38</td>\n      <td>1.76</td>\n      <td>0.48</td>\n      <td>1.63</td>\n      <td>3.30</td>\n      <td>0.88</td>\n      <td>2.42</td>\n      <td>488.0</td>\n    </tr>\n    <tr>\n      <th>84</th>\n      <td>11.84</td>\n      <td>0.89</td>\n      <td>2.58</td>\n      <td>18.0</td>\n      <td>94.0</td>\n      <td>2.20</td>\n      <td>2.21</td>\n      <td>0.22</td>\n      <td>2.35</td>\n      <td>3.05</td>\n      <td>0.79</td>\n      <td>3.08</td>\n      <td>520.0</td>\n    </tr>\n    <tr>\n      <th>85</th>\n      <td>12.67</td>\n      <td>0.98</td>\n      <td>2.24</td>\n      <td>18.0</td>\n      <td>99.0</td>\n      <td>2.20</td>\n      <td>1.94</td>\n      <td>0.30</td>\n      <td>1.46</td>\n      <td>2.62</td>\n      <td>1.23</td>\n      <td>3.16</td>\n      <td>450.0</td>\n    </tr>\n    <tr>\n      <th>138</th>\n      <td>13.49</td>\n      <td>3.59</td>\n      <td>2.19</td>\n      <td>19.5</td>\n      <td>88.0</td>\n      <td>1.62</td>\n      <td>0.48</td>\n      <td>0.58</td>\n      <td>0.88</td>\n      <td>5.70</td>\n      <td>0.81</td>\n      <td>1.82</td>\n      <td>580.0</td>\n    </tr>\n    <tr>\n      <th>110</th>\n      <td>11.46</td>\n      <td>3.74</td>\n      <td>1.82</td>\n      <td>19.5</td>\n      <td>107.0</td>\n      <td>3.18</td>\n      <td>2.58</td>\n      <td>0.24</td>\n      <td>3.58</td>\n      <td>2.90</td>\n      <td>0.75</td>\n      <td>2.81</td>\n      <td>562.0</td>\n    </tr>\n    <tr>\n      <th>58</th>\n      <td>13.72</td>\n      <td>1.43</td>\n      <td>2.50</td>\n      <td>16.7</td>\n      <td>108.0</td>\n      <td>3.40</td>\n      <td>3.67</td>\n      <td>0.19</td>\n      <td>2.04</td>\n      <td>6.80</td>\n      <td>0.89</td>\n      <td>2.87</td>\n      <td>1285.0</td>\n    </tr>\n    <tr>\n      <th>20</th>\n      <td>14.06</td>\n      <td>1.63</td>\n      <td>2.28</td>\n      <td>16.0</td>\n      <td>126.0</td>\n      <td>3.00</td>\n      <td>3.17</td>\n      <td>0.24</td>\n      <td>2.10</td>\n      <td>5.65</td>\n      <td>1.09</td>\n      <td>3.71</td>\n      <td>780.0</td>\n    </tr>\n    <tr>\n      <th>64</th>\n      <td>12.17</td>\n      <td>1.45</td>\n      <td>2.53</td>\n      <td>19.0</td>\n      <td>104.0</td>\n      <td>1.89</td>\n      <td>1.75</td>\n      <td>0.45</td>\n      <td>1.03</td>\n      <td>2.95</td>\n      <td>1.45</td>\n      <td>2.23</td>\n      <td>355.0</td>\n    </tr>\n    <tr>\n      <th>15</th>\n      <td>13.63</td>\n      <td>1.81</td>\n      <td>2.70</td>\n      <td>17.2</td>\n      <td>112.0</td>\n      <td>2.85</td>\n      <td>2.91</td>\n      <td>0.30</td>\n      <td>1.46</td>\n      <td>7.30</td>\n      <td>1.28</td>\n      <td>2.88</td>\n      <td>1310.0</td>\n    </tr>\n    <tr>\n      <th>145</th>\n      <td>13.16</td>\n      <td>3.57</td>\n      <td>2.15</td>\n      <td>21.0</td>\n      <td>102.0</td>\n      <td>1.50</td>\n      <td>0.55</td>\n      <td>0.43</td>\n      <td>1.30</td>\n      <td>4.00</td>\n      <td>0.60</td>\n      <td>1.68</td>\n      <td>830.0</td>\n    </tr>\n    <tr>\n      <th>25</th>\n      <td>13.05</td>\n      <td>2.05</td>\n      <td>3.22</td>\n      <td>25.0</td>\n      <td>124.0</td>\n      <td>2.63</td>\n      <td>2.68</td>\n      <td>0.47</td>\n      <td>1.92</td>\n      <td>3.58</td>\n      <td>1.13</td>\n      <td>3.20</td>\n      <td>830.0</td>\n    </tr>\n    <tr>\n      <th>106</th>\n      <td>12.25</td>\n      <td>1.73</td>\n      <td>2.12</td>\n      <td>19.0</td>\n      <td>80.0</td>\n      <td>1.65</td>\n      <td>2.03</td>\n      <td>0.37</td>\n      <td>1.63</td>\n      <td>3.40</td>\n      <td>1.00</td>\n      <td>3.17</td>\n      <td>510.0</td>\n    </tr>\n    <tr>\n      <th>50</th>\n      <td>13.05</td>\n      <td>1.73</td>\n      <td>2.04</td>\n      <td>12.4</td>\n      <td>92.0</td>\n      <td>2.72</td>\n      <td>3.27</td>\n      <td>0.17</td>\n      <td>2.91</td>\n      <td>7.20</td>\n      <td>1.12</td>\n      <td>2.91</td>\n      <td>1150.0</td>\n    </tr>\n    <tr>\n      <th>43</th>\n      <td>13.24</td>\n      <td>3.98</td>\n      <td>2.29</td>\n      <td>17.5</td>\n      <td>103.0</td>\n      <td>2.64</td>\n      <td>2.63</td>\n      <td>0.32</td>\n      <td>1.66</td>\n      <td>4.36</td>\n      <td>0.82</td>\n      <td>3.00</td>\n      <td>680.0</td>\n    </tr>\n    <tr>\n      <th>8</th>\n      <td>14.83</td>\n      <td>1.64</td>\n      <td>2.17</td>\n      <td>14.0</td>\n      <td>97.0</td>\n      <td>2.80</td>\n      <td>2.98</td>\n      <td>0.29</td>\n      <td>1.98</td>\n      <td>5.20</td>\n      <td>1.08</td>\n      <td>2.85</td>\n      <td>1045.0</td>\n    </tr>\n    <tr>\n      <th>77</th>\n      <td>11.84</td>\n      <td>2.89</td>\n      <td>2.23</td>\n      <td>18.0</td>\n      <td>112.0</td>\n      <td>1.72</td>\n      <td>1.32</td>\n      <td>0.43</td>\n      <td>0.95</td>\n      <td>2.65</td>\n      <td>0.96</td>\n      <td>2.52</td>\n      <td>500.0</td>\n    </tr>\n    <tr>\n      <th>157</th>\n      <td>12.45</td>\n      <td>3.03</td>\n      <td>2.64</td>\n      <td>27.0</td>\n      <td>97.0</td>\n      <td>1.90</td>\n      <td>0.58</td>\n      <td>0.63</td>\n      <td>1.14</td>\n      <td>7.50</td>\n      <td>0.67</td>\n      <td>1.73</td>\n      <td>880.0</td>\n    </tr>\n    <tr>\n      <th>127</th>\n      <td>11.79</td>\n      <td>2.13</td>\n      <td>2.78</td>\n      <td>28.5</td>\n      <td>92.0</td>\n      <td>2.13</td>\n      <td>2.24</td>\n      <td>0.58</td>\n      <td>1.76</td>\n      <td>3.00</td>\n      <td>0.97</td>\n      <td>2.44</td>\n      <td>466.0</td>\n    </tr>\n    <tr>\n      <th>18</th>\n      <td>14.19</td>\n      <td>1.59</td>\n      <td>2.48</td>\n      <td>16.5</td>\n      <td>108.0</td>\n      <td>3.30</td>\n      <td>3.93</td>\n      <td>0.32</td>\n      <td>1.86</td>\n      <td>8.70</td>\n      <td>1.23</td>\n      <td>2.82</td>\n      <td>1680.0</td>\n    </tr>\n    <tr>\n      <th>89</th>\n      <td>12.08</td>\n      <td>1.33</td>\n      <td>2.30</td>\n      <td>23.6</td>\n      <td>70.0</td>\n      <td>2.20</td>\n      <td>1.59</td>\n      <td>0.42</td>\n      <td>1.38</td>\n      <td>1.74</td>\n      <td>1.07</td>\n      <td>3.21</td>\n      <td>625.0</td>\n    </tr>\n    <tr>\n      <th>91</th>\n      <td>12.00</td>\n      <td>1.51</td>\n      <td>2.42</td>\n      <td>22.0</td>\n      <td>86.0</td>\n      <td>1.45</td>\n      <td>1.25</td>\n      <td>0.50</td>\n      <td>1.63</td>\n      <td>3.60</td>\n      <td>1.05</td>\n      <td>2.65</td>\n      <td>450.0</td>\n    </tr>\n    <tr>\n      <th>135</th>\n      <td>12.60</td>\n      <td>2.46</td>\n      <td>2.20</td>\n      <td>18.5</td>\n      <td>94.0</td>\n      <td>1.62</td>\n      <td>0.66</td>\n      <td>0.63</td>\n      <td>0.94</td>\n      <td>7.10</td>\n      <td>0.73</td>\n      <td>1.58</td>\n      <td>695.0</td>\n    </tr>\n    <tr>\n      <th>140</th>\n      <td>12.93</td>\n      <td>2.81</td>\n      <td>2.70</td>\n      <td>21.0</td>\n      <td>96.0</td>\n      <td>1.54</td>\n      <td>0.50</td>\n      <td>0.53</td>\n      <td>0.75</td>\n      <td>4.60</td>\n      <td>0.77</td>\n      <td>2.31</td>\n      <td>600.0</td>\n    </tr>\n    <tr>\n      <th>161</th>\n      <td>13.69</td>\n      <td>3.26</td>\n      <td>2.54</td>\n      <td>20.0</td>\n      <td>107.0</td>\n      <td>1.83</td>\n      <td>0.56</td>\n      <td>0.50</td>\n      <td>0.80</td>\n      <td>5.88</td>\n      <td>0.96</td>\n      <td>1.82</td>\n      <td>680.0</td>\n    </tr>\n    <tr>\n      <th>133</th>\n      <td>12.70</td>\n      <td>3.55</td>\n      <td>2.36</td>\n      <td>21.5</td>\n      <td>106.0</td>\n      <td>1.70</td>\n      <td>1.20</td>\n      <td>0.17</td>\n      <td>0.84</td>\n      <td>5.00</td>\n      <td>0.78</td>\n      <td>1.29</td>\n      <td>600.0</td>\n    </tr>\n    <tr>\n      <th>60</th>\n      <td>12.33</td>\n      <td>1.10</td>\n      <td>2.28</td>\n      <td>16.0</td>\n      <td>101.0</td>\n      <td>2.05</td>\n      <td>1.09</td>\n      <td>0.63</td>\n      <td>0.41</td>\n      <td>3.27</td>\n      <td>1.25</td>\n      <td>1.67</td>\n      <td>680.0</td>\n    </tr>\n    <tr>\n      <th>121</th>\n      <td>11.56</td>\n      <td>2.05</td>\n      <td>3.23</td>\n      <td>28.5</td>\n      <td>119.0</td>\n      <td>3.18</td>\n      <td>5.08</td>\n      <td>0.47</td>\n      <td>1.87</td>\n      <td>6.00</td>\n      <td>0.93</td>\n      <td>3.69</td>\n      <td>465.0</td>\n    </tr>\n    <tr>\n      <th>124</th>\n      <td>11.87</td>\n      <td>4.31</td>\n      <td>2.39</td>\n      <td>21.0</td>\n      <td>82.0</td>\n      <td>2.86</td>\n      <td>3.03</td>\n      <td>0.21</td>\n      <td>2.91</td>\n      <td>2.80</td>\n      <td>0.75</td>\n      <td>3.64</td>\n      <td>380.0</td>\n    </tr>\n    <tr>\n      <th>10</th>\n      <td>14.10</td>\n      <td>2.16</td>\n      <td>2.30</td>\n      <td>18.0</td>\n      <td>105.0</td>\n      <td>2.95</td>\n      <td>3.32</td>\n      <td>0.22</td>\n      <td>2.38</td>\n      <td>5.75</td>\n      <td>1.25</td>\n      <td>3.17</td>\n      <td>1510.0</td>\n    </tr>\n    <tr>\n      <th>73</th>\n      <td>12.99</td>\n      <td>1.67</td>\n      <td>2.60</td>\n      <td>30.0</td>\n      <td>139.0</td>\n      <td>3.30</td>\n      <td>2.89</td>\n      <td>0.21</td>\n      <td>1.96</td>\n      <td>3.35</td>\n      <td>1.31</td>\n      <td>3.50</td>\n      <td>985.0</td>\n    </tr>\n    <tr>\n      <th>92</th>\n      <td>12.69</td>\n      <td>1.53</td>\n      <td>2.26</td>\n      <td>20.7</td>\n      <td>80.0</td>\n      <td>1.38</td>\n      <td>1.46</td>\n      <td>0.58</td>\n      <td>1.62</td>\n      <td>3.05</td>\n      <td>0.96</td>\n      <td>2.06</td>\n      <td>495.0</td>\n    </tr>\n    <tr>\n      <th>52</th>\n      <td>13.82</td>\n      <td>1.75</td>\n      <td>2.42</td>\n      <td>14.0</td>\n      <td>111.0</td>\n      <td>3.88</td>\n      <td>3.74</td>\n      <td>0.32</td>\n      <td>1.87</td>\n      <td>7.05</td>\n      <td>1.01</td>\n      <td>3.26</td>\n      <td>1190.0</td>\n    </tr>\n    <tr>\n      <th>104</th>\n      <td>12.51</td>\n      <td>1.73</td>\n      <td>1.98</td>\n      <td>20.5</td>\n      <td>85.0</td>\n      <td>2.20</td>\n      <td>1.92</td>\n      <td>0.32</td>\n      <td>1.48</td>\n      <td>2.94</td>\n      <td>1.04</td>\n      <td>3.57</td>\n      <td>672.0</td>\n    </tr>\n    <tr>\n      <th>113</th>\n      <td>11.41</td>\n      <td>0.74</td>\n      <td>2.50</td>\n      <td>21.0</td>\n      <td>88.0</td>\n      <td>2.48</td>\n      <td>2.01</td>\n      <td>0.42</td>\n      <td>1.44</td>\n      <td>3.08</td>\n      <td>1.10</td>\n      <td>2.31</td>\n      <td>434.0</td>\n    </tr>\n    <tr>\n      <th>54</th>\n      <td>13.74</td>\n      <td>1.67</td>\n      <td>2.25</td>\n      <td>16.4</td>\n      <td>118.0</td>\n      <td>2.60</td>\n      <td>2.90</td>\n      <td>0.21</td>\n      <td>1.62</td>\n      <td>5.85</td>\n      <td>0.92</td>\n      <td>3.20</td>\n      <td>1060.0</td>\n    </tr>\n    <tr>\n      <th>65</th>\n      <td>12.37</td>\n      <td>1.21</td>\n      <td>2.56</td>\n      <td>18.1</td>\n      <td>98.0</td>\n      <td>2.42</td>\n      <td>2.65</td>\n      <td>0.37</td>\n      <td>2.08</td>\n      <td>4.60</td>\n      <td>1.19</td>\n      <td>2.30</td>\n      <td>678.0</td>\n    </tr>\n    <tr>\n      <th>14</th>\n      <td>14.38</td>\n      <td>1.87</td>\n      <td>2.38</td>\n      <td>12.0</td>\n      <td>102.0</td>\n      <td>3.30</td>\n      <td>3.64</td>\n      <td>0.29</td>\n      <td>2.96</td>\n      <td>7.50</td>\n      <td>1.20</td>\n      <td>3.00</td>\n      <td>1547.0</td>\n    </tr>\n  </tbody>\n</table>\n</div>"
     },
     "execution_count": 10,
     "metadata": {},
     "output_type": "execute_result"
    }
   ],
   "source": [
    "x_test"
   ],
   "metadata": {
    "collapsed": false,
    "pycharm": {
     "name": "#%%\n"
    }
   }
  },
  {
   "cell_type": "code",
   "execution_count": 11,
   "outputs": [
    {
     "data": {
      "text/plain": "     y\n158  2\n78   1\n136  2\n129  1\n173  2\n..  ..\n131  2\n155  2\n160  2\n98   1\n37   0\n\n[124 rows x 1 columns]",
      "text/html": "<div>\n<style scoped>\n    .dataframe tbody tr th:only-of-type {\n        vertical-align: middle;\n    }\n\n    .dataframe tbody tr th {\n        vertical-align: top;\n    }\n\n    .dataframe thead th {\n        text-align: right;\n    }\n</style>\n<table border=\"1\" class=\"dataframe\">\n  <thead>\n    <tr style=\"text-align: right;\">\n      <th></th>\n      <th>y</th>\n    </tr>\n  </thead>\n  <tbody>\n    <tr>\n      <th>158</th>\n      <td>2</td>\n    </tr>\n    <tr>\n      <th>78</th>\n      <td>1</td>\n    </tr>\n    <tr>\n      <th>136</th>\n      <td>2</td>\n    </tr>\n    <tr>\n      <th>129</th>\n      <td>1</td>\n    </tr>\n    <tr>\n      <th>173</th>\n      <td>2</td>\n    </tr>\n    <tr>\n      <th>...</th>\n      <td>...</td>\n    </tr>\n    <tr>\n      <th>131</th>\n      <td>2</td>\n    </tr>\n    <tr>\n      <th>155</th>\n      <td>2</td>\n    </tr>\n    <tr>\n      <th>160</th>\n      <td>2</td>\n    </tr>\n    <tr>\n      <th>98</th>\n      <td>1</td>\n    </tr>\n    <tr>\n      <th>37</th>\n      <td>0</td>\n    </tr>\n  </tbody>\n</table>\n<p>124 rows × 1 columns</p>\n</div>"
     },
     "execution_count": 11,
     "metadata": {},
     "output_type": "execute_result"
    }
   ],
   "source": [
    "y_train"
   ],
   "metadata": {
    "collapsed": false,
    "pycharm": {
     "name": "#%%\n"
    }
   }
  },
  {
   "cell_type": "code",
   "execution_count": 12,
   "outputs": [
    {
     "data": {
      "text/plain": "     y\n100  1\n4    0\n166  2\n28   0\n119  1\n144  2\n168  2\n45   0\n49   0\n17   0\n116  1\n142  2\n108  1\n99   1\n3    0\n5    0\n80   1\n107  1\n84   1\n85   1\n138  2\n110  1\n58   0\n20   0\n64   1\n15   0\n145  2\n25   0\n106  1\n50   0\n43   0\n8    0\n77   1\n157  2\n127  1\n18   0\n89   1\n91   1\n135  2\n140  2\n161  2\n133  2\n60   1\n121  1\n124  1\n10   0\n73   1\n92   1\n52   0\n104  1\n113  1\n54   0\n65   1\n14   0",
      "text/html": "<div>\n<style scoped>\n    .dataframe tbody tr th:only-of-type {\n        vertical-align: middle;\n    }\n\n    .dataframe tbody tr th {\n        vertical-align: top;\n    }\n\n    .dataframe thead th {\n        text-align: right;\n    }\n</style>\n<table border=\"1\" class=\"dataframe\">\n  <thead>\n    <tr style=\"text-align: right;\">\n      <th></th>\n      <th>y</th>\n    </tr>\n  </thead>\n  <tbody>\n    <tr>\n      <th>100</th>\n      <td>1</td>\n    </tr>\n    <tr>\n      <th>4</th>\n      <td>0</td>\n    </tr>\n    <tr>\n      <th>166</th>\n      <td>2</td>\n    </tr>\n    <tr>\n      <th>28</th>\n      <td>0</td>\n    </tr>\n    <tr>\n      <th>119</th>\n      <td>1</td>\n    </tr>\n    <tr>\n      <th>144</th>\n      <td>2</td>\n    </tr>\n    <tr>\n      <th>168</th>\n      <td>2</td>\n    </tr>\n    <tr>\n      <th>45</th>\n      <td>0</td>\n    </tr>\n    <tr>\n      <th>49</th>\n      <td>0</td>\n    </tr>\n    <tr>\n      <th>17</th>\n      <td>0</td>\n    </tr>\n    <tr>\n      <th>116</th>\n      <td>1</td>\n    </tr>\n    <tr>\n      <th>142</th>\n      <td>2</td>\n    </tr>\n    <tr>\n      <th>108</th>\n      <td>1</td>\n    </tr>\n    <tr>\n      <th>99</th>\n      <td>1</td>\n    </tr>\n    <tr>\n      <th>3</th>\n      <td>0</td>\n    </tr>\n    <tr>\n      <th>5</th>\n      <td>0</td>\n    </tr>\n    <tr>\n      <th>80</th>\n      <td>1</td>\n    </tr>\n    <tr>\n      <th>107</th>\n      <td>1</td>\n    </tr>\n    <tr>\n      <th>84</th>\n      <td>1</td>\n    </tr>\n    <tr>\n      <th>85</th>\n      <td>1</td>\n    </tr>\n    <tr>\n      <th>138</th>\n      <td>2</td>\n    </tr>\n    <tr>\n      <th>110</th>\n      <td>1</td>\n    </tr>\n    <tr>\n      <th>58</th>\n      <td>0</td>\n    </tr>\n    <tr>\n      <th>20</th>\n      <td>0</td>\n    </tr>\n    <tr>\n      <th>64</th>\n      <td>1</td>\n    </tr>\n    <tr>\n      <th>15</th>\n      <td>0</td>\n    </tr>\n    <tr>\n      <th>145</th>\n      <td>2</td>\n    </tr>\n    <tr>\n      <th>25</th>\n      <td>0</td>\n    </tr>\n    <tr>\n      <th>106</th>\n      <td>1</td>\n    </tr>\n    <tr>\n      <th>50</th>\n      <td>0</td>\n    </tr>\n    <tr>\n      <th>43</th>\n      <td>0</td>\n    </tr>\n    <tr>\n      <th>8</th>\n      <td>0</td>\n    </tr>\n    <tr>\n      <th>77</th>\n      <td>1</td>\n    </tr>\n    <tr>\n      <th>157</th>\n      <td>2</td>\n    </tr>\n    <tr>\n      <th>127</th>\n      <td>1</td>\n    </tr>\n    <tr>\n      <th>18</th>\n      <td>0</td>\n    </tr>\n    <tr>\n      <th>89</th>\n      <td>1</td>\n    </tr>\n    <tr>\n      <th>91</th>\n      <td>1</td>\n    </tr>\n    <tr>\n      <th>135</th>\n      <td>2</td>\n    </tr>\n    <tr>\n      <th>140</th>\n      <td>2</td>\n    </tr>\n    <tr>\n      <th>161</th>\n      <td>2</td>\n    </tr>\n    <tr>\n      <th>133</th>\n      <td>2</td>\n    </tr>\n    <tr>\n      <th>60</th>\n      <td>1</td>\n    </tr>\n    <tr>\n      <th>121</th>\n      <td>1</td>\n    </tr>\n    <tr>\n      <th>124</th>\n      <td>1</td>\n    </tr>\n    <tr>\n      <th>10</th>\n      <td>0</td>\n    </tr>\n    <tr>\n      <th>73</th>\n      <td>1</td>\n    </tr>\n    <tr>\n      <th>92</th>\n      <td>1</td>\n    </tr>\n    <tr>\n      <th>52</th>\n      <td>0</td>\n    </tr>\n    <tr>\n      <th>104</th>\n      <td>1</td>\n    </tr>\n    <tr>\n      <th>113</th>\n      <td>1</td>\n    </tr>\n    <tr>\n      <th>54</th>\n      <td>0</td>\n    </tr>\n    <tr>\n      <th>65</th>\n      <td>1</td>\n    </tr>\n    <tr>\n      <th>14</th>\n      <td>0</td>\n    </tr>\n  </tbody>\n</table>\n</div>"
     },
     "execution_count": 12,
     "metadata": {},
     "output_type": "execute_result"
    }
   ],
   "source": [
    "y_test"
   ],
   "metadata": {
    "collapsed": false,
    "pycharm": {
     "name": "#%%\n"
    }
   }
  },
  {
   "cell_type": "markdown",
   "source": [
    "### 1. 实例化\n",
    "\n",
    " + criterion=\"gini\"\n",
    "    + entropy: 信息熵\n",
    "    + gini: 基尼系数\n",
    " + splitter\n",
    "    + best: 每次尽可能选择影响最大的特征进行决策树的划分, 但是可能会产生过拟合的问题\n",
    "    + random: 随机选择特征, 能够缓解过拟合的问题, 但效率更低, 树的深度更深\n",
    " + max_depth=None,\n",
    " + min_samples_split=2,\n",
    " + min_samples_leaf=1,\n",
    " + min_weight_fraction_leaf=0.,\n",
    " + max_features=None,\n",
    " + random_state=30, 可以任意设置一个随机种子, 防止对于同一组训练集和测试集, 决策树产生的结果不同, 如果不设置, 则sklearn实际上会生成一堆的决策树, 然后从中挑选结果最好的返回. 但这样会使得模型不可复现\n",
    " + max_leaf_nodes=None,\n",
    " + min_impurity_decrease=0.,\n",
    " + min_impurity_split=None,\n",
    " + class_weight=None,\n",
    " + ccp_alpha=0.0\n",
    "\n",
    "### 2. 训练模型fit\n",
    "\n",
    "### 3. 导出结果"
   ],
   "metadata": {
    "collapsed": false
   }
  },
  {
   "cell_type": "code",
   "execution_count": 13,
   "outputs": [],
   "source": [
    "model = tree.DecisionTreeClassifier(random_state=15)"
   ],
   "metadata": {
    "collapsed": false,
    "pycharm": {
     "name": "#%%\n"
    }
   }
  },
  {
   "cell_type": "code",
   "source": [
    "model = model.fit(x_train, y_train)\n",
    "result = model.score(x_test, y_test)\n",
    "result"
   ],
   "metadata": {
    "collapsed": false,
    "pycharm": {
     "name": "#%%\n"
    }
   },
   "execution_count": 14,
   "outputs": [
    {
     "data": {
      "text/plain": "0.9259259259259259"
     },
     "execution_count": 14,
     "metadata": {},
     "output_type": "execute_result"
    }
   ]
  },
  {
   "cell_type": "markdown",
   "source": [
    "### 绘制决策树"
   ],
   "metadata": {
    "collapsed": false
   }
  },
  {
   "cell_type": "code",
   "execution_count": 15,
   "outputs": [],
   "source": [
    "import graphviz"
   ],
   "metadata": {
    "collapsed": false,
    "pycharm": {
     "name": "#%%\n"
    }
   }
  },
  {
   "cell_type": "code",
   "execution_count": 16,
   "outputs": [
    {
     "data": {
      "image/svg+xml": "<?xml version=\"1.0\" encoding=\"UTF-8\" standalone=\"no\"?>\n<!DOCTYPE svg PUBLIC \"-//W3C//DTD SVG 1.1//EN\"\n \"http://www.w3.org/Graphics/SVG/1.1/DTD/svg11.dtd\">\n<!-- Generated by graphviz version 3.0.0 (20220226.1711)\n -->\n<!-- Title: Tree Pages: 1 -->\n<svg width=\"866pt\" height=\"552pt\"\n viewBox=\"0.00 0.00 866.00 552.00\" xmlns=\"http://www.w3.org/2000/svg\" xmlns:xlink=\"http://www.w3.org/1999/xlink\">\n<g id=\"graph0\" class=\"graph\" transform=\"scale(1 1) rotate(0) translate(4 548)\">\n<title>Tree</title>\n<polygon fill=\"white\" stroke=\"transparent\" points=\"-4,4 -4,-548 862,-548 862,4 -4,4\"/>\n<!-- 0 -->\n<g id=\"node1\" class=\"node\">\n<title>0</title>\n<path fill=\"#eefdf4\" stroke=\"black\" d=\"M586,-544C586,-544 473,-544 473,-544 467,-544 461,-538 461,-532 461,-532 461,-473 461,-473 461,-467 467,-461 473,-461 473,-461 586,-461 586,-461 592,-461 598,-467 598,-473 598,-473 598,-532 598,-532 598,-538 592,-544 586,-544\"/>\n<text text-anchor=\"middle\" x=\"529.5\" y=\"-528.8\" font-family=\"Helvetica,sans-Serif\" font-size=\"14.00\">x_12 &lt;= 755.0</text>\n<text text-anchor=\"middle\" x=\"529.5\" y=\"-513.8\" font-family=\"Helvetica,sans-Serif\" font-size=\"14.00\">gini = 0.663</text>\n<text text-anchor=\"middle\" x=\"529.5\" y=\"-498.8\" font-family=\"Helvetica,sans-Serif\" font-size=\"14.00\">samples = 124</text>\n<text text-anchor=\"middle\" x=\"529.5\" y=\"-483.8\" font-family=\"Helvetica,sans-Serif\" font-size=\"14.00\">value = [40, 47, 37]</text>\n<text text-anchor=\"middle\" x=\"529.5\" y=\"-468.8\" font-family=\"Helvetica,sans-Serif\" font-size=\"14.00\">class = class_1</text>\n</g>\n<!-- 1 -->\n<g id=\"node2\" class=\"node\">\n<title>1</title>\n<path fill=\"#d2f9e2\" stroke=\"black\" d=\"M448,-425C448,-425 343,-425 343,-425 337,-425 331,-419 331,-413 331,-413 331,-354 331,-354 331,-348 337,-342 343,-342 343,-342 448,-342 448,-342 454,-342 460,-348 460,-354 460,-354 460,-413 460,-413 460,-419 454,-425 448,-425\"/>\n<text text-anchor=\"middle\" x=\"395.5\" y=\"-409.8\" font-family=\"Helvetica,sans-Serif\" font-size=\"14.00\">x_11 &lt;= 2.115</text>\n<text text-anchor=\"middle\" x=\"395.5\" y=\"-394.8\" font-family=\"Helvetica,sans-Serif\" font-size=\"14.00\">gini = 0.492</text>\n<text text-anchor=\"middle\" x=\"395.5\" y=\"-379.8\" font-family=\"Helvetica,sans-Serif\" font-size=\"14.00\">samples = 78</text>\n<text text-anchor=\"middle\" x=\"395.5\" y=\"-364.8\" font-family=\"Helvetica,sans-Serif\" font-size=\"14.00\">value = [0, 44, 34]</text>\n<text text-anchor=\"middle\" x=\"395.5\" y=\"-349.8\" font-family=\"Helvetica,sans-Serif\" font-size=\"14.00\">class = class_1</text>\n</g>\n<!-- 0&#45;&gt;1 -->\n<g id=\"edge1\" class=\"edge\">\n<title>0&#45;&gt;1</title>\n<path fill=\"none\" stroke=\"black\" d=\"M483.01,-460.91C472.2,-451.47 460.6,-441.34 449.5,-431.65\"/>\n<polygon fill=\"black\" stroke=\"black\" points=\"451.74,-428.96 441.91,-425.02 447.14,-434.23 451.74,-428.96\"/>\n<text text-anchor=\"middle\" x=\"443.6\" y=\"-446.26\" font-family=\"Helvetica,sans-Serif\" font-size=\"14.00\">True</text>\n</g>\n<!-- 10 -->\n<g id=\"node11\" class=\"node\">\n<title>10</title>\n<path fill=\"#e99355\" stroke=\"black\" d=\"M650,-425C650,-425 553,-425 553,-425 547,-425 541,-419 541,-413 541,-413 541,-354 541,-354 541,-348 547,-342 553,-342 553,-342 650,-342 650,-342 656,-342 662,-348 662,-354 662,-354 662,-413 662,-413 662,-419 656,-425 650,-425\"/>\n<text text-anchor=\"middle\" x=\"601.5\" y=\"-409.8\" font-family=\"Helvetica,sans-Serif\" font-size=\"14.00\">x_6 &lt;= 2.3</text>\n<text text-anchor=\"middle\" x=\"601.5\" y=\"-394.8\" font-family=\"Helvetica,sans-Serif\" font-size=\"14.00\">gini = 0.235</text>\n<text text-anchor=\"middle\" x=\"601.5\" y=\"-379.8\" font-family=\"Helvetica,sans-Serif\" font-size=\"14.00\">samples = 46</text>\n<text text-anchor=\"middle\" x=\"601.5\" y=\"-364.8\" font-family=\"Helvetica,sans-Serif\" font-size=\"14.00\">value = [40, 3, 3]</text>\n<text text-anchor=\"middle\" x=\"601.5\" y=\"-349.8\" font-family=\"Helvetica,sans-Serif\" font-size=\"14.00\">class = class_0</text>\n</g>\n<!-- 0&#45;&gt;10 -->\n<g id=\"edge10\" class=\"edge\">\n<title>0&#45;&gt;10</title>\n<path fill=\"none\" stroke=\"black\" d=\"M554.48,-460.91C559.9,-452.1 565.68,-442.7 571.28,-433.61\"/>\n<polygon fill=\"black\" stroke=\"black\" points=\"574.3,-435.37 576.56,-425.02 568.34,-431.7 574.3,-435.37\"/>\n<text text-anchor=\"middle\" x=\"582.35\" y=\"-445.64\" font-family=\"Helvetica,sans-Serif\" font-size=\"14.00\">False</text>\n</g>\n<!-- 2 -->\n<g id=\"node3\" class=\"node\">\n<title>2</title>\n<path fill=\"#9051e8\" stroke=\"black\" d=\"M242,-306C242,-306 145,-306 145,-306 139,-306 133,-300 133,-294 133,-294 133,-235 133,-235 133,-229 139,-223 145,-223 145,-223 242,-223 242,-223 248,-223 254,-229 254,-235 254,-235 254,-294 254,-294 254,-300 248,-306 242,-306\"/>\n<text text-anchor=\"middle\" x=\"193.5\" y=\"-290.8\" font-family=\"Helvetica,sans-Serif\" font-size=\"14.00\">x_3 &lt;= 17.25</text>\n<text text-anchor=\"middle\" x=\"193.5\" y=\"-275.8\" font-family=\"Helvetica,sans-Serif\" font-size=\"14.00\">gini = 0.193</text>\n<text text-anchor=\"middle\" x=\"193.5\" y=\"-260.8\" font-family=\"Helvetica,sans-Serif\" font-size=\"14.00\">samples = 37</text>\n<text text-anchor=\"middle\" x=\"193.5\" y=\"-245.8\" font-family=\"Helvetica,sans-Serif\" font-size=\"14.00\">value = [0, 4, 33]</text>\n<text text-anchor=\"middle\" x=\"193.5\" y=\"-230.8\" font-family=\"Helvetica,sans-Serif\" font-size=\"14.00\">class = class_2</text>\n</g>\n<!-- 1&#45;&gt;2 -->\n<g id=\"edge2\" class=\"edge\">\n<title>1&#45;&gt;2</title>\n<path fill=\"none\" stroke=\"black\" d=\"M330.75,-345C309.15,-332.48 284.99,-318.49 263.04,-305.78\"/>\n<polygon fill=\"black\" stroke=\"black\" points=\"264.51,-302.59 254.11,-300.6 261.01,-308.64 264.51,-302.59\"/>\n</g>\n<!-- 7 -->\n<g id=\"node8\" class=\"node\">\n<title>7</title>\n<path fill=\"#3ee684\" stroke=\"black\" d=\"M444,-306C444,-306 347,-306 347,-306 341,-306 335,-300 335,-294 335,-294 335,-235 335,-235 335,-229 341,-223 347,-223 347,-223 444,-223 444,-223 450,-223 456,-229 456,-235 456,-235 456,-294 456,-294 456,-300 450,-306 444,-306\"/>\n<text text-anchor=\"middle\" x=\"395.5\" y=\"-290.8\" font-family=\"Helvetica,sans-Serif\" font-size=\"14.00\">x_6 &lt;= 0.795</text>\n<text text-anchor=\"middle\" x=\"395.5\" y=\"-275.8\" font-family=\"Helvetica,sans-Serif\" font-size=\"14.00\">gini = 0.048</text>\n<text text-anchor=\"middle\" x=\"395.5\" y=\"-260.8\" font-family=\"Helvetica,sans-Serif\" font-size=\"14.00\">samples = 41</text>\n<text text-anchor=\"middle\" x=\"395.5\" y=\"-245.8\" font-family=\"Helvetica,sans-Serif\" font-size=\"14.00\">value = [0, 40, 1]</text>\n<text text-anchor=\"middle\" x=\"395.5\" y=\"-230.8\" font-family=\"Helvetica,sans-Serif\" font-size=\"14.00\">class = class_1</text>\n</g>\n<!-- 1&#45;&gt;7 -->\n<g id=\"edge7\" class=\"edge\">\n<title>1&#45;&gt;7</title>\n<path fill=\"none\" stroke=\"black\" d=\"M395.5,-341.91C395.5,-333.65 395.5,-324.86 395.5,-316.3\"/>\n<polygon fill=\"black\" stroke=\"black\" points=\"399,-316.02 395.5,-306.02 392,-316.02 399,-316.02\"/>\n</g>\n<!-- 3 -->\n<g id=\"node4\" class=\"node\">\n<title>3</title>\n<path fill=\"#39e581\" stroke=\"black\" d=\"M103,-179.5C103,-179.5 12,-179.5 12,-179.5 6,-179.5 0,-173.5 0,-167.5 0,-167.5 0,-123.5 0,-123.5 0,-117.5 6,-111.5 12,-111.5 12,-111.5 103,-111.5 103,-111.5 109,-111.5 115,-117.5 115,-123.5 115,-123.5 115,-167.5 115,-167.5 115,-173.5 109,-179.5 103,-179.5\"/>\n<text text-anchor=\"middle\" x=\"57.5\" y=\"-164.3\" font-family=\"Helvetica,sans-Serif\" font-size=\"14.00\">gini = 0.0</text>\n<text text-anchor=\"middle\" x=\"57.5\" y=\"-149.3\" font-family=\"Helvetica,sans-Serif\" font-size=\"14.00\">samples = 3</text>\n<text text-anchor=\"middle\" x=\"57.5\" y=\"-134.3\" font-family=\"Helvetica,sans-Serif\" font-size=\"14.00\">value = [0, 3, 0]</text>\n<text text-anchor=\"middle\" x=\"57.5\" y=\"-119.3\" font-family=\"Helvetica,sans-Serif\" font-size=\"14.00\">class = class_1</text>\n</g>\n<!-- 2&#45;&gt;3 -->\n<g id=\"edge3\" class=\"edge\">\n<title>2&#45;&gt;3</title>\n<path fill=\"none\" stroke=\"black\" d=\"M146.32,-222.91C132.59,-211.1 117.61,-198.22 103.94,-186.45\"/>\n<polygon fill=\"black\" stroke=\"black\" points=\"105.92,-183.54 96.05,-179.67 101.35,-188.84 105.92,-183.54\"/>\n</g>\n<!-- 4 -->\n<g id=\"node5\" class=\"node\">\n<title>4</title>\n<path fill=\"#853fe6\" stroke=\"black\" d=\"M242,-187C242,-187 145,-187 145,-187 139,-187 133,-181 133,-175 133,-175 133,-116 133,-116 133,-110 139,-104 145,-104 145,-104 242,-104 242,-104 248,-104 254,-110 254,-116 254,-116 254,-175 254,-175 254,-181 248,-187 242,-187\"/>\n<text text-anchor=\"middle\" x=\"193.5\" y=\"-171.8\" font-family=\"Helvetica,sans-Serif\" font-size=\"14.00\">x_6 &lt;= 1.58</text>\n<text text-anchor=\"middle\" x=\"193.5\" y=\"-156.8\" font-family=\"Helvetica,sans-Serif\" font-size=\"14.00\">gini = 0.057</text>\n<text text-anchor=\"middle\" x=\"193.5\" y=\"-141.8\" font-family=\"Helvetica,sans-Serif\" font-size=\"14.00\">samples = 34</text>\n<text text-anchor=\"middle\" x=\"193.5\" y=\"-126.8\" font-family=\"Helvetica,sans-Serif\" font-size=\"14.00\">value = [0, 1, 33]</text>\n<text text-anchor=\"middle\" x=\"193.5\" y=\"-111.8\" font-family=\"Helvetica,sans-Serif\" font-size=\"14.00\">class = class_2</text>\n</g>\n<!-- 2&#45;&gt;4 -->\n<g id=\"edge4\" class=\"edge\">\n<title>2&#45;&gt;4</title>\n<path fill=\"none\" stroke=\"black\" d=\"M193.5,-222.91C193.5,-214.65 193.5,-205.86 193.5,-197.3\"/>\n<polygon fill=\"black\" stroke=\"black\" points=\"197,-197.02 193.5,-187.02 190,-197.02 197,-197.02\"/>\n</g>\n<!-- 5 -->\n<g id=\"node6\" class=\"node\">\n<title>5</title>\n<path fill=\"#8139e5\" stroke=\"black\" d=\"M174,-68C174,-68 77,-68 77,-68 71,-68 65,-62 65,-56 65,-56 65,-12 65,-12 65,-6 71,0 77,0 77,0 174,0 174,0 180,0 186,-6 186,-12 186,-12 186,-56 186,-56 186,-62 180,-68 174,-68\"/>\n<text text-anchor=\"middle\" x=\"125.5\" y=\"-52.8\" font-family=\"Helvetica,sans-Serif\" font-size=\"14.00\">gini = 0.0</text>\n<text text-anchor=\"middle\" x=\"125.5\" y=\"-37.8\" font-family=\"Helvetica,sans-Serif\" font-size=\"14.00\">samples = 33</text>\n<text text-anchor=\"middle\" x=\"125.5\" y=\"-22.8\" font-family=\"Helvetica,sans-Serif\" font-size=\"14.00\">value = [0, 0, 33]</text>\n<text text-anchor=\"middle\" x=\"125.5\" y=\"-7.8\" font-family=\"Helvetica,sans-Serif\" font-size=\"14.00\">class = class_2</text>\n</g>\n<!-- 4&#45;&gt;5 -->\n<g id=\"edge5\" class=\"edge\">\n<title>4&#45;&gt;5</title>\n<path fill=\"none\" stroke=\"black\" d=\"M168.18,-103.73C162.74,-94.97 156.99,-85.7 151.52,-76.91\"/>\n<polygon fill=\"black\" stroke=\"black\" points=\"154.43,-74.95 146.18,-68.3 148.48,-78.64 154.43,-74.95\"/>\n</g>\n<!-- 6 -->\n<g id=\"node7\" class=\"node\">\n<title>6</title>\n<path fill=\"#39e581\" stroke=\"black\" d=\"M307,-68C307,-68 216,-68 216,-68 210,-68 204,-62 204,-56 204,-56 204,-12 204,-12 204,-6 210,0 216,0 216,0 307,0 307,0 313,0 319,-6 319,-12 319,-12 319,-56 319,-56 319,-62 313,-68 307,-68\"/>\n<text text-anchor=\"middle\" x=\"261.5\" y=\"-52.8\" font-family=\"Helvetica,sans-Serif\" font-size=\"14.00\">gini = 0.0</text>\n<text text-anchor=\"middle\" x=\"261.5\" y=\"-37.8\" font-family=\"Helvetica,sans-Serif\" font-size=\"14.00\">samples = 1</text>\n<text text-anchor=\"middle\" x=\"261.5\" y=\"-22.8\" font-family=\"Helvetica,sans-Serif\" font-size=\"14.00\">value = [0, 1, 0]</text>\n<text text-anchor=\"middle\" x=\"261.5\" y=\"-7.8\" font-family=\"Helvetica,sans-Serif\" font-size=\"14.00\">class = class_1</text>\n</g>\n<!-- 4&#45;&gt;6 -->\n<g id=\"edge6\" class=\"edge\">\n<title>4&#45;&gt;6</title>\n<path fill=\"none\" stroke=\"black\" d=\"M218.82,-103.73C224.26,-94.97 230.01,-85.7 235.48,-76.91\"/>\n<polygon fill=\"black\" stroke=\"black\" points=\"238.52,-78.64 240.82,-68.3 232.57,-74.95 238.52,-78.64\"/>\n</g>\n<!-- 8 -->\n<g id=\"node9\" class=\"node\">\n<title>8</title>\n<path fill=\"#8139e5\" stroke=\"black\" d=\"M375,-179.5C375,-179.5 284,-179.5 284,-179.5 278,-179.5 272,-173.5 272,-167.5 272,-167.5 272,-123.5 272,-123.5 272,-117.5 278,-111.5 284,-111.5 284,-111.5 375,-111.5 375,-111.5 381,-111.5 387,-117.5 387,-123.5 387,-123.5 387,-167.5 387,-167.5 387,-173.5 381,-179.5 375,-179.5\"/>\n<text text-anchor=\"middle\" x=\"329.5\" y=\"-164.3\" font-family=\"Helvetica,sans-Serif\" font-size=\"14.00\">gini = 0.0</text>\n<text text-anchor=\"middle\" x=\"329.5\" y=\"-149.3\" font-family=\"Helvetica,sans-Serif\" font-size=\"14.00\">samples = 1</text>\n<text text-anchor=\"middle\" x=\"329.5\" y=\"-134.3\" font-family=\"Helvetica,sans-Serif\" font-size=\"14.00\">value = [0, 0, 1]</text>\n<text text-anchor=\"middle\" x=\"329.5\" y=\"-119.3\" font-family=\"Helvetica,sans-Serif\" font-size=\"14.00\">class = class_2</text>\n</g>\n<!-- 7&#45;&gt;8 -->\n<g id=\"edge8\" class=\"edge\">\n<title>7&#45;&gt;8</title>\n<path fill=\"none\" stroke=\"black\" d=\"M372.6,-222.91C366.31,-211.76 359.49,-199.66 353.16,-188.44\"/>\n<polygon fill=\"black\" stroke=\"black\" points=\"356.17,-186.66 348.21,-179.67 350.07,-190.1 356.17,-186.66\"/>\n</g>\n<!-- 9 -->\n<g id=\"node10\" class=\"node\">\n<title>9</title>\n<path fill=\"#39e581\" stroke=\"black\" d=\"M514,-179.5C514,-179.5 417,-179.5 417,-179.5 411,-179.5 405,-173.5 405,-167.5 405,-167.5 405,-123.5 405,-123.5 405,-117.5 411,-111.5 417,-111.5 417,-111.5 514,-111.5 514,-111.5 520,-111.5 526,-117.5 526,-123.5 526,-123.5 526,-167.5 526,-167.5 526,-173.5 520,-179.5 514,-179.5\"/>\n<text text-anchor=\"middle\" x=\"465.5\" y=\"-164.3\" font-family=\"Helvetica,sans-Serif\" font-size=\"14.00\">gini = 0.0</text>\n<text text-anchor=\"middle\" x=\"465.5\" y=\"-149.3\" font-family=\"Helvetica,sans-Serif\" font-size=\"14.00\">samples = 40</text>\n<text text-anchor=\"middle\" x=\"465.5\" y=\"-134.3\" font-family=\"Helvetica,sans-Serif\" font-size=\"14.00\">value = [0, 40, 0]</text>\n<text text-anchor=\"middle\" x=\"465.5\" y=\"-119.3\" font-family=\"Helvetica,sans-Serif\" font-size=\"14.00\">class = class_1</text>\n</g>\n<!-- 7&#45;&gt;9 -->\n<g id=\"edge9\" class=\"edge\">\n<title>7&#45;&gt;9</title>\n<path fill=\"none\" stroke=\"black\" d=\"M419.79,-222.91C426.45,-211.76 433.7,-199.66 440.41,-188.44\"/>\n<polygon fill=\"black\" stroke=\"black\" points=\"443.53,-190.05 445.66,-179.67 437.52,-186.45 443.53,-190.05\"/>\n</g>\n<!-- 11 -->\n<g id=\"node12\" class=\"node\">\n<title>11</title>\n<path fill=\"#ffffff\" stroke=\"black\" d=\"M647,-306C647,-306 556,-306 556,-306 550,-306 544,-300 544,-294 544,-294 544,-235 544,-235 544,-229 550,-223 556,-223 556,-223 647,-223 647,-223 653,-223 659,-229 659,-235 659,-235 659,-294 659,-294 659,-300 653,-306 647,-306\"/>\n<text text-anchor=\"middle\" x=\"601.5\" y=\"-290.8\" font-family=\"Helvetica,sans-Serif\" font-size=\"14.00\">x_1 &lt;= 1.665</text>\n<text text-anchor=\"middle\" x=\"601.5\" y=\"-275.8\" font-family=\"Helvetica,sans-Serif\" font-size=\"14.00\">gini = 0.612</text>\n<text text-anchor=\"middle\" x=\"601.5\" y=\"-260.8\" font-family=\"Helvetica,sans-Serif\" font-size=\"14.00\">samples = 7</text>\n<text text-anchor=\"middle\" x=\"601.5\" y=\"-245.8\" font-family=\"Helvetica,sans-Serif\" font-size=\"14.00\">value = [1, 3, 3]</text>\n<text text-anchor=\"middle\" x=\"601.5\" y=\"-230.8\" font-family=\"Helvetica,sans-Serif\" font-size=\"14.00\">class = class_1</text>\n</g>\n<!-- 10&#45;&gt;11 -->\n<g id=\"edge11\" class=\"edge\">\n<title>10&#45;&gt;11</title>\n<path fill=\"none\" stroke=\"black\" d=\"M601.5,-341.91C601.5,-333.65 601.5,-324.86 601.5,-316.3\"/>\n<polygon fill=\"black\" stroke=\"black\" points=\"605,-316.02 601.5,-306.02 598,-316.02 605,-316.02\"/>\n</g>\n<!-- 16 -->\n<g id=\"node17\" class=\"node\">\n<title>16</title>\n<path fill=\"#e58139\" stroke=\"black\" d=\"M786,-298.5C786,-298.5 689,-298.5 689,-298.5 683,-298.5 677,-292.5 677,-286.5 677,-286.5 677,-242.5 677,-242.5 677,-236.5 683,-230.5 689,-230.5 689,-230.5 786,-230.5 786,-230.5 792,-230.5 798,-236.5 798,-242.5 798,-242.5 798,-286.5 798,-286.5 798,-292.5 792,-298.5 786,-298.5\"/>\n<text text-anchor=\"middle\" x=\"737.5\" y=\"-283.3\" font-family=\"Helvetica,sans-Serif\" font-size=\"14.00\">gini = 0.0</text>\n<text text-anchor=\"middle\" x=\"737.5\" y=\"-268.3\" font-family=\"Helvetica,sans-Serif\" font-size=\"14.00\">samples = 39</text>\n<text text-anchor=\"middle\" x=\"737.5\" y=\"-253.3\" font-family=\"Helvetica,sans-Serif\" font-size=\"14.00\">value = [39, 0, 0]</text>\n<text text-anchor=\"middle\" x=\"737.5\" y=\"-238.3\" font-family=\"Helvetica,sans-Serif\" font-size=\"14.00\">class = class_0</text>\n</g>\n<!-- 10&#45;&gt;16 -->\n<g id=\"edge16\" class=\"edge\">\n<title>10&#45;&gt;16</title>\n<path fill=\"none\" stroke=\"black\" d=\"M648.68,-341.91C662.41,-330.1 677.39,-317.22 691.06,-305.45\"/>\n<polygon fill=\"black\" stroke=\"black\" points=\"693.65,-307.84 698.95,-298.67 689.08,-302.54 693.65,-307.84\"/>\n</g>\n<!-- 12 -->\n<g id=\"node13\" class=\"node\">\n<title>12</title>\n<path fill=\"#39e581\" stroke=\"black\" d=\"M647,-179.5C647,-179.5 556,-179.5 556,-179.5 550,-179.5 544,-173.5 544,-167.5 544,-167.5 544,-123.5 544,-123.5 544,-117.5 550,-111.5 556,-111.5 556,-111.5 647,-111.5 647,-111.5 653,-111.5 659,-117.5 659,-123.5 659,-123.5 659,-167.5 659,-167.5 659,-173.5 653,-179.5 647,-179.5\"/>\n<text text-anchor=\"middle\" x=\"601.5\" y=\"-164.3\" font-family=\"Helvetica,sans-Serif\" font-size=\"14.00\">gini = 0.0</text>\n<text text-anchor=\"middle\" x=\"601.5\" y=\"-149.3\" font-family=\"Helvetica,sans-Serif\" font-size=\"14.00\">samples = 3</text>\n<text text-anchor=\"middle\" x=\"601.5\" y=\"-134.3\" font-family=\"Helvetica,sans-Serif\" font-size=\"14.00\">value = [0, 3, 0]</text>\n<text text-anchor=\"middle\" x=\"601.5\" y=\"-119.3\" font-family=\"Helvetica,sans-Serif\" font-size=\"14.00\">class = class_1</text>\n</g>\n<!-- 11&#45;&gt;12 -->\n<g id=\"edge12\" class=\"edge\">\n<title>11&#45;&gt;12</title>\n<path fill=\"none\" stroke=\"black\" d=\"M601.5,-222.91C601.5,-212.2 601.5,-200.62 601.5,-189.78\"/>\n<polygon fill=\"black\" stroke=\"black\" points=\"605,-189.67 601.5,-179.67 598,-189.67 605,-189.67\"/>\n</g>\n<!-- 13 -->\n<g id=\"node14\" class=\"node\">\n<title>13</title>\n<path fill=\"#ab7bee\" stroke=\"black\" d=\"M780,-187C780,-187 689,-187 689,-187 683,-187 677,-181 677,-175 677,-175 677,-116 677,-116 677,-110 683,-104 689,-104 689,-104 780,-104 780,-104 786,-104 792,-110 792,-116 792,-116 792,-175 792,-175 792,-181 786,-187 780,-187\"/>\n<text text-anchor=\"middle\" x=\"734.5\" y=\"-171.8\" font-family=\"Helvetica,sans-Serif\" font-size=\"14.00\">x_6 &lt;= 1.44</text>\n<text text-anchor=\"middle\" x=\"734.5\" y=\"-156.8\" font-family=\"Helvetica,sans-Serif\" font-size=\"14.00\">gini = 0.375</text>\n<text text-anchor=\"middle\" x=\"734.5\" y=\"-141.8\" font-family=\"Helvetica,sans-Serif\" font-size=\"14.00\">samples = 4</text>\n<text text-anchor=\"middle\" x=\"734.5\" y=\"-126.8\" font-family=\"Helvetica,sans-Serif\" font-size=\"14.00\">value = [1, 0, 3]</text>\n<text text-anchor=\"middle\" x=\"734.5\" y=\"-111.8\" font-family=\"Helvetica,sans-Serif\" font-size=\"14.00\">class = class_2</text>\n</g>\n<!-- 11&#45;&gt;13 -->\n<g id=\"edge13\" class=\"edge\">\n<title>11&#45;&gt;13</title>\n<path fill=\"none\" stroke=\"black\" d=\"M647.64,-222.91C658.37,-213.47 669.88,-203.34 680.9,-193.65\"/>\n<polygon fill=\"black\" stroke=\"black\" points=\"683.24,-196.25 688.44,-187.02 678.62,-191 683.24,-196.25\"/>\n</g>\n<!-- 14 -->\n<g id=\"node15\" class=\"node\">\n<title>14</title>\n<path fill=\"#8139e5\" stroke=\"black\" d=\"M713,-68C713,-68 622,-68 622,-68 616,-68 610,-62 610,-56 610,-56 610,-12 610,-12 610,-6 616,0 622,0 622,0 713,0 713,0 719,0 725,-6 725,-12 725,-12 725,-56 725,-56 725,-62 719,-68 713,-68\"/>\n<text text-anchor=\"middle\" x=\"667.5\" y=\"-52.8\" font-family=\"Helvetica,sans-Serif\" font-size=\"14.00\">gini = 0.0</text>\n<text text-anchor=\"middle\" x=\"667.5\" y=\"-37.8\" font-family=\"Helvetica,sans-Serif\" font-size=\"14.00\">samples = 3</text>\n<text text-anchor=\"middle\" x=\"667.5\" y=\"-22.8\" font-family=\"Helvetica,sans-Serif\" font-size=\"14.00\">value = [0, 0, 3]</text>\n<text text-anchor=\"middle\" x=\"667.5\" y=\"-7.8\" font-family=\"Helvetica,sans-Serif\" font-size=\"14.00\">class = class_2</text>\n</g>\n<!-- 13&#45;&gt;14 -->\n<g id=\"edge14\" class=\"edge\">\n<title>13&#45;&gt;14</title>\n<path fill=\"none\" stroke=\"black\" d=\"M709.55,-103.73C704.19,-94.97 698.52,-85.7 693.14,-76.91\"/>\n<polygon fill=\"black\" stroke=\"black\" points=\"696.08,-75 687.88,-68.3 690.11,-78.66 696.08,-75\"/>\n</g>\n<!-- 15 -->\n<g id=\"node16\" class=\"node\">\n<title>15</title>\n<path fill=\"#e58139\" stroke=\"black\" d=\"M846,-68C846,-68 755,-68 755,-68 749,-68 743,-62 743,-56 743,-56 743,-12 743,-12 743,-6 749,0 755,0 755,0 846,0 846,0 852,0 858,-6 858,-12 858,-12 858,-56 858,-56 858,-62 852,-68 846,-68\"/>\n<text text-anchor=\"middle\" x=\"800.5\" y=\"-52.8\" font-family=\"Helvetica,sans-Serif\" font-size=\"14.00\">gini = 0.0</text>\n<text text-anchor=\"middle\" x=\"800.5\" y=\"-37.8\" font-family=\"Helvetica,sans-Serif\" font-size=\"14.00\">samples = 1</text>\n<text text-anchor=\"middle\" x=\"800.5\" y=\"-22.8\" font-family=\"Helvetica,sans-Serif\" font-size=\"14.00\">value = [1, 0, 0]</text>\n<text text-anchor=\"middle\" x=\"800.5\" y=\"-7.8\" font-family=\"Helvetica,sans-Serif\" font-size=\"14.00\">class = class_0</text>\n</g>\n<!-- 13&#45;&gt;15 -->\n<g id=\"edge15\" class=\"edge\">\n<title>13&#45;&gt;15</title>\n<path fill=\"none\" stroke=\"black\" d=\"M759.08,-103.73C764.35,-94.97 769.94,-85.7 775.24,-76.91\"/>\n<polygon fill=\"black\" stroke=\"black\" points=\"778.26,-78.67 780.43,-68.3 772.27,-75.06 778.26,-78.67\"/>\n</g>\n</g>\n</svg>\n",
      "text/plain": "<graphviz.sources.Source at 0x230c01fcca0>"
     },
     "execution_count": 16,
     "metadata": {},
     "output_type": "execute_result"
    }
   ],
   "source": [
    "dot_data = tree.export_graphviz(model,\n",
    "                                # 决策树分类的依据\n",
    "                                feature_names=df_x.columns,\n",
    "                                # class_names属性: 分类的名称\n",
    "                                class_names=df_target_names.values.reshape(-1),\n",
    "                                # filled属性: 决策树中通过不同的颜色来区分不同的类别\n",
    "                                filled=True,\n",
    "                                rounded=True)\n",
    "graph = graphviz.Source(dot_data)\n",
    "graph"
   ],
   "metadata": {
    "collapsed": false,
    "pycharm": {
     "name": "#%%\n"
    }
   }
  },
  {
   "cell_type": "markdown",
   "source": [
    "### 获得决策树中的重要特征"
   ],
   "metadata": {
    "collapsed": false
   }
  },
  {
   "cell_type": "code",
   "execution_count": 17,
   "outputs": [
    {
     "data": {
      "text/plain": "x_12    0.401947\nx_11    0.355933\nx_6     0.145093\nx_3     0.063155\nx_1     0.033872\nx_0     0.000000\nx_2     0.000000\nx_4     0.000000\nx_5     0.000000\nx_7     0.000000\nx_8     0.000000\nx_9     0.000000\nx_10    0.000000\ndtype: float64"
     },
     "execution_count": 17,
     "metadata": {},
     "output_type": "execute_result"
    }
   ],
   "source": [
    "s = pd.Series(model.feature_importances_, index=df_x.columns)\n",
    "s.sort_values(ascending=False)"
   ],
   "metadata": {
    "collapsed": false,
    "pycharm": {
     "name": "#%%\n"
    }
   }
  },
  {
   "cell_type": "code",
   "execution_count": 18,
   "outputs": [
    {
     "data": {
      "text/plain": "[('x_0', 0.0),\n ('x_1', 0.03387218782394307),\n ('x_2', 0.0),\n ('x_3', 0.06315462584857971),\n ('x_4', 0.0),\n ('x_5', 0.0),\n ('x_6', 0.14509348039274964),\n ('x_7', 0.0),\n ('x_8', 0.0),\n ('x_9', 0.0),\n ('x_10', 0.0),\n ('x_11', 0.35593301081034207),\n ('x_12', 0.40194669512438547)]"
     },
     "execution_count": 18,
     "metadata": {},
     "output_type": "execute_result"
    }
   ],
   "source": [
    "[*zip(df_x.columns, model.feature_importances_)]"
   ],
   "metadata": {
    "collapsed": false,
    "pycharm": {
     "name": "#%%\n"
    }
   }
  },
  {
   "cell_type": "markdown",
   "source": [
    "## 其它重要属性\n",
    "返回测试集数据在决策树中所在叶子节点的序号"
   ],
   "metadata": {
    "collapsed": false
   }
  },
  {
   "cell_type": "code",
   "execution_count": 26,
   "outputs": [
    {
     "data": {
      "text/plain": "array([ 7,  7,  5, 10,  7,  5,  5, 10, 10, 10,  7,  5,  7,  7, 10, 10,  7,\n        7,  7,  7,  5,  7, 10, 10,  7, 10,  5, 10,  7, 10,  7, 10,  2,  5,\n        7, 10,  7,  2,  5,  5,  5,  5,  2,  7,  7, 10,  9,  2, 10,  7,  7,\n       10,  7, 10], dtype=int64)"
     },
     "execution_count": 26,
     "metadata": {},
     "output_type": "execute_result"
    }
   ],
   "source": [
    "model.apply(x_test)"
   ],
   "metadata": {
    "collapsed": false,
    "pycharm": {
     "name": "#%%\n"
    }
   }
  },
  {
   "cell_type": "markdown",
   "source": [
    "返回测试集数据的预测结果"
   ],
   "metadata": {
    "collapsed": false
   }
  },
  {
   "cell_type": "code",
   "execution_count": 27,
   "outputs": [
    {
     "data": {
      "text/plain": "array([1., 1., 2., 0., 1., 2., 2., 0., 0., 0., 1., 2., 1., 1., 0., 0., 1.,\n       1., 1., 1., 2., 1., 0., 0., 1., 0., 2., 0., 1., 0., 1., 0., 1., 2.,\n       1., 0., 1., 1., 2., 2., 2., 2., 1., 1., 1., 0., 1., 1., 0., 1., 1.,\n       0., 1., 0.])"
     },
     "execution_count": 27,
     "metadata": {},
     "output_type": "execute_result"
    }
   ],
   "source": [
    "model.predict(x_test)"
   ],
   "metadata": {
    "collapsed": false,
    "pycharm": {
     "name": "#%%\n"
    }
   }
  },
  {
   "cell_type": "markdown",
   "source": [
    "## 决策树的剪枝: 优化的核心策略\n",
    "+ max_depth: 限制树的最大深度\n",
    "+ min_samples_leaf: 如果一个节点的子节点中的数目小于该值, 则该节点便不会进行分支, 即实际上该节点不会有子节点, 而是作为一个整体, 防止异常情况和过拟合\n",
    "+ min_samples_split: 上面的参数是先假设分支, 如果子节点数小于设定值则回退, 而当前参数是对当前节点进行判断, 如果当前节点中的样本数少于设定值, 则不会进行分支. 只有当min_samples_split > 2*min_samples_leaf才有效, 否则就画蛇添足了\n",
    "+ max_features: 限制可以使用的特征数量, 一般在不清楚特征值的重要性的情况下不方便使用\n",
    "+ min_impurity_decrease: 信息增益过小的分支将不会发生\n"
   ],
   "metadata": {
    "collapsed": false
   }
  },
  {
   "cell_type": "markdown",
   "source": [
    "## 比较不同参数下的结果值"
   ],
   "metadata": {
    "collapsed": false
   }
  },
  {
   "cell_type": "code",
   "execution_count": 19,
   "outputs": [],
   "source": [
    "import matplotlib.pyplot as plt\n"
   ],
   "metadata": {
    "collapsed": false,
    "pycharm": {
     "name": "#%%\n"
    }
   }
  },
  {
   "cell_type": "code",
   "execution_count": 23,
   "outputs": [
    {
     "data": {
      "text/plain": "<Figure size 432x288 with 1 Axes>",
      "image/png": "[encoded data removed]"
     },
     "metadata": {
      "needs_background": "light"
     },
     "output_type": "display_data"
    }
   ],
   "source": [
    "scores = []\n",
    "for i in range(1, 11):\n",
    "    model = tree.DecisionTreeRegressor(max_depth=i, random_state=25)\n",
    "    model = model.fit(x_train, y_train)\n",
    "    score = model.score(x_test, y_test)\n",
    "    scores.append(score)\n",
    "plt.plot(range(1, 11), scores, color='red', label='max_depth')\n",
    "plt.legend()\n",
    "plt.show()"
   ],
   "metadata": {
    "collapsed": false,
    "pycharm": {
     "name": "#%%\n"
    }
   }
  },
  {
   "cell_type": "code",
   "execution_count": null,
   "outputs": [],
   "source": [],
   "metadata": {
    "collapsed": false,
    "pycharm": {
     "name": "#%%\n"
    }
   }
  }
 ],
 "metadata": {
  "kernelspec": {
   "name": "pycharm-bb2d6136",
   "language": "python",
   "display_name": "PyCharm (pythonProject)"
  },
  "language_info": {
   "codemirror_mode": {
    "name": "ipython",
    "version": 2
   },
   "file_extension": ".py",
   "mimetype": "text/x-python",
   "name": "python",
   "nbconvert_exporter": "python",
   "pygments_lexer": "ipython2",
   "version": "2.7.6"
  }
 },
 "nbformat": 4,
 "nbformat_minor": 0
}